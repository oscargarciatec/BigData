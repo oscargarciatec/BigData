{
  "cells": [
    {
      "cell_type": "markdown",
      "metadata": {
        "colab_type": "text",
        "id": "view-in-github"
      },
      "source": [
        "<a href=\"https://colab.research.google.com/github/Jarcos09/Tareas/blob/main/Visualizaci%C3%B3n_Equipo_29.ipynb\" target=\"_parent\"><img src=\"https://colab.research.google.com/assets/colab-badge.svg\" alt=\"Open In Colab\"/></a>"
      ]
    },
    {
      "cell_type": "markdown",
      "metadata": {
        "id": "XLo2RHbqcPHa"
      },
      "source": [
        "# 🎓 **Inteligencia Artificial Aplicada**\n",
        "\n",
        "## 🤖 **Análisis de grandes volúmenes de datos (Gpo 10)**\n",
        "\n",
        "### 🏛️ Tecnológico de Monterrey\n",
        "\n",
        "#### 👨‍🏫 **Profesor titular :** Dr. Iván Olmos Pineda\n",
        "#### 👩‍🏫 **Profesor asistente :** Verónica Sandra Guzmán de Valle\n",
        "\n",
        "### 📊 **Actividad 5 | Visualización de Resultados**\n",
        "\n",
        "#### 📅 **15 de junio de 2025**\n",
        "\n",
        "### 👥 Equipo 29\n",
        "\n",
        "* 🧑‍💻 **A01795941 :** Juan Carlos Pérez Nava\n",
        "* 🧑‍💻 **A01016093 :** Oscar Enrique García García\n",
        "* 🧑‍💻 **A01795164 :** Oscar Andrés Ponce Parra\n",
        "\n",
        "\n"
      ]
    },
    {
      "cell_type": "code",
      "execution_count": 1,
      "metadata": {
        "id": "lNK_005tHX9o"
      },
      "outputs": [],
      "source": [
        "# Módulos del sistema para manejo de rutas\n",
        "import os\n",
        "import sys\n",
        "\n",
        "# 🔧 Definición del path para incluir una librería personalizada\n",
        "# Se establece la ruta donde están almacenadas las librerías adicionales que se usarán en el proyecto.\n",
        "module_path = os.path.abspath(os.path.join('proyectos/librerias'))\n",
        "if module_path not in sys.path:\n",
        "    sys.path.append(module_path)\n",
        "\n",
        "# 🎨 Importación de módulos gráficos personalizados\n",
        "# Se usa un módulo externo 'graficas' que contiene funciones para el calculo del IQR\n",
        "from graficas import *\n",
        "\n",
        "# 🏗️ Definición de estructuras de datos en PySpark\n",
        "# Se importan los tipos de datos que se pueden utilizar en las tablas (DataFrame).\n",
        "from pyspark.sql import (\n",
        "    SparkSession, DataFrame\n",
        ")\n",
        "\n",
        "# 🏛️ Funciones SQL de PySpark para manipulación de datos\n",
        "# Estas funciones permiten realizar operaciones como filtrado, agregación y transformación de datos.\n",
        "from pyspark.sql.types import (\n",
        "    StructType, StructField, StringType, IntegerType, DoubleType\n",
        ")\n",
        "\n",
        "# 🚀 Transformaciones de datos con PySpark ML\n",
        "# Se importan herramientas para preprocesamiento, ingeniería de características y normalización.\n",
        "from pyspark.sql.functions import (\n",
        "    col, sum, avg, lit, count, when, format_number, round, rand, countDistinct,\n",
        "    concat\n",
        ")\n",
        "\n",
        "# 🚀 Transformaciones de datos con PySpark ML\n",
        "# Se importan herramientas para preprocesamiento, ingeniería de características y normalización.\n",
        "from pyspark.ml.feature import (\n",
        "    StringIndexer, OneHotEncoder, QuantileDiscretizer,\n",
        "    VectorAssembler, StandardScaler, Imputer\n",
        ")\n",
        "\n",
        "# 📝 Fórmula para modelado en ML usando RFormula\n",
        "# Simplifica la transformación de variables predictoras y objetivos en un solo paso.\n",
        "from pyspark.ml.feature import RFormula\n",
        "\n",
        "# 🌲 Importación del modelo RandomForestClassifier\n",
        "from pyspark.ml.classification import RandomForestClassifier\n",
        "\n",
        "# 🔎 Importación de K-Means para clustering\n",
        "from pyspark.ml.clustering import KMeans\n",
        "\n",
        "# 📊 Evaluación de modelos de Machine Learning\n",
        "# Se importan métricas para evaluar la calidad de los modelos supervisados y no supervisados.\n",
        "from pyspark.ml.evaluation import(    MulticlassClassificationEvaluator, ClusteringEvaluator\n",
        "    )\n",
        "\n",
        "# 🔄 Optimización de modelos mediante validación cruzada y búsqueda de hiperparámetros\n",
        "from pyspark.ml.tuning import (\n",
        "    ParamGridBuilder, CrossValidator\n",
        ")\n",
        "\n",
        "# 🎨 Importación de librerías para visualización de datos\n",
        "import matplotlib.pyplot as plt\n",
        "import seaborn as sns\n",
        "\n",
        "# 📦 Librería para la integración con Kaggle\n",
        "import kagglehub\n",
        "\n",
        "# 🏗️ Manipulación de datos con Pandas\n",
        "import pandas as pd\n",
        "\n",
        "# 🔄 Funciones de programación funcional en Python\n",
        "# 'reduce' permite realizar operaciones acumulativas en estructuras de datos iterables.\n",
        "from functools import reduce"
      ]
    },
    {
      "cell_type": "code",
      "execution_count": 2,
      "metadata": {
        "colab": {
          "base_uri": "https://localhost:8080/"
        },
        "id": "j7RDNtCfV_j8",
        "outputId": "1a1620a6-5dea-4097-e759-4674f8e70a76"
      },
      "outputs": [
        {
          "name": "stdout",
          "output_type": "stream",
          "text": [
            "Path to dataset files: /home/jarcos/.cache/kagglehub/datasets/sobhanmoosavi/us-accidents/versions/13\n"
          ]
        }
      ],
      "source": [
        "path = kagglehub.dataset_download(\"sobhanmoosavi/us-accidents\")\n",
        "print(\"Path to dataset files:\", path)"
      ]
    },
    {
      "cell_type": "code",
      "execution_count": 3,
      "metadata": {
        "colab": {
          "base_uri": "https://localhost:8080/"
        },
        "id": "KzhCy58rgjX1",
        "outputId": "f5988b39-60bf-4dac-a1a8-626da1f94d46"
      },
      "outputs": [
        {
          "name": "stderr",
          "output_type": "stream",
          "text": [
            "Setting default log level to \"WARN\".\n",
            "To adjust logging level use sc.setLogLevel(newLevel). For SparkR, use setLogLevel(newLevel).\n",
            "25/06/09 21:17:23 WARN NativeCodeLoader: Unable to load native-hadoop library for your platform... using builtin-java classes where applicable\n"
          ]
        }
      ],
      "source": [
        "# Creación de una sesión de Spark\n",
        "# Se configura el modo \"local[*]\" para usar todos los núcleos disponibles en la máquina\n",
        "# Se asigna un nombre a la aplicación y se configuran los límites de memoria para el driver y los ejecutores\n",
        "\n",
        "spark = SparkSession.builder.master(\"local[*]\").appName(\"metricas\").config(\"spark.driver.memory\", \"40g\").config(\"spark.executor.memory\", \"20g\").getOrCreate()\n",
        "df_accident = spark.read.option(\"header\", True).option(\"inferSchema\", True).csv(path)\n",
        "spark.sparkContext.setLogLevel(\"ERROR\")"
      ]
    },
    {
      "cell_type": "markdown",
      "metadata": {
        "id": "BZDsQ0zuhJRD"
      },
      "source": [
        "# **1 - Definición de Validación Cruzada**\n",
        "\n",
        "**Etapa 1: Feature Engineering**\n",
        "\n",
        "A lo largo de las actividades, se han realizado particiones considerando, en primer lugar, la severidad del accidente y, posteriormente, las condiciones climáticas. En este ejercicio se analizará la frecuencia de dichas particiones para identificar combinaciones que permitan una distribución homogénea. Por ello, se revisará el estado actual de estos subconjuntos.\n"
      ]
    },
    {
      "cell_type": "code",
      "execution_count": 4,
      "metadata": {
        "colab": {
          "base_uri": "https://localhost:8080/"
        },
        "id": "90X1Pa19yCZP",
        "outputId": "08145b8b-d2a2-4856-8079-74bccd712927"
      },
      "outputs": [
        {
          "name": "stderr",
          "output_type": "stream",
          "text": []
        }
      ],
      "source": [
        "# Definición de las columnas clave que serán utilizadas para el análisis y particionamiento\n",
        "columnas_clave = [\"Temperature(F)\",\"Weather_Condition\",\"Severity\",\"Humidity(%)\",\n",
        "                  \"Pressure(in)\", \"Wind_Direction\",\"Wind_Speed(mph)\",\"Precipitation(in)\",\n",
        "                  \"Crossing\",\"Junction\",\"Railway\",\"Roundabout\",\"Stop\",\"Sunrise_Sunset\",\n",
        "                  \"Traffic_Calming\",\"Traffic_Signal\"]\n",
        "\n",
        "# Escritura del DataFrame en formato Parquet, particionando por las columnas \"Severity\" y \"Weather_Condition\"\n",
        "df_particionada = df_accident.select(columnas_clave)\n",
        "df_particionada.write.mode(\"overwrite\").partitionBy(\"Severity\",\"Weather_Condition\").parquet(\"us_accidents_partitioned\")"
      ]
    },
    {
      "cell_type": "markdown",
      "metadata": {
        "id": "7zuVPSXI21dH"
      },
      "source": [
        "Para generar una partición homogénea con una cantidad significativa de registros, se propone excluir las severidades 1 y 4, ya que representan menos del 1% y 2% del conjunto total, respectivamente. Posteriormente, se seleccionan las condiciones climáticas más predominantes en los accidentes de las severidades restantes, tomando 10,000 registros de cada una, con el objetivo de garantizar condiciones uniformes en cada partición."
      ]
    },
    {
      "cell_type": "code",
      "execution_count": 5,
      "metadata": {
        "id": "HDg_34u8dRtY"
      },
      "outputs": [],
      "source": [
        "# Definir la cantidad de registros a tomar por cada condición climática\n",
        "registros = {\n",
        "    \"Fair\": 10000,\n",
        "    \"Clear\": 10000,\n",
        "    \"Mostly Cloudy\": 10000,\n",
        "    \"Cloudy\": 10000,\n",
        "    \"Partly Cloudy\": 10000,\n",
        "    \"Overcast\": 10000,\n",
        "    \"Light Rain\": 10000\n",
        "}\n",
        "\n",
        "# Obtener la lista de condiciones climáticas disponibles en el diccionario de registros\n",
        "weather_conditions = list(registros.keys())\n",
        "\n",
        "# Definir las severidades de interés\n",
        "severidades = [{'Severity': 2}, {'Severity': 3}]\n",
        "\n",
        "# Crear un diccionario para almacenar los DataFrames filtrados y limitados\n",
        "dfs = {}\n",
        "\n",
        "# Generar un DataFrame por cada valor de severidad con el filtro y límite de condiciones climáticas\n",
        "for severidad in severidades:\n",
        "\n",
        "    clave = f\"Severity_{severidad['Severity']}\"\n",
        "\n",
        "    # Filtrar el DataFrame para mantener solo las filas con la severidad actual y las condiciones climáticas definidas\n",
        "    df_filtrado = df_particionada.filter(\n",
        "        (df_particionada[\"Severity\"] == severidad[\"Severity\"]) &\n",
        "        (df_particionada[\"Weather_Condition\"].isin(weather_conditions))\n",
        "    )\n",
        "\n",
        "    # Aplicar el límite de registros por cada condición climática\n",
        "    df_limitado = df_filtrado.groupBy(\"Weather_Condition\").applyInPandas(\n",
        "        lambda pdf: pdf.iloc[:registros.get(pdf.iloc[0][\"Weather_Condition\"], len(pdf))],  # Selecciona hasta 10,000 registros por condición\n",
        "        schema=df_filtrado.schema  # Mantiene la estructura original del DataFrame\n",
        "    )\n",
        "\n",
        "    # Guardar el DataFrame filtrado y limitado en el diccionario\n",
        "    dfs[clave] = df_limitado\n",
        "\n",
        "# Obtener las claves generadas en el diccionario de DataFrames\n",
        "claves = dfs.keys()"
      ]
    },
    {
      "cell_type": "code",
      "execution_count": 6,
      "metadata": {
        "colab": {
          "base_uri": "https://localhost:8080/"
        },
        "id": "O3dsFeD3d1UP",
        "outputId": "c3a5a9fa-951f-41df-c33d-fa09d27b459b"
      },
      "outputs": [
        {
          "name": "stderr",
          "output_type": "stream",
          "text": []
        },
        {
          "name": "stdout",
          "output_type": "stream",
          "text": [
            "Total de registros en el DataFrame final: \u001b[36m140000\u001b[0m\n"
          ]
        },
        {
          "name": "stderr",
          "output_type": "stream",
          "text": [
            "\r                                                                                \r"
          ]
        }
      ],
      "source": [
        "# Unir todos los DataFrames en uno solo\n",
        "df_muestra = reduce(DataFrame.unionAll, dfs.values())\n",
        "\n",
        "# Contar registros totales para verificar\n",
        "print(f\"Total de registros en el DataFrame final: \\033[36m{df_muestra.count()}\\033[0m\")"
      ]
    },
    {
      "cell_type": "code",
      "execution_count": 7,
      "metadata": {
        "colab": {
          "base_uri": "https://localhost:8080/",
          "height": 630
        },
        "id": "m9c0-FavEmS-",
        "outputId": "470242d7-04bc-4308-a316-51c1527c7fac"
      },
      "outputs": [
        {
          "name": "stderr",
          "output_type": "stream",
          "text": []
        },
        {
          "data": {
            "image/png": "[encoded data removed]",
            "text/plain": [
              "<Figure size 1200x600 with 1 Axes>"
            ]
          },
          "metadata": {},
          "output_type": "display_data"
        }
      ],
      "source": [
        "# Convertir a Pandas DataFrame\n",
        "muestra_pd = df_muestra.select(\"Severity\", \"Weather_Condition\").toPandas()\n",
        "\n",
        "# Configuración de estilo\n",
        "sns.set_style(\"whitegrid\")\n",
        "\n",
        "# Crear la tabla de frecuencia\n",
        "tabla_frecuencia = muestra_pd.groupby([\"Weather_Condition\", \"Severity\"]).size().reset_index(name=\"Count\")\n",
        "\n",
        "# Crear el gráfico\n",
        "plt.figure(figsize=(12, 6))\n",
        "ax = sns.barplot(x=\"Weather_Condition\", y=\"Count\", hue=\"Severity\", data=tabla_frecuencia, palette=\"coolwarm\")\n",
        "\n",
        "# Agregar los valores en cada barra\n",
        "for bars in ax.containers:\n",
        "    ax.bar_label(bars, fmt='%d', label_type='edge', fontsize=10, color='black', padding=3)\n",
        "\n",
        "# Configurar etiquetas y título\n",
        "plt.xticks(rotation=45)\n",
        "plt.xlabel(\"Condición Climática\")\n",
        "plt.ylabel(\"Cantidad de Accidentes\")\n",
        "plt.title(\"Distribución de Condición Climática y Severidad\")\n",
        "\n",
        "# Ajustar la leyenda\n",
        "plt.legend(title=\"Severidad\")\n",
        "\n",
        "# Mostrar el gráfico\n",
        "plt.show()\n"
      ]
    },
    {
      "cell_type": "markdown",
      "metadata": {
        "id": "tzMcfXbtGIPz"
      },
      "source": [
        "**Etapa 2: Procesamiento y Limpieza del Conjunto de Datos**\n"
      ]
    },
    {
      "cell_type": "code",
      "execution_count": 8,
      "metadata": {
        "id": "z3od6x_V7aP-"
      },
      "outputs": [],
      "source": [
        "# Función para obtener un resumen de valores nulos en un DataFrame de PySpark\n",
        "def obten_nulos(particion):\n",
        "\n",
        "  print(f\"📊 Total de filas en la partición: \\033[36m{particion.count()}\\033[0m\")\n",
        "  print(f\"🗂️ Número de columnas en la partición: \\033[36m{len(particion.columns)}\\033[0m\")\n",
        "\n",
        "  info_nulos = {}\n",
        "  cols_nulos = {}\n",
        "  total_rows = particion.count()\n",
        "  registros_totales = particion.count()\n",
        "\n",
        "  # Contar valores nulos por columna y almacenarlos en un DataFrame temporal\n",
        "\n",
        "  cols_nulos = particion.select(\n",
        "    [sum(col(c).isNull().cast(\"int\")).alias(c) for c in particion.columns]\n",
        "    )\n",
        "\n",
        "  # Convertir los resultados en un diccionario para fácil acceso\n",
        "  info_nulos = {c: cols_nulos.select(c).collect()[0][0] for c in particion.columns}\n",
        "\n",
        "  # Filtrar solo las columnas con valores nulos y calcular el porcentaje de nulos\n",
        "  cols_nulos = {c: {\"count\": v, \"percent\": (v / total_rows) * 100} for c, v in info_nulos.items() if v > 0}\n",
        "\n",
        "  # Validar si existen columnas con valores nulos\n",
        "  if not cols_nulos:\n",
        "        print(\"✅ No existen valores nulos en la partición.\")\n",
        "        return\n",
        "\n",
        "  # Crear una lista con los resultados para construir un DataFrame\n",
        "  listado = [(key, value['count'], value['percent']) for key, value in cols_nulos.items()]\n",
        "\n",
        "  # Definir el esquema del DataFrame para almacenar el resumen de valores nulos\n",
        "  schema = StructType([\n",
        "    StructField(\"Columna\", StringType(), True),\n",
        "    StructField(\"Total de nulos\", IntegerType(), True),\n",
        "    StructField(\"Porcentaje\", DoubleType(), True)\n",
        "  ])\n",
        "\n",
        "  df_resumen_nulos = spark.createDataFrame(listado, schema=schema)\n",
        "\n",
        "  for col_name in [c for c, t in df_resumen_nulos.dtypes if t == \"double\"]:\n",
        "      df_resumen_nulos = df_resumen_nulos.withColumn(col_name, round(df_resumen_nulos[col_name], 2))\n",
        "\n",
        "  # Ordenar el DataFrame por el número de valores nulos en orden descendente y mostrarlo en consola\n",
        "  df_resumen_nulos.orderBy(col(\"Total de nulos\").desc()).show(truncate=False)"
      ]
    },
    {
      "cell_type": "code",
      "execution_count": 9,
      "metadata": {
        "id": "PS9ra8pQSM71"
      },
      "outputs": [],
      "source": [
        "# Función para imputar valores faltantes en una partición del conjunto de datos\n",
        "def imputacion_valores(particion):\n",
        "    print(\"✅ Se realiza la imputación utilizando los siguientes valores:\\n\")\n",
        "\n",
        "    # Obtener las modas (valores más frecuentes) de las variables categóricas\n",
        "    moda_Weather = particion.groupBy(\"Weather_Condition\").count().orderBy(col(\"count\").desc()).first()[\"Weather_Condition\"]\n",
        "    moda_wub = particion.groupBy(\"Wind_Direction\").count().orderBy(col(\"count\").desc()).first()[\"Wind_Direction\"]\n",
        "    moda_Sunset = particion.groupBy(\"Sunrise_Sunset\").count().orderBy(col(\"count\").desc()).first()[\"Sunrise_Sunset\"]\n",
        "\n",
        "    # Obtener promedios de las variables numéricas para imputación\n",
        "    media_Temperature = particion.select(round(avg(col(\"Temperature(F)\")), 2).alias(\"avg_temp\")).collect()[0][0]\n",
        "    media_Humidity = particion.select(round(avg(col(\"Humidity(%)\")), 2).alias(\"avg_humidity\")).collect()[0][0]\n",
        "    media_Precipitation = particion.select(round(avg(col(\"Precipitation(in)\")), 2).alias(\"avg_precipitation\")).collect()[0][0]\n",
        "    media_Pressure = particion.select(round(avg(col(\"Pressure(in)\")), 2).alias(\"Pressure(in)\")).collect()[0][0]\n",
        "    media_Wind_Speed = particion.select(round(avg(col(\"Wind_Speed(mph)\")), 2).alias(\"Wind_Speed(mph)\")).collect()[0][0]\n",
        "\n",
        "    # Imprimir valores calculados correctamente\n",
        "    print(f\"🌡️ Temperatura promedio: \\033[36m{media_Temperature}\\033[0m\")\n",
        "    print(f\"💧 Humedad promedio: \\033[36m{media_Humidity}\\033[0m\")\n",
        "    print(f\"🌧️ Precipitación promedio: \\033[36m{media_Precipitation}\\033[0m\")\n",
        "    print(f\"🌬️ Velocidad del viento promedio: \\033[36m{media_Wind_Speed}\\033[0m\")\n",
        "\n",
        "    print(f\"☁️ Condición meteorológica más frecuente: \\033[36m{moda_Weather}\\033[0m\")\n",
        "    print(f\"🌬️ Dirección del viento más frecuente: \\033[36m{moda_wub}\\033[0m\")\n",
        "    print(f\"🌅 Hora de atardecer más frecuente: \\033[36m{moda_Sunset}\\033[0m\")\n",
        "\n",
        "    # Aplicar imputación de valores numéricos con la estrategia de promedio\n",
        "    imputer_num = Imputer(\n",
        "         inputCols=[\"Temperature(F)\", \"Humidity(%)\", \"Precipitation(in)\", \"Wind_Speed(mph)\",\"Pressure(in)\"],\n",
        "         outputCols=[\"Temperature(F)\", \"Humidity(%)\", \"Precipitation(in)\", \"Wind_Speed(mph)\",\"Pressure(in)\"]\n",
        "    ).setStrategy(\"mean\")\n",
        "\n",
        "    particion = imputer_num.fit(particion).transform(particion)\n",
        "\n",
        "    # Imputación de valores categóricos utilizando la moda\n",
        "    particion = particion.na.fill({\n",
        "        \"Weather_Condition\": moda_Weather,\n",
        "        \"Wind_Direction\": moda_wub,\n",
        "        \"Sunrise_Sunset\": moda_Sunset\n",
        "    })\n",
        "\n",
        "    print(\"\\n🔍 Se validan nuevamente los valores nulos para corroborar la imputación.\\n\")\n",
        "\n",
        "    obten_nulos(particion)\n",
        "\n",
        "    for col_name in [c for c, t in particion.dtypes if t == \"double\"]:\n",
        "      particion = particion.withColumn(col_name, round(particion[col_name], 1))\n",
        "\n",
        "    return particion"
      ]
    },
    {
      "cell_type": "code",
      "execution_count": 10,
      "metadata": {
        "colab": {
          "base_uri": "https://localhost:8080/"
        },
        "id": "eMiT-fWeUziL",
        "outputId": "39d083a1-495f-447d-89b4-674959e093f8"
      },
      "outputs": [
        {
          "name": "stdout",
          "output_type": "stream",
          "text": [
            "✅ Se realiza la imputación utilizando los siguientes valores:\n",
            "\n"
          ]
        },
        {
          "name": "stderr",
          "output_type": "stream",
          "text": []
        },
        {
          "name": "stdout",
          "output_type": "stream",
          "text": [
            "🌡️ Temperatura promedio: \u001b[36m65.22\u001b[0m\n",
            "💧 Humedad promedio: \u001b[36m69.46\u001b[0m\n",
            "🌧️ Precipitación promedio: \u001b[36m0.01\u001b[0m\n",
            "🌬️ Velocidad del viento promedio: \u001b[36m8.15\u001b[0m\n",
            "☁️ Condición meteorológica más frecuente: \u001b[36mCloudy\u001b[0m\n",
            "🌬️ Dirección del viento más frecuente: \u001b[36mCalm\u001b[0m\n",
            "🌅 Hora de atardecer más frecuente: \u001b[36mDay\u001b[0m\n"
          ]
        },
        {
          "name": "stderr",
          "output_type": "stream",
          "text": []
        },
        {
          "name": "stdout",
          "output_type": "stream",
          "text": [
            "\n",
            "🔍 Se validan nuevamente los valores nulos para corroborar la imputación.\n",
            "\n"
          ]
        },
        {
          "name": "stderr",
          "output_type": "stream",
          "text": []
        },
        {
          "name": "stdout",
          "output_type": "stream",
          "text": [
            "📊 Total de filas en la partición: \u001b[36m140000\u001b[0m\n",
            "🗂️ Número de columnas en la partición: \u001b[36m16\u001b[0m\n"
          ]
        },
        {
          "name": "stderr",
          "output_type": "stream",
          "text": []
        },
        {
          "name": "stdout",
          "output_type": "stream",
          "text": [
            "✅ No existen valores nulos en la partición.\n"
          ]
        },
        {
          "name": "stderr",
          "output_type": "stream",
          "text": [
            "\r                                                                                \r"
          ]
        }
      ],
      "source": [
        "muestra_imp = imputacion_valores(df_muestra)"
      ]
    },
    {
      "cell_type": "markdown",
      "metadata": {
        "id": "QeMgu_XF_rgc"
      },
      "source": [
        "Para detectar valores atípicos en las columnas numéricas seleccionadas, se utiliza el método del rango intercuartílico (IQR), que permite identificar aquellos valores que se desvían del rango esperado en cada columna."
      ]
    },
    {
      "cell_type": "code",
      "execution_count": 11,
      "metadata": {
        "colab": {
          "base_uri": "https://localhost:8080/",
          "height": 237
        },
        "id": "nL90UIDBxvvf",
        "outputId": "a5a3eab6-6a90-48dc-d1e3-e5971fa7f2ac"
      },
      "outputs": [
        {
          "name": "stderr",
          "output_type": "stream",
          "text": []
        },
        {
          "data": {
            "text/html": [
              "<div>\n",
              "<style scoped>\n",
              "    .dataframe tbody tr th:only-of-type {\n",
              "        vertical-align: middle;\n",
              "    }\n",
              "\n",
              "    .dataframe tbody tr th {\n",
              "        vertical-align: top;\n",
              "    }\n",
              "\n",
              "    .dataframe thead th {\n",
              "        text-align: right;\n",
              "    }\n",
              "</style>\n",
              "<table border=\"1\" class=\"dataframe\">\n",
              "  <thead>\n",
              "    <tr style=\"text-align: right;\">\n",
              "      <th></th>\n",
              "      <th>IQR</th>\n",
              "      <th>Límite Inf.</th>\n",
              "      <th>Límite Sup.</th>\n",
              "    </tr>\n",
              "    <tr>\n",
              "      <th>Columna</th>\n",
              "      <th></th>\n",
              "      <th></th>\n",
              "      <th></th>\n",
              "    </tr>\n",
              "  </thead>\n",
              "  <tbody>\n",
              "    <tr>\n",
              "      <th>Precipitation(in)</th>\n",
              "      <td>0.0</td>\n",
              "      <td>0.00</td>\n",
              "      <td>0.00</td>\n",
              "    </tr>\n",
              "    <tr>\n",
              "      <th>Temperature(F)</th>\n",
              "      <td>20.0</td>\n",
              "      <td>25.90</td>\n",
              "      <td>105.90</td>\n",
              "    </tr>\n",
              "    <tr>\n",
              "      <th>Humidity(%)</th>\n",
              "      <td>30.0</td>\n",
              "      <td>11.00</td>\n",
              "      <td>131.00</td>\n",
              "    </tr>\n",
              "    <tr>\n",
              "      <th>Wind_Speed(mph)</th>\n",
              "      <td>5.4</td>\n",
              "      <td>-3.10</td>\n",
              "      <td>18.50</td>\n",
              "    </tr>\n",
              "    <tr>\n",
              "      <th>Pressure(in)</th>\n",
              "      <td>0.3</td>\n",
              "      <td>29.35</td>\n",
              "      <td>30.55</td>\n",
              "    </tr>\n",
              "  </tbody>\n",
              "</table>\n",
              "</div>"
            ],
            "text/plain": [
              "                    IQR  Límite Inf.  Límite Sup.\n",
              "Columna                                          \n",
              "Precipitation(in)   0.0         0.00         0.00\n",
              "Temperature(F)     20.0        25.90       105.90\n",
              "Humidity(%)        30.0        11.00       131.00\n",
              "Wind_Speed(mph)     5.4        -3.10        18.50\n",
              "Pressure(in)        0.3        29.35        30.55"
            ]
          },
          "execution_count": 11,
          "metadata": {},
          "output_type": "execute_result"
        }
      ],
      "source": [
        "outliers = calcular_IQR(muestra_imp,['Precipitation(in)','Temperature(F)','Humidity(%)','Wind_Speed(mph)','Pressure(in)'])\n",
        "outliers"
      ]
    },
    {
      "cell_type": "code",
      "execution_count": 12,
      "metadata": {
        "colab": {
          "base_uri": "https://localhost:8080/"
        },
        "id": "Ik_Vc3ihHYhz",
        "outputId": "82f34835-f9b4-4f66-bc83-91c82f1c53c0"
      },
      "outputs": [
        {
          "name": "stderr",
          "output_type": "stream",
          "text": []
        }
      ],
      "source": [
        "for index, row in outliers.iterrows():\n",
        "    columna = index\n",
        "    limite_inf = row[\"Límite Inf.\"]\n",
        "    limite_sup = row[\"Límite Sup.\"]\n",
        "\n",
        "    columnas_IQR = f\"`{columna}`\"\n",
        "\n",
        "    # Aplicar una transformación a la columna para reemplazar valores atípicos\n",
        "    # Si un valor está fuera de los límites establecidos, se sustituye por el promedio de la columna\n",
        "    # En caso contrario, se conserva el valor original\n",
        "    muestra_imp = muestra_imp.withColumn(columna, when((col(columna) < limite_inf) | (col(columna) > limite_sup), muestra_imp.selectExpr(f\"avg({columnas_IQR})\").collect()[0][0])\n",
        "        .otherwise(col(columna))\n",
        "    )\n"
      ]
    },
    {
      "cell_type": "markdown",
      "metadata": {
        "id": "25KBMT1kBx07"
      },
      "source": [
        "Se imprime un resumen de las estadísticas descriptivas de los valores numéricos, proporcionando métricas clave para su verficacion."
      ]
    },
    {
      "cell_type": "code",
      "execution_count": 13,
      "metadata": {
        "colab": {
          "base_uri": "https://localhost:8080/"
        },
        "id": "qKgWX__U5Rxk",
        "outputId": "aeb3f9a5-0e51-4f19-b902-e63df5f9db44"
      },
      "outputs": [
        {
          "name": "stderr",
          "output_type": "stream",
          "text": []
        },
        {
          "name": "stdout",
          "output_type": "stream",
          "text": [
            "+-------+------------------+-----------------+------------------+------------------+------------------+--------------+------------------+--------------------+--------------+\n",
            "|summary|    Temperature(F)|Weather_Condition|          Severity|       Humidity(%)|      Pressure(in)|Wind_Direction|   Wind_Speed(mph)|   Precipitation(in)|Sunrise_Sunset|\n",
            "+-------+------------------+-----------------+------------------+------------------+------------------+--------------+------------------+--------------------+--------------+\n",
            "|  count|            140000|           140000|            140000|            140000|            140000|        140000|            140000|              140000|        140000|\n",
            "|   mean| 65.79846440924454|             NULL|               2.5| 69.63205350112243|29.937271497784945|          NULL| 7.859640492423623|1.688425306122476E-4|          NULL|\n",
            "| stddev|14.371687150802224|             NULL|0.5000017857238522|20.563527846658314|0.1915637539781627|          NULL|3.8651214279526704|9.026327370920543E-4|          NULL|\n",
            "|    min|              25.9|            Clear|                 2|              11.0|              29.4|          CALM|               0.0|                 0.0|           Day|\n",
            "|    max|             105.1|    Partly Cloudy|                 3|             100.0|              30.5|          West|              18.4|0.004994285714285663|         Night|\n",
            "+-------+------------------+-----------------+------------------+------------------+------------------+--------------+------------------+--------------------+--------------+\n",
            "\n"
          ]
        },
        {
          "name": "stderr",
          "output_type": "stream",
          "text": [
            "\r                                                                                \r"
          ]
        }
      ],
      "source": [
        "muestra_imp.describe().show()"
      ]
    },
    {
      "cell_type": "markdown",
      "metadata": {
        "id": "_vC5PuM4Npf6"
      },
      "source": [
        "**Etapa 3: Generación de Vectores de Características**\n",
        "\n",
        "Se crea el vector de características utilizando RFormula, que permite transformar los datos de manera estructurada para su uso en modelos de aprendizaje automático."
      ]
    },
    {
      "cell_type": "code",
      "execution_count": 14,
      "metadata": {
        "colab": {
          "base_uri": "https://localhost:8080/"
        },
        "id": "Qw7LDYSy70wi",
        "outputId": "1d463d3a-bdd8-4b52-f479-71f4fa3e9f9e"
      },
      "outputs": [
        {
          "name": "stderr",
          "output_type": "stream",
          "text": []
        },
        {
          "name": "stdout",
          "output_type": "stream",
          "text": [
            "+--------------+-----------------+--------+-----------+------------------+--------------+---------------+-----------------+--------+--------+-------+----------+-----+--------------+---------------+--------------+--------------------+-----+\n",
            "|Temperature(F)|Weather_Condition|Severity|Humidity(%)|      Pressure(in)|Wind_Direction|Wind_Speed(mph)|Precipitation(in)|Crossing|Junction|Railway|Roundabout| Stop|Sunrise_Sunset|Traffic_Calming|Traffic_Signal|            features|label|\n",
            "+--------------+-----------------+--------+-----------+------------------+--------------+---------------+-----------------+--------+--------+-------+----------+-----+--------------+---------------+--------------+--------------------+-----+\n",
            "|          49.0|           Cloudy|       2|      100.0|29.801319285714076|             E|           10.0|              0.0|   false|   false|  false|     false|false|           Day|          false|         false|(42,[0,2,7,8,32,3...|  2.0|\n",
            "|          63.0|           Cloudy|       2|       90.0|29.801319285714076|             E|            5.0|              0.0|   false|   false|  false|     false|false|         Night|          false|         false|(42,[0,2,7,8,32],...|  2.0|\n",
            "|          62.0|           Cloudy|       2|       86.0|29.801319285714076|           VAR|            3.0|              0.0|   false|   false|  false|     false|false|         Night|          false|          true|(42,[0,2,7,8,30,3...|  2.0|\n",
            "|          54.0|           Cloudy|       2|       80.0|29.801319285714076|          CALM|            0.0|              0.0|   false|    true|  false|     false|false|         Night|          false|         false|(42,[0,2,7,8,16,3...|  2.0|\n",
            "|          50.0|           Cloudy|       2|       74.0|29.801319285714076|          CALM|            0.0|              0.0|   false|   false|  false|     false|false|           Day|          false|         false|(42,[0,2,7,8,16,3...|  2.0|\n",
            "+--------------+-----------------+--------+-----------+------------------+--------------+---------------+-----------------+--------+--------+-------+----------+-----+--------------+---------------+--------------+--------------------+-----+\n",
            "only showing top 5 rows\n",
            "\n"
          ]
        },
        {
          "name": "stderr",
          "output_type": "stream",
          "text": [
            "\r[Stage 417:>                                                        (0 + 1) / 1]\r\r                                                                                \r"
          ]
        }
      ],
      "source": [
        "# \"Severity ~ .\" indica que 'Severity' es la variable dependiente y el resto son predictoras\n",
        "rForm = RFormula(formula=\"Severity ~ .\")\n",
        "\n",
        "# Ajustar el modelo RFormula al DataFrame de entrada\n",
        "muestra_RF = rForm.fit(muestra_imp)\n",
        "\n",
        "# Transformar el DataFrame para preparar los datos según la fórmula aplicada\n",
        "muestra_preparadaRF = muestra_RF.transform(muestra_imp)\n",
        "\n",
        "# Mostrar las primeras 5 filas del DataFrame transformado\n",
        "muestra_preparadaRF.show(5)"
      ]
    },
    {
      "cell_type": "code",
      "execution_count": 15,
      "metadata": {
        "colab": {
          "base_uri": "https://localhost:8080/"
        },
        "id": "dtLo1VWMyaBt",
        "outputId": "c36a0eb9-0b9b-4403-c3cc-44ea62e7d859"
      },
      "outputs": [
        {
          "name": "stdout",
          "output_type": "stream",
          "text": [
            "root\n",
            " |-- Temperature(F): double (nullable = true)\n",
            " |-- Weather_Condition: string (nullable = false)\n",
            " |-- Severity: integer (nullable = true)\n",
            " |-- Humidity(%): double (nullable = true)\n",
            " |-- Pressure(in): double (nullable = true)\n",
            " |-- Wind_Direction: string (nullable = false)\n",
            " |-- Wind_Speed(mph): double (nullable = true)\n",
            " |-- Precipitation(in): double (nullable = true)\n",
            " |-- Crossing: boolean (nullable = true)\n",
            " |-- Junction: boolean (nullable = true)\n",
            " |-- Railway: boolean (nullable = true)\n",
            " |-- Roundabout: boolean (nullable = true)\n",
            " |-- Stop: boolean (nullable = true)\n",
            " |-- Sunrise_Sunset: string (nullable = false)\n",
            " |-- Traffic_Calming: boolean (nullable = true)\n",
            " |-- Traffic_Signal: boolean (nullable = true)\n",
            " |-- features: vector (nullable = true)\n",
            " |-- label: double (nullable = true)\n",
            "\n"
          ]
        }
      ],
      "source": [
        "muestra_preparadaRF.printSchema()"
      ]
    },
    {
      "cell_type": "markdown",
      "metadata": {
        "id": "bkIQuXvbbTv_"
      },
      "source": [
        "**Etapa 4: Creación de Conjuntos de Entrenamiento y Prueba**"
      ]
    },
    {
      "cell_type": "code",
      "execution_count": 16,
      "metadata": {
        "colab": {
          "base_uri": "https://localhost:8080/"
        },
        "id": "ny_j4HIPIeQV",
        "outputId": "535d277c-72cb-4952-d198-5f766a8ab201"
      },
      "outputs": [
        {
          "name": "stderr",
          "output_type": "stream",
          "text": []
        },
        {
          "name": "stdout",
          "output_type": "stream",
          "text": [
            "Número de registros: \u001b[36m140,000\u001b[0m\n"
          ]
        },
        {
          "name": "stderr",
          "output_type": "stream",
          "text": [
            "\r                                                                                \r"
          ]
        }
      ],
      "source": [
        "print(f\"Número de registros: \\033[36m{muestra_preparadaRF.count():,}\\033[0m\")"
      ]
    },
    {
      "cell_type": "markdown",
      "metadata": {
        "id": "rZOaJ7JQJ9ZM"
      },
      "source": [
        "**Muestreo estratificado**"
      ]
    },
    {
      "cell_type": "markdown",
      "metadata": {
        "id": "W1meXAfW02eH"
      },
      "source": [
        " El muestreo estratificado es una técnica de selección de datos donde se agrupan las observaciones en estratos antes de extraer una muestra representativa de cada uno, siendo util para:\n",
        "\n",
        "✅**Garantiza representatividad**: Cada condición climática y nivel de severidad tendrá una proporción similar en la muestra.\n",
        "\n",
        "✅**Evita sesgos**: Permite que todas las categorías del dataset estén bien representadas.\n",
        "\n",
        "✅**Mejora la calidad del modelo**: Si las clases están desbalanceadas, esto ayuda a equilibrarlas antes del entrenamiento.\n"
      ]
    },
    {
      "cell_type": "code",
      "execution_count": 17,
      "metadata": {
        "colab": {
          "base_uri": "https://localhost:8080/"
        },
        "id": "iKFPJRIVLU7G",
        "outputId": "146c65c2-25b8-4e5c-aff6-c685a1428c72"
      },
      "outputs": [
        {
          "name": "stderr",
          "output_type": "stream",
          "text": []
        },
        {
          "name": "stdout",
          "output_type": "stream",
          "text": [
            "+--------------+-----------------+--------+-----------+------------------+--------------+---------------+-----------------+--------+--------+-------+----------+-----+--------------+---------------+--------------+--------------------+-----+--------+\n",
            "|Temperature(F)|Weather_Condition|Severity|Humidity(%)|      Pressure(in)|Wind_Direction|Wind_Speed(mph)|Precipitation(in)|Crossing|Junction|Railway|Roundabout| Stop|Sunrise_Sunset|Traffic_Calming|Traffic_Signal|            features|label| stratum|\n",
            "+--------------+-----------------+--------+-----------+------------------+--------------+---------------+-----------------+--------+--------+-------+----------+-----+--------------+---------------+--------------+--------------------+-----+--------+\n",
            "|          49.0|           Cloudy|       2|      100.0|29.801319285714076|             E|           10.0|              0.0|   false|   false|  false|     false|false|           Day|          false|         false|(42,[0,2,7,8,32,3...|  2.0|Cloudy_2|\n",
            "|          63.0|           Cloudy|       2|       90.0|29.801319285714076|             E|            5.0|              0.0|   false|   false|  false|     false|false|         Night|          false|         false|(42,[0,2,7,8,32],...|  2.0|Cloudy_2|\n",
            "|          62.0|           Cloudy|       2|       86.0|29.801319285714076|           VAR|            3.0|              0.0|   false|   false|  false|     false|false|         Night|          false|          true|(42,[0,2,7,8,30,3...|  2.0|Cloudy_2|\n",
            "|          54.0|           Cloudy|       2|       80.0|29.801319285714076|          CALM|            0.0|              0.0|   false|    true|  false|     false|false|         Night|          false|         false|(42,[0,2,7,8,16,3...|  2.0|Cloudy_2|\n",
            "|          50.0|           Cloudy|       2|       74.0|29.801319285714076|          CALM|            0.0|              0.0|   false|   false|  false|     false|false|           Day|          false|         false|(42,[0,2,7,8,16,3...|  2.0|Cloudy_2|\n",
            "+--------------+-----------------+--------+-----------+------------------+--------------+---------------+-----------------+--------+--------+-------+----------+-----+--------------+---------------+--------------+--------------------+-----+--------+\n",
            "only showing top 5 rows\n",
            "\n"
          ]
        },
        {
          "name": "stderr",
          "output_type": "stream",
          "text": [
            "\r                                                                                \r"
          ]
        }
      ],
      "source": [
        "# 🔧 Crear una nueva columna llamada 'stratum'\n",
        "# Combina la condición climática y la severidad, separadas por un guion bajo (\"_\")\n",
        "# Esto ayuda a generar una categoría compuesta útil para análisis estratificados\n",
        "\n",
        "muestra_preparadaRF_stratum = muestra_preparadaRF.withColumn(\"stratum\", concat(muestra_preparadaRF[\"Weather_Condition\"], lit(\"_\"), muestra_preparadaRF[\"Severity\"]))\n",
        "muestra_preparadaRF_stratum.show(5)"
      ]
    },
    {
      "cell_type": "code",
      "execution_count": 18,
      "metadata": {
        "colab": {
          "base_uri": "https://localhost:8080/"
        },
        "id": "Cf9wjekBF5a2",
        "outputId": "b84cadfc-40a9-4572-dc02-b7daaa85f609"
      },
      "outputs": [
        {
          "name": "stderr",
          "output_type": "stream",
          "text": []
        },
        {
          "name": "stdout",
          "output_type": "stream",
          "text": [
            "[Row(Weather_Condition='Cloudy', count=20000), Row(Weather_Condition='Clear', count=20000), Row(Weather_Condition='Partly Cloudy', count=20000), Row(Weather_Condition='Fair', count=20000), Row(Weather_Condition='Mostly Cloudy', count=20000), Row(Weather_Condition='Light Rain', count=20000), Row(Weather_Condition='Overcast', count=20000)]\n",
            "[Row(Severity=2, count=70000), Row(Severity=3, count=70000)]\n",
            "[Row(Weather_Condition='Cloudy', Severity=2, count=10000), Row(Weather_Condition='Partly Cloudy', Severity=2, count=10000), Row(Weather_Condition='Clear', Severity=2, count=10000), Row(Weather_Condition='Fair', Severity=2, count=10000), Row(Weather_Condition='Mostly Cloudy', Severity=2, count=10000), Row(Weather_Condition='Light Rain', Severity=2, count=10000), Row(Weather_Condition='Overcast', Severity=2, count=10000), Row(Weather_Condition='Cloudy', Severity=3, count=10000), Row(Weather_Condition='Clear', Severity=3, count=10000), Row(Weather_Condition='Partly Cloudy', Severity=3, count=10000), Row(Weather_Condition='Fair', Severity=3, count=10000), Row(Weather_Condition='Mostly Cloudy', Severity=3, count=10000), Row(Weather_Condition='Light Rain', Severity=3, count=10000), Row(Weather_Condition='Overcast', Severity=3, count=10000)]\n",
            "[Row(stratum='Cloudy_2', count=10000), Row(stratum='Clear_2', count=10000), Row(stratum='Partly Cloudy_2', count=10000), Row(stratum='Fair_2', count=10000), Row(stratum='Mostly Cloudy_2', count=10000), Row(stratum='Light Rain_2', count=10000), Row(stratum='Overcast_2', count=10000), Row(stratum='Cloudy_3', count=10000), Row(stratum='Partly Cloudy_3', count=10000), Row(stratum='Clear_3', count=10000), Row(stratum='Fair_3', count=10000), Row(stratum='Mostly Cloudy_3', count=10000), Row(stratum='Light Rain_3', count=10000), Row(stratum='Overcast_3', count=10000)]\n"
          ]
        },
        {
          "name": "stderr",
          "output_type": "stream",
          "text": [
            "\r                                                                                \r"
          ]
        }
      ],
      "source": [
        "# 📊 Contar ocurrencias por condición climática\n",
        "# Agrupa el DataFrame por la columna 'Weather_Condition' y cuenta cuántas instancias hay por cada tipo de clima\n",
        "stratum_counts_weather = muestra_preparadaRF_stratum.groupBy(\"Weather_Condition\").count().collect()\n",
        "\n",
        "# 📊 Contar ocurrencias por nivel de severidad\n",
        "# Agrupa por la columna 'Severity' para conocer cuántos registros hay por nivel de gravedad\n",
        "stratum_counts_severity = muestra_preparadaRF_stratum.groupBy(\"Severity\").count().collect()\n",
        "\n",
        "# 📊 Conteo combinado por condición climática y severidad\n",
        "# Permite analizar la distribución cruzada entre clima y nivel de severidad\n",
        "stratum_counts_combinado_a = muestra_preparadaRF_stratum.groupBy(\"Weather_Condition\",\"Severity\").count().collect()\n",
        "\n",
        "# 📊 Conteo por la columna 'stratum', que une clima y severidad en un solo identificador\n",
        "# Sirve para analizar los estratos personalizados creados previamente\n",
        "stratum_counts_combinado = muestra_preparadaRF_stratum.groupBy(\"stratum\").count().collect()\n",
        "\n",
        "# 🖨️ Mostrar los resultados\n",
        "print(stratum_counts_weather)       # Lista de tuplas con el conteo por clima\n",
        "print(stratum_counts_severity)      # Lista de tuplas con el conteo por severidad\n",
        "print(stratum_counts_combinado_a)   # Lista de tuplas con conteos combinados clima-severidad\n",
        "print(stratum_counts_combinado)     # Lista con conteos por cada combinación única de 'stratum'\n"
      ]
    },
    {
      "cell_type": "markdown",
      "metadata": {
        "id": "tNZO_V0w1347"
      },
      "source": [
        "📊 Informe de Distribución de Datos\n",
        "\n",
        "🔹 Distribución de las Condiciones Climáticas\n",
        "\n",
        "Cada condición climática tiene 20,000 registros, lo que indica una distribución uniforme en el conjunto de datos. No hay predominancia de ninguna categoría, asegurando una representación equilibrada.\n",
        "\n",
        "🔹 Gravedad de los Eventos\n",
        "\n",
        "Los eventos se dividen en dos niveles de severidad (2 y 3), con 70,000 registros asignados a cada uno. Esto muestra un balance entre ambas categorías, evitando sesgos en la severidad de los casos.\n",
        "\n",
        "🔹 Relación entre Clima y Severidad\n",
        "\n",
        "Cada condición climática se asocia con 10,000 registros de severidad 2 y 10,000 registros de severidad 3. Este patrón sugiere que la distribución entre condiciones climáticas y severidad es equilibrada, sin tendencias hacia un nivel de severidad específico.\n",
        "\n",
        "🔹 Estratificación del Clima y Severidad\n",
        "\n",
        "Los estratos creados mediante la combinación de Condición Climática y Severidad (Weather_Condition + Severity) tienen 10,000 registros cada uno, asegurando una distribución simétrica dentro del conjunto de datos.\n"
      ]
    },
    {
      "cell_type": "code",
      "execution_count": 19,
      "metadata": {
        "colab": {
          "base_uri": "https://localhost:8080/"
        },
        "id": "lgdpwzT0Ywv2",
        "outputId": "62ef8815-bf01-4346-e34c-312578aaa995"
      },
      "outputs": [
        {
          "name": "stderr",
          "output_type": "stream",
          "text": []
        }
      ],
      "source": [
        "# Calcular el total de registros\n",
        "total_count = muestra_preparadaRF_stratum.count()\n",
        "\n",
        "# Calcular la fracción de muestreo (por ejemplo, para obtener un 30% del total)\n",
        "stratum_fractions_df = muestra_preparadaRF_stratum.groupBy(\"stratum\") \\\n",
        "    .agg((count(\"*\") / total_count * 0.3).alias(\"fraction\"))\n",
        "\n",
        "# Convertir el DataFrame a un diccionario para sampleBy()\n",
        "stratum_fractions = {row[\"stratum\"]: row[\"fraction\"] for row in stratum_fractions_df.collect()}"
      ]
    },
    {
      "cell_type": "code",
      "execution_count": 20,
      "metadata": {
        "colab": {
          "base_uri": "https://localhost:8080/"
        },
        "id": "VaFpObXzcfeA",
        "outputId": "e88f2003-0c47-4212-f1f8-325f21c39196"
      },
      "outputs": [
        {
          "name": "stderr",
          "output_type": "stream",
          "text": []
        },
        {
          "name": "stdout",
          "output_type": "stream",
          "text": [
            "📊 Resumen de la división de datos:\n",
            "🔹 Conjunto de entrenamiento: \u001b[36m41,886\u001b[0m instancias (\u001b[36m29.94%\u001b[0m)\n",
            "🔹 Conjunto de prueba: \u001b[36m98,024\u001b[0m instancias (\u001b[36m70.06%\u001b[0m)\n"
          ]
        },
        {
          "name": "stderr",
          "output_type": "stream",
          "text": []
        },
        {
          "name": "stdout",
          "output_type": "stream",
          "text": [
            "+--------------+-----------------+--------+-----------+------------------+--------------+---------------+-----------------+--------+--------+-------+----------+-----+--------------+---------------+--------------+--------------------+-----+--------+\n",
            "|Temperature(F)|Weather_Condition|Severity|Humidity(%)|      Pressure(in)|Wind_Direction|Wind_Speed(mph)|Precipitation(in)|Crossing|Junction|Railway|Roundabout| Stop|Sunrise_Sunset|Traffic_Calming|Traffic_Signal|            features|label| stratum|\n",
            "+--------------+-----------------+--------+-----------+------------------+--------------+---------------+-----------------+--------+--------+-------+----------+-----+--------------+---------------+--------------+--------------------+-----+--------+\n",
            "|          57.0|           Cloudy|       2|      100.0|29.801319285714076|           WNW|            6.0|              0.0|   false|   false|  false|     false|false|         Night|          false|         false|(42,[0,2,7,8,11,3...|  2.0|Cloudy_2|\n",
            "|          72.0|           Cloudy|       2|       84.0|              29.4|            NE|            5.0|              0.0|   false|   false|  false|     false|false|         Night|          false|         false|(42,[0,2,7,8,26,3...|  2.0|Cloudy_2|\n",
            "|          72.0|           Cloudy|       2|       84.0|              29.4|            NE|            5.0|              0.0|   false|   false|  false|     false|false|         Night|          false|         false|(42,[0,2,7,8,26,3...|  2.0|Cloudy_2|\n",
            "|          61.0|           Cloudy|       2|       93.0|              30.0|            NE|           16.0|              0.0|   false|   false|  false|     false|false|           Day|          false|         false|(42,[0,2,7,8,26,3...|  2.0|Cloudy_2|\n",
            "|          76.0|           Cloudy|       2|       91.0|              29.8|            NE|            3.0|              0.0|   false|   false|  false|     false|false|           Day|          false|         false|(42,[0,2,7,8,26,3...|  2.0|Cloudy_2|\n",
            "+--------------+-----------------+--------+-----------+------------------+--------------+---------------+-----------------+--------+--------+-------+----------+-----+--------------+---------------+--------------+--------------------+-----+--------+\n",
            "only showing top 5 rows\n",
            "\n"
          ]
        },
        {
          "name": "stderr",
          "output_type": "stream",
          "text": []
        },
        {
          "name": "stdout",
          "output_type": "stream",
          "text": [
            "+--------------+-----------------+--------+-----------+------------------+--------------+---------------+-----------------+--------+--------+-------+----------+-----+--------------+---------------+--------------+--------------------+-----+--------+\n",
            "|Temperature(F)|Weather_Condition|Severity|Humidity(%)|      Pressure(in)|Wind_Direction|Wind_Speed(mph)|Precipitation(in)|Crossing|Junction|Railway|Roundabout| Stop|Sunrise_Sunset|Traffic_Calming|Traffic_Signal|            features|label| stratum|\n",
            "+--------------+-----------------+--------+-----------+------------------+--------------+---------------+-----------------+--------+--------+-------+----------+-----+--------------+---------------+--------------+--------------------+-----+--------+\n",
            "|          54.0|           Cloudy|       2|       80.0|29.801319285714076|          CALM|            0.0|              0.0|   false|    true|  false|     false|false|         Night|          false|         false|(42,[0,2,7,8,16,3...|  2.0|Cloudy_2|\n",
            "|          61.0|           Cloudy|       2|       70.0|29.801319285714076|           WNW|            5.0|              0.0|   false|   false|  false|     false|false|         Night|          false|         false|(42,[0,2,7,8,11,3...|  2.0|Cloudy_2|\n",
            "|          56.0|           Cloudy|       2|       90.0|29.801319285714076|             S|           12.0|              0.0|   false|   false|  false|     false|false|           Day|          false|         false|(42,[0,2,7,8,27,3...|  2.0|Cloudy_2|\n",
            "|          50.0|           Cloudy|       2|       93.0|29.801319285714076|            SE|           13.0|              0.0|   false|   false|  false|     false|false|         Night|          false|          true|(42,[0,2,7,8,19,3...|  2.0|Cloudy_2|\n",
            "|          55.0|           Cloudy|       2|      100.0|29.801319285714076|            SE|            8.0|              0.0|   false|   false|  false|     false|false|           Day|          false|         false|(42,[0,2,7,8,19,3...|  2.0|Cloudy_2|\n",
            "+--------------+-----------------+--------+-----------+------------------+--------------+---------------+-----------------+--------+--------+-------+----------+-----+--------------+---------------+--------------+--------------------+-----+--------+\n",
            "only showing top 5 rows\n",
            "\n"
          ]
        },
        {
          "name": "stderr",
          "output_type": "stream",
          "text": [
            "\r[Stage 522:>                                                        (0 + 1) / 1]\r\r                                                                                \r"
          ]
        }
      ],
      "source": [
        "# 📊 Muestreo aleatorio para crear el conjunto de prueba\n",
        "# Se selecciona aproximadamente el 30% de los datos de muestra_preparadaRF_stratum\n",
        "# La semilla (seed=42) garantiza que el muestreo sea reproducible.\n",
        "test_data_stratum = muestra_preparadaRF_stratum.sample(fraction=0.3, seed=42)\n",
        "\n",
        "# 🔄 Creación del conjunto de entrenamiento\n",
        "# Se toman los datos que NO fueron seleccionados en test_data_stratum\n",
        "train_data_stratum = muestra_preparadaRF_stratum.exceptAll(test_data_stratum)\n",
        "\n",
        "\n",
        "\n",
        "# 📋 Contar el número de instancias en cada conjunto\n",
        "train_count = test_data_stratum.count()   # Número de registros en el conjunto de entrenamiento\n",
        "test_count = train_data_stratum.count()   # Número de registros en el conjunto de prueba\n",
        "total_count = train_count + test_count    # Total de registros sumando ambos conjuntos\n",
        "\n",
        "\n",
        "# 📈 Calcular los porcentajes de cada conjunto respecto al total\n",
        "train_percentage = (train_count / total_count) * 100\n",
        "test_percentage = (test_count / total_count) * 100\n",
        "\n",
        "\n",
        "# Imprimir resultados\n",
        "print(f\"\"\"📊 Resumen de la división de datos:\n",
        "🔹 Conjunto de entrenamiento: \\033[36m{train_count:,}\\033[0m instancias (\\033[36m{train_percentage:.2f}%\\033[0m)\n",
        "🔹 Conjunto de prueba: \\033[36m{test_count:,}\\033[0m instancias (\\033[36m{test_percentage:.2f}%\\033[0m)\"\"\")\n",
        "\n",
        "# 👀 Mostrar las primeras 5 filas de cada conjunto\n",
        "train_data_stratum.show(5)\n",
        "test_data_stratum.show(5)\n"
      ]
    },
    {
      "cell_type": "markdown",
      "metadata": {
        "id": "hF-zCFysccsa"
      },
      "source": [
        "# **2 - Construcción de los *k-folds***"
      ]
    },
    {
      "cell_type": "code",
      "execution_count": 21,
      "metadata": {
        "id": "KYS9vPMCpNqk"
      },
      "outputs": [],
      "source": [
        "# 📊 Evaluador de Accuracy\n",
        "# Mide el porcentaje de predicciones correctas sobre el total de instancias.\n",
        "accuracy = MulticlassClassificationEvaluator(labelCol=\"label\", predictionCol=\"prediction\", metricName=\"accuracy\")\n",
        "\n",
        "# 🎯 Evaluador de Precision Ponderada\n",
        "# Evalúa qué tan preciso es el modelo en la clasificación de cada categoría.\n",
        "# Considera la cantidad de falsos positivos y ajusta el cálculo según el peso de cada clase.\n",
        "precision = MulticlassClassificationEvaluator(labelCol=\"label\", predictionCol=\"prediction\", metricName=\"weightedPrecision\")\n",
        "\n",
        "# 🔄 Evaluador de Recall Ponderado\n",
        "# Mide cuántas instancias de cada clase fueron correctamente identificadas por el modelo.\n",
        "# Es útil para conocer qué tan bien reconoce la presencia de cada categoría.\n",
        "recall = MulticlassClassificationEvaluator(labelCol=\"label\", predictionCol=\"prediction\", metricName=\"weightedRecall\")\n",
        "\n",
        "# ⚖ Evaluador de F1-Score\n",
        "# Combina precisión y recall en una sola métrica, proporcionando un equilibrio entre ambos.\n",
        "# Ideal para evaluar modelos cuando hay clases desbalanceadas\n",
        "f1_score = MulticlassClassificationEvaluator(labelCol=\"label\", predictionCol=\"prediction\", metricName=\"f1\")"
      ]
    },
    {
      "cell_type": "code",
      "execution_count": 22,
      "metadata": {
        "id": "9JRM7uZa0xxd"
      },
      "outputs": [],
      "source": [
        "# 🌳 Definir el modelo de Random Forest Regressor\n",
        "rf = RandomForestClassifier(\n",
        "    featuresCol='features',\n",
        "    labelCol='label',\n",
        "    impurity=\"entropy\",\n",
        ")"
      ]
    },
    {
      "cell_type": "code",
      "execution_count": 23,
      "metadata": {
        "id": "M9mKk3a2r3l_"
      },
      "outputs": [],
      "source": [
        "# 📊 Construcción de la cuadrícula de hiperparámetros para RandomForestClassifier\n",
        "# Esto permite probar múltiples combinaciones de parámetros y encontrar la mejor configuración del modelo.\n",
        "# 🔹 La cuadrícula generada permitirá probar todas las combinaciones de los valores seleccionados, optimizando el rendimiento del modelo.\n",
        "paramGrid = ParamGridBuilder().addGrid(rf.numTrees, [10, 50, 100]).\\\n",
        "            addGrid(rf.maxDepth, [5, 10, 15]).build()\n",
        "\n"
      ]
    },
    {
      "cell_type": "markdown",
      "metadata": {
        "id": "Dbyy1bDCbc8B"
      },
      "source": [
        "# **3 - Experimentación**"
      ]
    },
    {
      "cell_type": "code",
      "execution_count": 24,
      "metadata": {
        "colab": {
          "base_uri": "https://localhost:8080/"
        },
        "id": "u4cELhpxsbiP",
        "outputId": "495024f2-6004-4cc1-8422-2ec1c7394ab0"
      },
      "outputs": [
        {
          "name": "stderr",
          "output_type": "stream",
          "text": []
        }
      ],
      "source": [
        "#tardo 8 minutos en ejecutar\n",
        "# 🔍 Configuración de la validación cruzada para evaluar el rendimiento del modelo RandomForestClassifier\n",
        "crossval = CrossValidator(\n",
        "    estimator=rf,  # Modelo a evaluar (Random Forest en este caso)\n",
        "    estimatorParamMaps=paramGrid,  # Conjunto de hiperparámetros a probar\n",
        "    evaluator=accuracy,  # Métrica de evaluación: Accuracy\n",
        "    numFolds= 3  # Número de particiones (folds) en la validación cruzada\n",
        ")\n",
        "\n",
        "# 🏋️‍♂️ Entrenar el modelo con validación cruzada\n",
        "# 🚀 Se entrena el modelo utilizando diferentes combinaciones de hiperparámetros,\n",
        "# evaluándolo en varios subconjuntos del conjunto de entrenamiento.\n",
        "cv_model = crossval.fit(train_data_stratum)"
      ]
    },
    {
      "cell_type": "code",
      "execution_count": 62,
      "metadata": {
        "colab": {
          "base_uri": "https://localhost:8080/",
          "height": 625
        },
        "id": "lzKRpQNo6YOf",
        "outputId": "dde80e4c-8aa1-4644-ad3d-0d8278c23a66"
      },
      "outputs": [
        {
          "data": {
            "image/png": "[encoded data removed]",
            "text/plain": [
              "<Figure size 1000x600 with 1 Axes>"
            ]
          },
          "metadata": {},
          "output_type": "display_data"
        },
        {
          "name": "stdout",
          "output_type": "stream",
          "text": [
            "Número total de folds: 9\n",
            "Número total de valores en scores: 9\n",
            "El valor más alto es 0.6377298137713457 y está en la posición 6\n"
          ]
        }
      ],
      "source": [
        "folds = list(range(1, len(scores) + 1))\n",
        "scores = cv_model.avgMetrics  # Lista de métricas obtenidas en cada pliegue\n",
        "\n",
        "\n",
        "# Crear la gráfica mejorada con colores más suaves\n",
        "plt.figure(figsize=(10,6))  # Tamaño más amplio para mejor visualización\n",
        "plt.plot(folds, scores, marker='o', linestyle='-', color='#6EA8D3', linewidth=2)  # Azul tenue\n",
        "\n",
        "# Agregar detalles importantes\n",
        "plt.xlabel('Número de Fold', fontsize=12, fontweight='bold')\n",
        "plt.ylabel('Precisión (Accuracy)', fontsize=12, fontweight='bold')\n",
        "plt.title('Validación Cruzada: Rendimiento por Fold', fontsize=14, fontweight='bold')\n",
        "\n",
        "# Activar cuadrícula con más suavidad\n",
        "plt.grid(color='gray', linestyle='--', linewidth=0.5)\n",
        "\n",
        "# Agregar anotaciones con color más neutro\n",
        "for i, score in enumerate(scores):\n",
        "    plt.text(folds[i], score, f'{score:.4f}', fontsize=10, ha='center', va='bottom', color='#555555')  # Gris oscuro\n",
        "\n",
        "# Mostrar la gráfica mejorada\n",
        "plt.show()\n",
        "\n",
        "indice_max = scores.index(max(scores))\n",
        "valor_mas_alto = max(scores)\n",
        "\n",
        "print(f\"Número total de folds: {len(folds)}\")\n",
        "print(f\"Número total de valores en scores: {len(scores)}\")\n",
        "print(f\"El valor más alto es {valor_mas_alto} y está en la posición {indice_max + 1}\")\n",
        "\n"
      ]
    },
    {
      "cell_type": "code",
      "execution_count": 47,
      "metadata": {
        "colab": {
          "base_uri": "https://localhost:8080/"
        },
        "id": "fLG0qDqlz9SI",
        "outputId": "88c93911-db64-4cf2-87f1-d9f0325d8ec7"
      },
      "outputs": [
        {
          "name": "stderr",
          "output_type": "stream",
          "text": []
        },
        {
          "name": "stdout",
          "output_type": "stream",
          "text": [
            "📌 **Hiperparámetros del mejor modelo**\n",
            "🌲 Número de árboles: \u001b[36m50\u001b[0m\n",
            "📏 Profundidad máxima: \u001b[36m15\u001b[0m\n",
            "🔎 Estrategia de selección de características: \u001b[36mauto\u001b[0m\n",
            "⚖ Criterio de impureza: \u001b[36mentropy\u001b[0m\n",
            "📉 Tasa de muestreo: \u001b[36m1.0\u001b[0m\n"
          ]
        },
        {
          "name": "stderr",
          "output_type": "stream",
          "text": [
            "\r                                                                                \r"
          ]
        }
      ],
      "source": [
        "# 📌 Obtener el mejor modelo entrenado a partir de la validación cruzada\n",
        "# Esto devuelve el modelo con los mejores hiperparámetros según la métrica de evaluación (Accuracy en este caso).\n",
        "parametros = cv_model.bestModel\n",
        "\n",
        "# 🔍 Extraer los hiperparámetros optimizados del mejor modelo encontrado\n",
        "num_trees = parametros.getNumTrees  # 🌲 Número de árboles en el Random Forest\n",
        "max_depth = parametros.getOrDefault(\"maxDepth\")  # 📏 Profundidad máxima de los árboles (afecta la complejidad del modelo)\n",
        "feature_subset_strategy = parametros.getOrDefault(\"featureSubsetStrategy\")  # 🔎 Estrategia de selección de características en cada árbol\n",
        "impurity = parametros.getOrDefault(\"impurity\")  # ⚖ Criterio de impureza usado para dividir nodos\n",
        "subsampling_rate = parametros.getOrDefault(\"subsamplingRate\")  # 📉 Proporción de datos usados en cada árbol (permite evitar sobreajuste)\n",
        "\n",
        "# 🚀 Realizar predicciones en el conjunto de prueba con el mejor modelo entrenado\n",
        "predictions = cv_model.transform(test_data_stratum)\n",
        "\n",
        "# 📊 Evaluar el rendimiento del mejor modelo usando Accuracy\n",
        "mejor_acc = accuracy.evaluate(predictions)\n",
        "\n",
        "# 🖨️ Imprimir los hiperparámetros optimizados\n",
        "print(f\"\"\"📌 **Hiperparámetros del mejor modelo**\n",
        "🌲 Número de árboles: \\033[36m{num_trees}\\033[0m\n",
        "📏 Profundidad máxima: \\033[36m{max_depth}\\033[0m\n",
        "🔎 Estrategia de selección de características: \\033[36m{feature_subset_strategy}\\033[0m\n",
        "⚖ Criterio de impureza: \\033[36m{impurity}\\033[0m\n",
        "📉 Tasa de muestreo: \\033[36m{subsampling_rate}\\033[0m\"\"\")"
      ]
    },
    {
      "cell_type": "code",
      "execution_count": 48,
      "metadata": {
        "id": "cTuO6uDc2fq1"
      },
      "outputs": [],
      "source": [
        "# 🌳 Definición del modelo Random Forest Classifier\n",
        "# Se establece el modelo con los mejores hiperparámetros obtenidos\n",
        "# mediante validación cruzada, optimizando su rendimiento.\n",
        "rf = RandomForestClassifier(\n",
        "    featuresCol='features',\n",
        "    labelCol='label',\n",
        "    numTrees=num_trees,\n",
        "    maxDepth=max_depth,\n",
        "    featureSubsetStrategy= feature_subset_strategy ,\n",
        "    impurity= impurity,\n",
        "    subsamplingRate= subsampling_rate\n",
        ")"
      ]
    },
    {
      "cell_type": "code",
      "execution_count": 49,
      "metadata": {
        "colab": {
          "base_uri": "https://localhost:8080/"
        },
        "id": "NCqgeOmeyJKi",
        "outputId": "2b574b13-713d-4e3e-9d44-e839575485af"
      },
      "outputs": [
        {
          "name": "stderr",
          "output_type": "stream",
          "text": []
        }
      ],
      "source": [
        "# 🏋️ Entrenar el modelo con el conjunto de entrenamiento\n",
        "rf_model_estratificado = rf.fit(train_data_stratum)"
      ]
    },
    {
      "cell_type": "markdown",
      "metadata": {
        "id": "gQaK64utZR6B"
      },
      "source": [
        "# **4 - Resultados**"
      ]
    },
    {
      "cell_type": "code",
      "execution_count": 61,
      "metadata": {
        "colab": {
          "base_uri": "https://localhost:8080/"
        },
        "id": "Ad2aqWrZusTf",
        "outputId": "737c9d99-36c5-472c-e83e-6788ea6cb317"
      },
      "outputs": [
        {
          "name": "stderr",
          "output_type": "stream",
          "text": []
        },
        {
          "name": "stdout",
          "output_type": "stream",
          "text": [
            "\n",
            "🔎 Evaluación del Modelo - Comparación de Muestreos 🔍\n",
            "\n",
            "✅ Accuracy - Muestreo Estratificado: \u001b[36m0.6503\u001b[0m 🎯\n",
            "🎯 Precisión - Muestreo Estratificado: \u001b[36m0.7011\u001b[0m 🔍\n",
            "🔥 Recall - Muestreo Estratificado: \u001b[36m0.6503\u001b[0m 🚀\n",
            "⚡ F1-Score - Muestreo Estratificado: \u001b[36m0.6266\u001b[0m ⚖\n"
          ]
        },
        {
          "name": "stderr",
          "output_type": "stream",
          "text": [
            "\r                                                                                \r"
          ]
        }
      ],
      "source": [
        "# 📊 Evaluación del rendimiento del modelo en los diferentes métodos de muestreo\n",
        "\n",
        "# 🎯 Calcular Accuracy (precisión global)\n",
        "# Se evalúa qué porcentaje de predicciones fueron correctas en el conjunto de prueba.\n",
        "accuracy_estratificado = accuracy.evaluate(rf_model_estratificado.transform(train_data_stratum))\n",
        "\n",
        "# 🔍 Calcular Precision (qué tan exactas son las predicciones positivas)\n",
        "# Se mide cuántos positivos predichos realmente lo son, evitando falsos positivos.\n",
        "precision_estratificado = precision.evaluate(rf_model_estratificado.transform(train_data_stratum))\n",
        "\n",
        "# 🚀 Calcular Recall (qué tan bien se identifican los positivos)\n",
        "# Se mide cuántos positivos reales fueron correctamente identificados, evitando falsos negativos.\n",
        "recall_estratificado = recall.evaluate(rf_model_estratificado.transform(train_data_stratum))\n",
        "\n",
        "# ⚖ Calcular F1-Score (balance entre precisión y recall)\n",
        "# Combina precisión y recall en una sola métrica para evaluar el desempeño del modelo.\n",
        "f1_score_estratificado = f1_score.evaluate(rf_model_estratificado.transform(train_data_stratum))\n",
        "\n",
        "# 📊 Imprimir los resultados comparando muestreo aleatorio y estratificado\n",
        "print(\"\\n🔎 Evaluación del Modelo - Comparación de Muestreos 🔍\\n\")\n",
        "\n",
        "# 🎯 Accuracy\n",
        "print(f\"✅ Accuracy - Muestreo Estratificado: \\033[36m{accuracy_estratificado:.4f}\\033[0m 🎯\")\n",
        "\n",
        "# 🎯 Precision\n",
        "print(f\"🎯 Precisión - Muestreo Estratificado: \\033[36m{precision_estratificado:.4f}\\033[0m 🔍\")\n",
        "\n",
        "# 🔥 Recall\n",
        "print(f\"🔥 Recall - Muestreo Estratificado: \\033[36m{recall_estratificado:.4f}\\033[0m 🚀\")\n",
        "\n",
        "# ⚡ F1-Score\n",
        "print(f\"⚡ F1-Score - Muestreo Estratificado: \\033[36m{f1_score_estratificado:.4f}\\033[0m ⚖\")\n"
      ]
    },
    {
      "cell_type": "code",
      "execution_count": 76,
      "metadata": {
        "colab": {
          "base_uri": "https://localhost:8080/",
          "height": 468
        },
        "id": "P3T07MFU_OnX",
        "outputId": "37b84a27-5596-4d16-cd12-024393b7a737"
      },
      "outputs": [
        {
          "data": {
            "image/png": "[encoded data removed]",
            "text/plain": [
              "<Figure size 800x500 with 1 Axes>"
            ]
          },
          "metadata": {},
          "output_type": "display_data"
        }
      ],
      "source": [
        "import matplotlib.pyplot as plt\n",
        "\n",
        "# Nombres de las métricas y sus valores\n",
        "metricas = ['Accuracy', 'Precisión', 'Recall', 'F1-Score']\n",
        "valores = [accuracy_estratificado, precision_estratificado, recall_estratificado, f1_score_estratificado]\n",
        "\n",
        "# Colores personalizados suaves\n",
        "colores = ['#6EA8D3', '#98C379', '#E5C07B', '#D68EB2']\n",
        "\n",
        "# Crear la gráfica\n",
        "plt.figure(figsize=(8,5))\n",
        "barras = plt.bar(metricas, valores, color=colores)\n",
        "\n",
        "# Agregar valores encima de cada barra\n",
        "for barra, valor in zip(barras, valores):\n",
        "    plt.text(barra.get_x() + barra.get_width() / 2, valor + 0.01, f'{valor:.4f}',\n",
        "             ha='center', va='bottom', fontsize=11, color='black')\n",
        "\n",
        "# Etiquetas y título\n",
        "plt.ylim(0, 1)\n",
        "plt.ylabel('Valor')\n",
        "plt.title('Métricas - Muestreo Estratificado')\n",
        "plt.grid(axis='y', linestyle='--', alpha=0.7)\n",
        "\n",
        "plt.show()"
      ]
    },
    {
      "cell_type": "markdown",
      "metadata": {
        "id": "MphLyxGjZWv2"
      },
      "source": [
        "# **5 - Discusión y conclusiones**"
      ]
    }
  ],
  "metadata": {
    "colab": {
      "authorship_tag": "ABX9TyM+6O7IXJuK8UwrsL0pTFIa",
      "collapsed_sections": [
        "bkIQuXvbbTv_"
      ],
      "include_colab_link": true,
      "mount_file_id": "1Jab2DUXez4z1kx-o-Btc9jKPcoslob_t",
      "provenance": []
    },
    "kernelspec": {
      "display_name": "Python 3",
      "name": "python3"
    },
    "language_info": {
      "name": "python"
    }
  },
  "nbformat": 4,
  "nbformat_minor": 0
}
