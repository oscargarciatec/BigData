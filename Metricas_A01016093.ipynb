{
 "cells": [
  {
   "cell_type": "markdown",
   "id": "19032e6b",
   "metadata": {},
   "source": [
    "# 🎓 **Maestría en Inteligencia Artificial Aplicada**\n",
    "\n",
    "## 📈 **Curso: Análisis de grandes volúmenes de datos (Gpo 10)**\n",
    "\n",
    "### 🏛️ Tecnológico de Monterrey\n",
    "\n",
    "#### 👨‍🏫 **Profesor titular:** Dr. Iván Olmos Pineda\n",
    "#### 👩‍🏫 **Profesor asistente:** Verónica Sandra Guzmán de Valle\n",
    "\n",
    "### 📊 **Actividad 4 | Métricas de calidad de resultados**\n",
    "\n",
    "#### 📅 **6 de junio de 2025**\n",
    "\n",
    "🧑‍💻 **A01016093:** Oscar Enrique García García "
   ]
  },
  {
   "cell_type": "markdown",
   "id": "5901a707",
   "metadata": {},
   "source": [
    "# 0.1. Importar librerías"
   ]
  },
  {
   "cell_type": "code",
   "execution_count": 1,
   "id": "f91db383",
   "metadata": {},
   "outputs": [],
   "source": [
    "from pyspark.sql import SparkSession\n",
    "from pyspark.sql.functions import col, rand, count, when, isnan, desc, lit, concat\n",
    "from pyspark.ml.feature import StringIndexer\n",
    "from pyspark.ml.classification import RandomForestClassifier\n",
    "from pyspark.ml.evaluation import MulticlassClassificationEvaluator\n",
    "from pyspark.ml.clustering import KMeans\n",
    "from pyspark.ml.evaluation import ClusteringEvaluator\n",
    "import matplotlib.pyplot as plt\n",
    "import pandas as pd\n",
    "import numpy as np\n",
    "from pyspark.ml.feature import Imputer\n",
    "from pyspark.ml.feature import RFormula\n",
    "from pyspark.sql.functions import udf, col\n",
    "from pyspark.sql.types import DoubleType\n",
    "from pyspark.ml.tuning import ParamGridBuilder, TrainValidationSplit\n",
    "import warnings\n",
    "warnings.filterwarnings('ignore')"
   ]
  },
  {
   "cell_type": "markdown",
   "id": "46a5cf56",
   "metadata": {},
   "source": [
    "# 0.2. Crear sesión de spark y leer archivo"
   ]
  },
  {
   "cell_type": "code",
   "execution_count": 2,
   "id": "9847c85a",
   "metadata": {},
   "outputs": [
    {
     "name": "stderr",
     "output_type": "stream",
     "text": [
      "25/06/07 15:01:16 WARN Utils: Your hostname, MacBook-Air-de-Oscar-2.local resolves to a loopback address: 127.0.0.1; using 192.168.68.122 instead (on interface en0)\n",
      "25/06/07 15:01:16 WARN Utils: Set SPARK_LOCAL_IP if you need to bind to another address\n",
      "Setting default log level to \"WARN\".\n",
      "To adjust logging level use sc.setLogLevel(newLevel). For SparkR, use setLogLevel(newLevel).\n",
      "25/06/07 15:01:16 WARN NativeCodeLoader: Unable to load native-hadoop library for your platform... using builtin-java classes where applicable\n"
     ]
    }
   ],
   "source": [
    "spark = SparkSession.builder \\\n",
    "    .appName(\"Actividad4_MetricasCalidad\") \\\n",
    "    .getOrCreate()\n",
    "\n",
    "spark.conf.set(\"spark.sql.repl.eagerEval.enabled\", True)\n",
    "spark.sparkContext.setLogLevel(\"ERROR\")"
   ]
  },
  {
   "cell_type": "code",
   "execution_count": 3,
   "id": "604a2af9",
   "metadata": {},
   "outputs": [
    {
     "name": "stderr",
     "output_type": "stream",
     "text": [
      "                                                                                \r"
     ]
    },
    {
     "name": "stdout",
     "output_type": "stream",
     "text": [
      "+---+-------+--------+-------------------+-------------------+-----------------+------------------+-------+-------+------------+--------------------+--------------------+------------+----------+-----+----------+-------+----------+------------+-------------------+--------------+-------------+-----------+------------+--------------+--------------+---------------+-----------------+-----------------+-------+-----+--------+--------+--------+-------+-------+----------+-------+-----+---------------+--------------+------------+--------------+--------------+-----------------+---------------------+\n",
      "| ID| Source|Severity|         Start_Time|           End_Time|        Start_Lat|         Start_Lng|End_Lat|End_Lng|Distance(mi)|         Description|              Street|        City|    County|State|   Zipcode|Country|  Timezone|Airport_Code|  Weather_Timestamp|Temperature(F)|Wind_Chill(F)|Humidity(%)|Pressure(in)|Visibility(mi)|Wind_Direction|Wind_Speed(mph)|Precipitation(in)|Weather_Condition|Amenity| Bump|Crossing|Give_Way|Junction|No_Exit|Railway|Roundabout|Station| Stop|Traffic_Calming|Traffic_Signal|Turning_Loop|Sunrise_Sunset|Civil_Twilight|Nautical_Twilight|Astronomical_Twilight|\n",
      "+---+-------+--------+-------------------+-------------------+-----------------+------------------+-------+-------+------------+--------------------+--------------------+------------+----------+-----+----------+-------+----------+------------+-------------------+--------------+-------------+-----------+------------+--------------+--------------+---------------+-----------------+-----------------+-------+-----+--------+--------+--------+-------+-------+----------+-------+-----+---------------+--------------+------------+--------------+--------------+-----------------+---------------------+\n",
      "|A-1|Source2|       3|2016-02-08 05:46:00|2016-02-08 11:00:00|        39.865147|        -84.058723|   NULL|   NULL|        0.01|Right lane blocke...|              I-70 E|      Dayton|Montgomery|   OH|     45424|     US|US/Eastern|        KFFO|2016-02-08 05:58:00|          36.9|         NULL|       91.0|       29.68|          10.0|          Calm|           NULL|             0.02|       Light Rain|  false|false|   false|   false|   false|  false|  false|     false|  false|false|          false|         false|       false|         Night|         Night|            Night|                Night|\n",
      "|A-2|Source2|       2|2016-02-08 06:07:59|2016-02-08 06:37:59|39.92805900000001|        -82.831184|   NULL|   NULL|        0.01|Accident on Brice...|            Brice Rd|Reynoldsburg|  Franklin|   OH|43068-3402|     US|US/Eastern|        KCMH|2016-02-08 05:51:00|          37.9|         NULL|      100.0|       29.65|          10.0|          Calm|           NULL|              0.0|       Light Rain|  false|false|   false|   false|   false|  false|  false|     false|  false|false|          false|         false|       false|         Night|         Night|            Night|                  Day|\n",
      "|A-3|Source2|       2|2016-02-08 06:49:27|2016-02-08 07:19:27|        39.063148|        -84.032608|   NULL|   NULL|        0.01|Accident on OH-32...|      State Route 32|Williamsburg|  Clermont|   OH|     45176|     US|US/Eastern|        KI69|2016-02-08 06:56:00|          36.0|         33.3|      100.0|       29.67|          10.0|            SW|            3.5|             NULL|         Overcast|  false|false|   false|   false|   false|  false|  false|     false|  false|false|          false|          true|       false|         Night|         Night|              Day|                  Day|\n",
      "|A-4|Source2|       3|2016-02-08 07:23:34|2016-02-08 07:53:34|        39.747753|-84.20558199999998|   NULL|   NULL|        0.01|Accident on I-75 ...|              I-75 S|      Dayton|Montgomery|   OH|     45417|     US|US/Eastern|        KDAY|2016-02-08 07:38:00|          35.1|         31.0|       96.0|       29.64|           9.0|            SW|            4.6|             NULL|    Mostly Cloudy|  false|false|   false|   false|   false|  false|  false|     false|  false|false|          false|         false|       false|         Night|           Day|              Day|                  Day|\n",
      "|A-5|Source2|       2|2016-02-08 07:39:07|2016-02-08 08:09:07|        39.627781|        -84.188354|   NULL|   NULL|        0.01|Accident on McEwe...|Miamisburg Center...|      Dayton|Montgomery|   OH|     45459|     US|US/Eastern|        KMGY|2016-02-08 07:53:00|          36.0|         33.3|       89.0|       29.65|           6.0|            SW|            3.5|             NULL|    Mostly Cloudy|  false|false|   false|   false|   false|  false|  false|     false|  false|false|          false|          true|       false|           Day|           Day|              Day|                  Day|\n",
      "+---+-------+--------+-------------------+-------------------+-----------------+------------------+-------+-------+------------+--------------------+--------------------+------------+----------+-----+----------+-------+----------+------------+-------------------+--------------+-------------+-----------+------------+--------------+--------------+---------------+-----------------+-----------------+-------+-----+--------+--------+--------+-------+-------+----------+-------+-----+---------------+--------------+------------+--------------+--------------+-----------------+---------------------+\n",
      "only showing top 5 rows\n",
      "\n"
     ]
    }
   ],
   "source": [
    "df = spark.read.csv(\"/Users/oscgarcia/Documents/MNA/Análisis de Grandes Volúmenes de Datos/US_Accidents_Dec19.csv\", header=True, inferSchema=True)\n",
    "df.show(5)"
   ]
  },
  {
   "cell_type": "code",
   "execution_count": 4,
   "id": "6402398a",
   "metadata": {},
   "outputs": [
    {
     "name": "stderr",
     "output_type": "stream",
     "text": [
      "[Stage 3:=======================================>                 (16 + 7) / 23]\r"
     ]
    },
    {
     "name": "stdout",
     "output_type": "stream",
     "text": [
      "Número de registros: 7728394\n",
      "Número de columnas: 46\n"
     ]
    },
    {
     "name": "stderr",
     "output_type": "stream",
     "text": [
      "                                                                                \r"
     ]
    }
   ],
   "source": [
    "# Se obtiene el tamañaño del DataFrame\n",
    "print(\"Número de registros: \" + str(df.count()))\n",
    "print(\"Número de columnas: \" + str(len(df.columns)))"
   ]
  },
  {
   "cell_type": "markdown",
   "id": "f05e5ce1",
   "metadata": {},
   "source": [
    "# 0.3. Selección de columnas"
   ]
  },
  {
   "cell_type": "code",
   "execution_count": 5,
   "id": "9ed5ebb7",
   "metadata": {},
   "outputs": [
    {
     "name": "stdout",
     "output_type": "stream",
     "text": [
      "+--------------+-----------------+--------+-----------+------------+--------------+---------------+-----------------+\n",
      "|Temperature(F)|Weather_Condition|Severity|Humidity(%)|Pressure(in)|Wind_Direction|Wind_Speed(mph)|Precipitation(in)|\n",
      "+--------------+-----------------+--------+-----------+------------+--------------+---------------+-----------------+\n",
      "|          36.9|       Light Rain|       3|       91.0|       29.68|          Calm|           NULL|             0.02|\n",
      "|          37.9|       Light Rain|       2|      100.0|       29.65|          Calm|           NULL|              0.0|\n",
      "|          36.0|         Overcast|       2|      100.0|       29.67|            SW|            3.5|             NULL|\n",
      "|          35.1|    Mostly Cloudy|       3|       96.0|       29.64|            SW|            4.6|             NULL|\n",
      "|          36.0|    Mostly Cloudy|       2|       89.0|       29.65|            SW|            3.5|             NULL|\n",
      "|          37.9|       Light Rain|       3|       97.0|       29.63|           SSW|            3.5|             0.03|\n",
      "|          34.0|         Overcast|       2|      100.0|       29.66|           WSW|            3.5|             NULL|\n",
      "|          34.0|         Overcast|       3|      100.0|       29.66|           WSW|            3.5|             NULL|\n",
      "|          33.3|    Mostly Cloudy|       2|       99.0|       29.67|            SW|            1.2|             NULL|\n",
      "|          37.4|       Light Rain|       3|      100.0|       29.62|           SSW|            4.6|             0.02|\n",
      "|          35.6|             Rain|       3|       93.0|       29.64|           WNW|            5.8|             NULL|\n",
      "|          37.4|       Light Rain|       3|      100.0|       29.62|           SSW|            4.6|             0.02|\n",
      "|          33.8|         Overcast|       2|      100.0|       29.63|            SW|            2.3|             NULL|\n",
      "|          36.0|    Mostly Cloudy|       2|       89.0|       29.65|            NW|            5.8|             NULL|\n",
      "|          37.4|       Light Rain|       2|      100.0|       29.62|           SSW|            4.6|             0.02|\n",
      "|          33.8|         Overcast|       2|      100.0|       29.63|            SW|            2.3|             NULL|\n",
      "|          35.6|    Mostly Cloudy|       2|       99.0|       29.65|           WSW|            2.3|             NULL|\n",
      "|          36.0|    Mostly Cloudy|       2|       89.0|       29.65|            NW|            5.8|             NULL|\n",
      "|          37.4|         Overcast|       2|       93.0|       29.63|           WSW|            6.9|             NULL|\n",
      "|          36.0|    Mostly Cloudy|       2|       89.0|       29.65|          West|            6.9|             NULL|\n",
      "+--------------+-----------------+--------+-----------+------------+--------------+---------------+-----------------+\n",
      "only showing top 20 rows\n",
      "\n"
     ]
    }
   ],
   "source": [
    "# Se seleccionaron las columnas que se consideran relevantes para el análisis a considerar:\n",
    "# Severidad de los accidentes, según las condiciones meteorológicas.\n",
    "cols_to_select = [\"Temperature(F)\",\"Weather_Condition\",\"Severity\",\n",
    "               \"Humidity(%)\", \"Pressure(in)\", \"Wind_Direction\",\n",
    "               \"Wind_Speed(mph)\",\"Precipitation(in)\"]\n",
    "\n",
    "df = df.select(cols_to_select) #Se seleccionan únicamente las columnas definidas en el paso anterior.\n",
    "df.show()"
   ]
  },
  {
   "cell_type": "code",
   "execution_count": 6,
   "id": "af318df7",
   "metadata": {},
   "outputs": [
    {
     "name": "stderr",
     "output_type": "stream",
     "text": [
      "[Stage 7:=======================================>                 (16 + 7) / 23]\r"
     ]
    },
    {
     "name": "stdout",
     "output_type": "stream",
     "text": [
      "Número de registros: 7728394\n",
      "Número de columnas: 8\n"
     ]
    },
    {
     "name": "stderr",
     "output_type": "stream",
     "text": [
      "                                                                                \r"
     ]
    }
   ],
   "source": [
    "# Se vuelve a obtener el tamaño del DataFrame después de la selección de columnas\n",
    "print(\"Número de registros: \" + str(df.count()))\n",
    "print(\"Número de columnas: \" + str(len(df.columns)))"
   ]
  },
  {
   "cell_type": "code",
   "execution_count": 7,
   "id": "cd626939",
   "metadata": {},
   "outputs": [
    {
     "name": "stderr",
     "output_type": "stream",
     "text": [
      "                                                                                \r"
     ]
    },
    {
     "data": {
      "text/html": [
       "<table border='1'>\n",
       "<tr><th>summary</th><th>Temperature(F)</th><th>Weather_Condition</th><th>Severity</th><th>Humidity(%)</th><th>Pressure(in)</th><th>Wind_Direction</th><th>Wind_Speed(mph)</th><th>Precipitation(in)</th></tr>\n",
       "<tr><td>count</td><td>7564541</td><td>7554935</td><td>7728394</td><td>7554250</td><td>7587715</td><td>7553188</td><td>7157161</td><td>5524808</td></tr>\n",
       "<tr><td>mean</td><td>61.66328580940991</td><td>NULL</td><td>2.212384487643875</td><td>64.83104146672403</td><td>29.538985607656194</td><td>NULL</td><td>7.685489595665597</td><td>0.008407209807109432</td></tr>\n",
       "<tr><td>stddev</td><td>19.013653291093142</td><td>NULL</td><td>0.4875313339360398</td><td>22.820967660113475</td><td>1.00618980914562</td><td>NULL</td><td>5.424983437161068</td><td>0.11022464885795538</td></tr>\n",
       "<tr><td>min</td><td>-89.0</td><td>Blowing Dust</td><td>1</td><td>1.0</td><td>0.0</td><td>CALM</td><td>0.0</td><td>0.0</td></tr>\n",
       "<tr><td>max</td><td>207.0</td><td>Wintry Mix / Windy</td><td>4</td><td>100.0</td><td>58.63</td><td>West</td><td>1087.0</td><td>36.47</td></tr>\n",
       "</table>\n"
      ],
      "text/plain": [
       "+-------+------------------+------------------+------------------+------------------+------------------+--------------+-----------------+--------------------+\n",
       "|summary|    Temperature(F)| Weather_Condition|          Severity|       Humidity(%)|      Pressure(in)|Wind_Direction|  Wind_Speed(mph)|   Precipitation(in)|\n",
       "+-------+------------------+------------------+------------------+------------------+------------------+--------------+-----------------+--------------------+\n",
       "|  count|           7564541|           7554935|           7728394|           7554250|           7587715|       7553188|          7157161|             5524808|\n",
       "|   mean| 61.66328580940991|              NULL| 2.212384487643875| 64.83104146672403|29.538985607656194|          NULL|7.685489595665597|0.008407209807109432|\n",
       "| stddev|19.013653291093142|              NULL|0.4875313339360398|22.820967660113475|  1.00618980914562|          NULL|5.424983437161068| 0.11022464885795538|\n",
       "|    min|             -89.0|      Blowing Dust|                 1|               1.0|               0.0|          CALM|              0.0|                 0.0|\n",
       "|    max|             207.0|Wintry Mix / Windy|                 4|             100.0|             58.63|          West|           1087.0|               36.47|\n",
       "+-------+------------------+------------------+------------------+------------------+------------------+--------------+-----------------+--------------------+"
      ]
     },
     "execution_count": 7,
     "metadata": {},
     "output_type": "execute_result"
    }
   ],
   "source": [
    "# Se hace un resumen estadístico de las columnas seleccionadas\n",
    "df.describe()"
   ]
  },
  {
   "cell_type": "code",
   "execution_count": 8,
   "id": "985b466c",
   "metadata": {},
   "outputs": [
    {
     "name": "stdout",
     "output_type": "stream",
     "text": [
      "root\n",
      " |-- Temperature(F): double (nullable = true)\n",
      " |-- Weather_Condition: string (nullable = true)\n",
      " |-- Severity: integer (nullable = true)\n",
      " |-- Humidity(%): double (nullable = true)\n",
      " |-- Pressure(in): double (nullable = true)\n",
      " |-- Wind_Direction: string (nullable = true)\n",
      " |-- Wind_Speed(mph): double (nullable = true)\n",
      " |-- Precipitation(in): double (nullable = true)\n",
      "\n"
     ]
    }
   ],
   "source": [
    "# Se obtienen los tipos de datos de las columnas\n",
    "df.printSchema()"
   ]
  },
  {
   "cell_type": "markdown",
   "id": "00410200",
   "metadata": {},
   "source": [
    "# 1. Construcción de la muestra M"
   ]
  },
  {
   "cell_type": "code",
   "execution_count": 9,
   "id": "cb7b7719",
   "metadata": {},
   "outputs": [
    {
     "name": "stdout",
     "output_type": "stream",
     "text": [
      "+--------------+-----------------+--------+-----------+------------+--------------+---------------+-----------------+\n",
      "|Temperature(F)|Weather_Condition|Severity|Humidity(%)|Pressure(in)|Wind_Direction|Wind_Speed(mph)|Precipitation(in)|\n",
      "+--------------+-----------------+--------+-----------+------------+--------------+---------------+-----------------+\n",
      "|          87.0|             Fair|       2|       35.0|       29.11|           SSE|            8.0|              0.0|\n",
      "|          94.0|             Fair|       2|       31.0|       29.08|           SSE|            9.0|              0.0|\n",
      "|          85.0|             Fair|       2|       44.0|       29.07|             S|           10.0|              0.0|\n",
      "|          85.0|             Fair|       2|       44.0|       29.07|             S|           10.0|              0.0|\n",
      "|          85.0|             Fair|       2|       44.0|       29.07|             S|           10.0|              0.0|\n",
      "+--------------+-----------------+--------+-----------+------------+--------------+---------------+-----------------+\n",
      "only showing top 5 rows\n",
      "\n"
     ]
    }
   ],
   "source": [
    "reglas_particionamiento = [\n",
    "    {\"Weather_Condition\": \"Fair\", \"Severity\": 2},\n",
    "    {\"Weather_Condition\": \"Mostly Cloudy\", \"Severity\": 2},\n",
    "    {\"Weather_Condition\": \"Cloudy\", \"Severity\": 2},\n",
    "    {\"Weather_Condition\": \"Partly Cloudy\", \"Severity\": 2},\n",
    "    {\"Weather_Condition\": \"Clear\", \"Severity\": 2},\n",
    "    {\"Weather_Condition\": \"Light Rain\", \"Severity\": 2},\n",
    "    {\"Weather_Condition\": \"Overcast\", \"Severity\": 2},\n",
    "    {\"Weather_Condition\": \"Clear\", \"Severity\": 3},\n",
    "    {\"Weather_Condition\": \"Fair\", \"Severity\": 3},\n",
    "    {\"Weather_Condition\": \"Mostly Cloudy\", \"Severity\": 3},\n",
    "] #Se enlistan las particiones elegidas en el documento del proyecto.\n",
    "\n",
    "muestras = [] #Se crea una lista vacía, que guardará las muestras.\n",
    "tamaño_muestra_por_particion = 10000 #Se define el tamaño de la muestra (para cada partición).\n",
    "\n",
    "for regla in reglas_particionamiento: #Se recorre la lista de reglas de particionamiento.\n",
    "    condicion_clima = regla[\"Weather_Condition\"]\n",
    "    severidad = regla[\"Severity\"]\n",
    "\n",
    "    df_filtrado = df.filter(\n",
    "        (col(\"Weather_Condition\") == condicion_clima) &\n",
    "        (col(\"Severity\") == severidad)\n",
    "    ).limit(tamaño_muestra_por_particion) #Se filtran los primeros n registros (tamaño de la muestra), que cumpla con las condiciones estipuladas en las reglas de particionamiento.\n",
    "\n",
    "    muestras.append(df_filtrado) #Se agregan los datos a la lista de muestras\n",
    "\n",
    "df_muestra_M = muestras[0]\n",
    "for df_temp in muestras[1:]:\n",
    "    df_muestra_M = df_muestra_M.union(df_temp) #Se unen todas las muestras en un solo dataframe.\n",
    "\n",
    "df_muestra_M.show(5)\n"
   ]
  },
  {
   "cell_type": "code",
   "execution_count": 10,
   "id": "bcaf6658",
   "metadata": {},
   "outputs": [
    {
     "name": "stderr",
     "output_type": "stream",
     "text": [
      "                                                                                \r"
     ]
    },
    {
     "data": {
      "text/plain": [
       "<Figure size 1000x500 with 0 Axes>"
      ]
     },
     "metadata": {},
     "output_type": "display_data"
    },
    {
     "data": {
      "image/png": "[encoded data removed]",
      "text/plain": [
       "<Figure size 640x480 with 1 Axes>"
      ]
     },
     "metadata": {},
     "output_type": "display_data"
    }
   ],
   "source": [
    "# Se muestra una gráfica de barras con la distribución de la muestra por condición climática y severidad\n",
    "\n",
    "muestra_pd = df_muestra_M.select(\"Severity\", \"Weather_Condition\").toPandas()\n",
    "plt.figure(figsize=(10, 5))\n",
    "muestra_pd.groupby([\"Weather_Condition\", \"Severity\"]).size().unstack().plot(kind='bar', stacked=True)\n",
    "plt.title(\"Distribución de la muestra por condición climática y severidad\")\n",
    "plt.ylabel(\"Número de registros\")\n",
    "plt.xticks(rotation=45)\n",
    "plt.tight_layout()\n",
    "plt.show()"
   ]
  },
  {
   "cell_type": "markdown",
   "id": "6b6b511e",
   "metadata": {},
   "source": [
    "# 1.1. Preparación de los datos"
   ]
  },
  {
   "cell_type": "markdown",
   "id": "0dbb2006",
   "metadata": {},
   "source": [
    "A continuación, se definen estrategias de imputación de valores nulos, dependiendo del tipo de dato de cada una de las columnas.\n",
    "\n",
    "Para las variables numéricas, se optó por imputar la mediana; mientras que para las variables categóricas (en este caso es una sola: Wind Direction), se optó por imputar la moda."
   ]
  },
  {
   "cell_type": "code",
   "execution_count": 11,
   "id": "a8bc431c",
   "metadata": {},
   "outputs": [
    {
     "name": "stderr",
     "output_type": "stream",
     "text": [
      "                                                                                \r"
     ]
    }
   ],
   "source": [
    "cols = [\"Temperature(F)\", \"Humidity(%)\", \"Pressure(in)\", \"Precipitation(in)\",\"Wind_Speed(mph)\"] #Se definen las columnas a las que se les aplicará la transformación\n",
    "imputed_cols = [f\"{c}_imputed\" for c in cols] #Se definen los nombres de las columnas a las que se les aplicará la transformación (imputar la media en valores nulos).\n",
    "\n",
    "imputer = Imputer(\n",
    "    inputCols=cols,\n",
    "    outputCols=imputed_cols\n",
    ").setStrategy(\"median\") #Se definen las columnas a las que se les aplicará la transformación\n",
    "\n",
    "df_imputed = imputer.fit(df_muestra_M).transform(df_muestra_M) #Se aplica la transformación (imputar la media en valores nulos) a las columnas previamente definidas.\n",
    "\n",
    "for orig, imp in zip(cols, imputed_cols):\n",
    "    df_imputed = df_imputed.drop(orig).withColumnRenamed(imp, orig)\n"
   ]
  },
  {
   "cell_type": "code",
   "execution_count": 12,
   "id": "c0b5d15d",
   "metadata": {},
   "outputs": [
    {
     "name": "stderr",
     "output_type": "stream",
     "text": [
      "                                                                                \r"
     ]
    }
   ],
   "source": [
    "# Calcular la moda de 'Wind_Direction'\n",
    "mode_wind_dir = df_imputed.groupBy(\"Wind_Direction\").count().orderBy(desc(\"count\")).first()[0]\n",
    "\n",
    "# Reemplazar valores nulos en 'Wind_Direction' con la moda\n",
    "df_imputed = df_imputed.fillna({\"Wind_Direction\": mode_wind_dir})\n"
   ]
  },
  {
   "cell_type": "markdown",
   "id": "3da5325c",
   "metadata": {},
   "source": [
    "Una vez aplicadas las transformaciones anteriores, se procede con los siguientes pasos:\n",
    "\n",
    "1. Convertir las variables categóricas a valores numéricos, por medio de StringIndexer, con el fin de que los modelos puedan trabajar únicamente con variables numéricas.\n",
    "\n",
    "2. Se juntan todas las variables en una columna tipo \"Vector\", por medio de VectorAssembler, en una columna \"features\", con el fin de que los modelos trabajen directamente con esta columna.\n",
    "\n",
    "3. Se construye el dataframe df_procesado, con el resultado de las transformaciones anteriores."
   ]
  },
  {
   "cell_type": "code",
   "execution_count": 13,
   "id": "7790b246",
   "metadata": {},
   "outputs": [
    {
     "name": "stderr",
     "output_type": "stream",
     "text": [
      "                                                                                \r"
     ]
    },
    {
     "data": {
      "text/plain": [
       "100000"
      ]
     },
     "execution_count": 13,
     "metadata": {},
     "output_type": "execute_result"
    }
   ],
   "source": [
    "df_imputed.count() #Se verifica que existan 100,000 registros, que es el resultado de multiplicar el tamaño de la muestra (10,000) por el número de particiones (10)."
   ]
  },
  {
   "cell_type": "code",
   "execution_count": 14,
   "id": "d77843b2",
   "metadata": {},
   "outputs": [
    {
     "name": "stderr",
     "output_type": "stream",
     "text": [
      "[Stage 138:==================================================>    (21 + 2) / 23]\r"
     ]
    },
    {
     "name": "stdout",
     "output_type": "stream",
     "text": [
      "+-----------------+--------+--------------+--------------+-----------+------------+-----------------+---------------+\n",
      "|Weather_Condition|Severity|Wind_Direction|Temperature(F)|Humidity(%)|Pressure(in)|Precipitation(in)|Wind_Speed(mph)|\n",
      "+-----------------+--------+--------------+--------------+-----------+------------+-----------------+---------------+\n",
      "|                0|       0|             0|             0|          0|           0|                0|              0|\n",
      "+-----------------+--------+--------------+--------------+-----------+------------+-----------------+---------------+\n",
      "\n"
     ]
    },
    {
     "name": "stderr",
     "output_type": "stream",
     "text": [
      "                                                                                \r"
     ]
    }
   ],
   "source": [
    "#Checar si hay valores nulos\n",
    "df_imputed.select([count(when(isnan(c) | col(c).isNull(), c)).alias(c) for c in df_imputed.columns]).show() #Se verifica que no existan valores nulos en el dataframe resultante."
   ]
  },
  {
   "cell_type": "code",
   "execution_count": 15,
   "id": "e589c2e2",
   "metadata": {},
   "outputs": [
    {
     "name": "stderr",
     "output_type": "stream",
     "text": [
      "[Stage 237:===============================================>       (20 + 3) / 23]\r"
     ]
    },
    {
     "name": "stdout",
     "output_type": "stream",
     "text": [
      "+--------+--------------+-----------+------------+-----------------+---------------+---------------------+------------------+--------------------+-----+\n",
      "|Severity|Temperature(F)|Humidity(%)|Pressure(in)|Precipitation(in)|Wind_Speed(mph)|Weather_Condition_idx|Wind_Direction_idx|            features|label|\n",
      "+--------+--------------+-----------+------------+-----------------+---------------+---------------------+------------------+--------------------+-----+\n",
      "|       2|          87.0|       35.0|       29.11|              0.0|            8.0|                  1.0|               8.0|[87.0,35.0,29.11,...|  2.0|\n",
      "|       2|          94.0|       31.0|       29.08|              0.0|            9.0|                  1.0|               8.0|[94.0,31.0,29.08,...|  2.0|\n",
      "|       2|          85.0|       44.0|       29.07|              0.0|           10.0|                  1.0|              18.0|[85.0,44.0,29.07,...|  2.0|\n",
      "|       2|          85.0|       44.0|       29.07|              0.0|           10.0|                  1.0|              18.0|[85.0,44.0,29.07,...|  2.0|\n",
      "|       2|          85.0|       44.0|       29.07|              0.0|           10.0|                  1.0|              18.0|[85.0,44.0,29.07,...|  2.0|\n",
      "+--------+--------------+-----------+------------+-----------------+---------------+---------------------+------------------+--------------------+-----+\n",
      "only showing top 5 rows\n",
      "\n"
     ]
    },
    {
     "name": "stderr",
     "output_type": "stream",
     "text": [
      "                                                                                \r"
     ]
    }
   ],
   "source": [
    "# Convertimos columnas categóricas a numéricas\n",
    "indexers = [StringIndexer(inputCol=\"Weather_Condition\", outputCol=\"Weather_Condition_idx\"),\n",
    "            StringIndexer(inputCol=\"Wind_Direction\", outputCol=\"Wind_Direction_idx\")\n",
    "            ]\n",
    "\n",
    "for indexer in indexers:\n",
    "    df_imputed = indexer.fit(df_imputed).transform(df_imputed)\n",
    "\n",
    "df_imputed = df_imputed.drop(\"Weather_Condition\", \"Wind_Direction\") #Se eliminan las columnas categóricas originales, ya que ahora se tienen las versiones indexadas.\n",
    "\n",
    "# Armamos el vector de características.\n",
    "rForm = RFormula(formula=\"Severity ~ .\")\n",
    "fittedRF = rForm.fit(df_imputed)\n",
    "df_preprocesado = fittedRF.transform(df_imputed)\n",
    "\n",
    "df_preprocesado.show(5)\n"
   ]
  },
  {
   "cell_type": "markdown",
   "id": "a1ce300e",
   "metadata": {},
   "source": [
    "# 1.2 Manejo de outliers"
   ]
  },
  {
   "cell_type": "markdown",
   "id": "05a1afa3",
   "metadata": {},
   "source": [
    "A continuación se definen las funciones que nos ayudarán a calcular el IQR para las variables numéricas y, en caso de existir outliers, se sustituirán con la mediana."
   ]
  },
  {
   "cell_type": "code",
   "execution_count": null,
   "id": "d899b169",
   "metadata": {},
   "outputs": [],
   "source": [
    "def calcular_limites_iqr(df, columna):\n",
    "    quantiles = df.approxQuantile(columna, [0.25, 0.75], 0.01)\n",
    "    Q1, Q3 = quantiles\n",
    "    IQR = Q3 - Q1\n",
    "    lower = Q1 - 1.5 * IQR\n",
    "    upper = Q3 + 1.5 * IQR\n",
    "    return lower, upper"
   ]
  },
  {
   "cell_type": "code",
   "execution_count": 17,
   "id": "7d2355b1",
   "metadata": {},
   "outputs": [],
   "source": [
    "def imputar_outliers_con_mediana(df, columna):\n",
    "    # Calcular límites\n",
    "    lower, upper = calcular_limites_iqr(df, columna)\n",
    "\n",
    "    # Calcular mediana\n",
    "    mediana = df.approxQuantile(columna, [0.5], 0.01)[0]\n",
    "\n",
    "    # Crear nueva columna imputada\n",
    "    nueva_columna = f\"{columna}_sin_outliers\"\n",
    "    df = df.withColumn(nueva_columna, \n",
    "        when((col(columna) < lower) | (col(columna) > upper), lit(mediana))\n",
    "        .otherwise(col(columna))\n",
    "    )\n",
    "\n",
    "    return df\n"
   ]
  },
  {
   "cell_type": "code",
   "execution_count": 18,
   "id": "77b00d09",
   "metadata": {},
   "outputs": [
    {
     "name": "stderr",
     "output_type": "stream",
     "text": [
      "                                                                                \r"
     ]
    }
   ],
   "source": [
    "columnas_a_tratar = [\"Temperature(F)\", \"Humidity(%)\", \"Pressure(in)\", \"Precipitation(in)\", \"Wind_Speed(mph)\"]\n",
    "\n",
    "for col_name in columnas_a_tratar:\n",
    "    df_preprocesado = imputar_outliers_con_mediana(df_preprocesado, col_name)"
   ]
  },
  {
   "cell_type": "markdown",
   "id": "2adf1c4f",
   "metadata": {},
   "source": [
    "# 2. Construcción Train - Test"
   ]
  },
  {
   "cell_type": "code",
   "execution_count": 19,
   "id": "2eb3df16",
   "metadata": {},
   "outputs": [
    {
     "name": "stderr",
     "output_type": "stream",
     "text": [
      "[Stage 511:===============================================>       (20 + 3) / 23]\r"
     ]
    },
    {
     "name": "stdout",
     "output_type": "stream",
     "text": [
      "Existen 70222 instancias en el conjunto train, y 29778 en el conjunto test\n"
     ]
    },
    {
     "name": "stderr",
     "output_type": "stream",
     "text": [
      "                                                                                \r"
     ]
    }
   ],
   "source": [
    "# Caso 1\n",
    "# Construcción de un train - test con 200 ejecutores por default\n",
    "spark.conf.set(\"spark.sql.shuffle.partitions\", \"200\")\n",
    "train_data_rand_200w_a,test_data_rand_200w_a = df_preprocesado.randomSplit([0.7,0.3], seed = 42)\n",
    "print(f\"\"\"Existen {train_data_rand_200w_a.count()} instancias en el conjunto train, y {test_data_rand_200w_a.count()} en el conjunto test\"\"\")"
   ]
  },
  {
   "cell_type": "code",
   "execution_count": 20,
   "id": "e6736886",
   "metadata": {},
   "outputs": [
    {
     "name": "stderr",
     "output_type": "stream",
     "text": [
      "[Stage 577:==================================================>    (21 + 2) / 23]\r"
     ]
    },
    {
     "name": "stdout",
     "output_type": "stream",
     "text": [
      "Existen 70222 instancias en el conjunto train, y 29778 en el conjunto test\n"
     ]
    },
    {
     "name": "stderr",
     "output_type": "stream",
     "text": [
      "                                                                                \r"
     ]
    }
   ],
   "source": [
    "# Construcción de un train - test con 1 ejecutor\n",
    "spark.conf.set(\"spark.sql.shuffle.partitions\", \"1\")\n",
    "train_data_rand_1w_a,test_data_rand_1w_a = df_preprocesado.randomSplit([0.7,0.3], seed = 42)\n",
    "print(f\"\"\"Existen {train_data_rand_1w_a.count()} instancias en el conjunto train, y {test_data_rand_1w_a.count()} en el conjunto test\"\"\")"
   ]
  },
  {
   "cell_type": "code",
   "execution_count": 22,
   "id": "c3e3deb1",
   "metadata": {},
   "outputs": [
    {
     "name": "stderr",
     "output_type": "stream",
     "text": [
      "[Stage 610:===========================================>           (18 + 5) / 23]\r"
     ]
    },
    {
     "name": "stdout",
     "output_type": "stream",
     "text": [
      "+--------+--------------+-----------+------------+-----------------+---------------+---------------------+------------------+--------------------+-----+---------------------------+------------------------+-------------------------+------------------------------+----------------------------+-------+\n",
      "|Severity|Temperature(F)|Humidity(%)|Pressure(in)|Precipitation(in)|Wind_Speed(mph)|Weather_Condition_idx|Wind_Direction_idx|            features|label|Temperature(F)_sin_outliers|Humidity(%)_sin_outliers|Pressure(in)_sin_outliers|Precipitation(in)_sin_outliers|Wind_Speed(mph)_sin_outliers|stratum|\n",
      "+--------+--------------+-----------+------------+-----------------+---------------+---------------------+------------------+--------------------+-----+---------------------------+------------------------+-------------------------+------------------------------+----------------------------+-------+\n",
      "|       2|          87.0|       35.0|       29.11|              0.0|            8.0|                  1.0|               8.0|[87.0,35.0,29.11,...|  2.0|                       87.0|                    35.0|                    29.94|                           0.0|                         8.0|  2_1.0|\n",
      "|       2|          94.0|       31.0|       29.08|              0.0|            9.0|                  1.0|               8.0|[94.0,31.0,29.08,...|  2.0|                       94.0|                    31.0|                    29.94|                           0.0|                         9.0|  2_1.0|\n",
      "|       2|          85.0|       44.0|       29.07|              0.0|           10.0|                  1.0|              18.0|[85.0,44.0,29.07,...|  2.0|                       85.0|                    44.0|                    29.94|                           0.0|                        10.0|  2_1.0|\n",
      "|       2|          85.0|       44.0|       29.07|              0.0|           10.0|                  1.0|              18.0|[85.0,44.0,29.07,...|  2.0|                       85.0|                    44.0|                    29.94|                           0.0|                        10.0|  2_1.0|\n",
      "|       2|          85.0|       44.0|       29.07|              0.0|           10.0|                  1.0|              18.0|[85.0,44.0,29.07,...|  2.0|                       85.0|                    44.0|                    29.94|                           0.0|                        10.0|  2_1.0|\n",
      "+--------+--------------+-----------+------------+-----------------+---------------+---------------------+------------------+--------------------+-----+---------------------------+------------------------+-------------------------+------------------------------+----------------------------+-------+\n",
      "only showing top 5 rows\n",
      "\n"
     ]
    },
    {
     "name": "stderr",
     "output_type": "stream",
     "text": [
      "                                                                                \r"
     ]
    }
   ],
   "source": [
    "# Caso 2: Construcción de un train - test estratificado\n",
    "# Se crea una nueva columna que combina 'Weather_Condition' y 'Severity' para estratificar\n",
    "preparedDF_a_stratum = df_preprocesado.withColumn(\"stratum\", concat(df_preprocesado[\"Severity\"], lit(\"_\"), df_preprocesado[\"Weather_Condition_idx\"]))\n",
    "preparedDF_a_stratum.show(5)"
   ]
  },
  {
   "cell_type": "code",
   "execution_count": 24,
   "id": "40b9ca3f",
   "metadata": {},
   "outputs": [
    {
     "name": "stdout",
     "output_type": "stream",
     "text": [
      "root\n",
      " |-- Severity: integer (nullable = true)\n",
      " |-- Temperature(F): double (nullable = true)\n",
      " |-- Humidity(%): double (nullable = true)\n",
      " |-- Pressure(in): double (nullable = true)\n",
      " |-- Precipitation(in): double (nullable = true)\n",
      " |-- Wind_Speed(mph): double (nullable = true)\n",
      " |-- Weather_Condition_idx: double (nullable = false)\n",
      " |-- Wind_Direction_idx: double (nullable = false)\n",
      " |-- features: vector (nullable = true)\n",
      " |-- label: double (nullable = true)\n",
      " |-- Temperature(F)_sin_outliers: double (nullable = true)\n",
      " |-- Humidity(%)_sin_outliers: double (nullable = true)\n",
      " |-- Pressure(in)_sin_outliers: double (nullable = true)\n",
      " |-- Precipitation(in)_sin_outliers: double (nullable = true)\n",
      " |-- Wind_Speed(mph)_sin_outliers: double (nullable = true)\n",
      " |-- stratum: string (nullable = true)\n",
      "\n"
     ]
    }
   ],
   "source": [
    "#Se obtiene el esquema del DataFrame con la nueva columna de estratificación\n",
    "preparedDF_a_stratum.printSchema()"
   ]
  },
  {
   "cell_type": "code",
   "execution_count": 26,
   "id": "c965e28e",
   "metadata": {},
   "outputs": [
    {
     "name": "stderr",
     "output_type": "stream",
     "text": [
      "[Stage 730:===========================================>           (18 + 5) / 23]\r"
     ]
    },
    {
     "name": "stdout",
     "output_type": "stream",
     "text": [
      "[Row(Weather_Condition_idx=1.0, count=20000), Row(Weather_Condition_idx=2.0, count=20000), Row(Weather_Condition_idx=3.0, count=10000), Row(Weather_Condition_idx=6.0, count=10000), Row(Weather_Condition_idx=0.0, count=20000), Row(Weather_Condition_idx=4.0, count=10000), Row(Weather_Condition_idx=5.0, count=10000)]\n",
      "[Row(Severity=2, count=70000), Row(Severity=3, count=30000)]\n",
      "[Row(Weather_Condition_idx=1.0, Severity=2, count=10000), Row(Weather_Condition_idx=2.0, Severity=2, count=10000), Row(Weather_Condition_idx=3.0, Severity=2, count=10000), Row(Weather_Condition_idx=6.0, Severity=2, count=10000), Row(Weather_Condition_idx=0.0, Severity=2, count=10000), Row(Weather_Condition_idx=4.0, Severity=2, count=10000), Row(Weather_Condition_idx=5.0, Severity=2, count=10000), Row(Weather_Condition_idx=0.0, Severity=3, count=10000), Row(Weather_Condition_idx=1.0, Severity=3, count=10000), Row(Weather_Condition_idx=2.0, Severity=3, count=10000)]\n",
      "[Row(stratum='2_1.0', count=10000), Row(stratum='2_2.0', count=10000), Row(stratum='2_3.0', count=10000), Row(stratum='2_6.0', count=10000), Row(stratum='2_0.0', count=10000), Row(stratum='2_4.0', count=10000), Row(stratum='2_5.0', count=10000), Row(stratum='3_0.0', count=10000), Row(stratum='3_1.0', count=10000), Row(stratum='3_2.0', count=10000)]\n"
     ]
    },
    {
     "name": "stderr",
     "output_type": "stream",
     "text": [
      "                                                                                \r"
     ]
    }
   ],
   "source": [
    "# Se calcula la cantidad de instancias por cada valor diferente de las variables Weather_Condition, Severity y combinada\n",
    "stratum_counts_weather_c = preparedDF_a_stratum.groupBy(\"Weather_Condition_idx\").count().collect()\n",
    "stratum_counts_severity = preparedDF_a_stratum.groupBy(\"Severity\").count().collect()\n",
    "stratum_counts_combined_a = preparedDF_a_stratum.groupBy(\"Weather_Condition_idx\", \"Severity\").count().collect()\n",
    "stratum_counts_combined = preparedDF_a_stratum.groupBy(\"stratum\").count().collect()\n",
    "\n",
    "print(stratum_counts_weather_c)\n",
    "print(stratum_counts_severity)\n",
    "print(stratum_counts_combined_a)\n",
    "print(stratum_counts_combined)\n"
   ]
  },
  {
   "cell_type": "code",
   "execution_count": 27,
   "id": "dbd4b7eb",
   "metadata": {},
   "outputs": [],
   "source": [
    "# MUESTREO ESTRATIFICADO A PARTIR DE LA UNION DE PARTICIONES\n",
    "\n",
    "#Se inicializa train_data_stratum y test_data_stratum como dataframes vacios\n",
    "train_data_stratum_parts = []\n",
    "test_data_stratum_parts = []\n",
    "\n",
    "for row in stratum_counts_combined:\n",
    "  stratum = row['stratum']\n",
    "  # se extraen todos los registros con el valor de stratum\n",
    "  stratum_df = preparedDF_a_stratum.filter(preparedDF_a_stratum.stratum == stratum)\n",
    "  # Se genera la particion 70 - 30 deseada\n",
    "  train_data_stratified, test_data_stratified = stratum_df.randomSplit([0.7, 0.3], seed=42)\n",
    "  # Se unen los conjuntos\n",
    "  train_data_stratum_parts.append(train_data_stratified)\n",
    "  test_data_stratum_parts.append(test_data_stratified)\n",
    "\n"
   ]
  },
  {
   "cell_type": "code",
   "execution_count": 28,
   "id": "cbfacfaf",
   "metadata": {},
   "outputs": [
    {
     "name": "stderr",
     "output_type": "stream",
     "text": [
      "                                                                                \r"
     ]
    },
    {
     "name": "stdout",
     "output_type": "stream",
     "text": [
      "Existen 70222 instancias en el conjunto train, y 29778 en el conjunto test\n"
     ]
    },
    {
     "name": "stderr",
     "output_type": "stream",
     "text": [
      "                                                                                \r"
     ]
    },
    {
     "name": "stdout",
     "output_type": "stream",
     "text": [
      "+--------+--------------+-----------+------------+-----------------+---------------+---------------------+------------------+--------------------+-----+---------------------------+------------------------+-------------------------+------------------------------+----------------------------+-------+\n",
      "|Severity|Temperature(F)|Humidity(%)|Pressure(in)|Precipitation(in)|Wind_Speed(mph)|Weather_Condition_idx|Wind_Direction_idx|            features|label|Temperature(F)_sin_outliers|Humidity(%)_sin_outliers|Pressure(in)_sin_outliers|Precipitation(in)_sin_outliers|Wind_Speed(mph)_sin_outliers|stratum|\n",
      "+--------+--------------+-----------+------------+-----------------+---------------+---------------------+------------------+--------------------+-----+---------------------------+------------------------+-------------------------+------------------------------+----------------------------+-------+\n",
      "|       2|         -35.0|       70.0|       29.92|              0.0|            0.0|                  1.0|               4.0|[-35.0,70.0,29.92...|  2.0|                       68.0|                    70.0|                    29.92|                           0.0|                         0.0|  2_1.0|\n",
      "|       2|         -35.0|       70.0|       29.94|              0.0|            0.0|                  1.0|               4.0|[-35.0,70.0,29.94...|  2.0|                       68.0|                    70.0|                    29.94|                           0.0|                         0.0|  2_1.0|\n",
      "|       2|         -35.0|       70.0|       29.95|              0.0|            0.0|                  1.0|               4.0|[-35.0,70.0,29.95...|  2.0|                       68.0|                    70.0|                    29.95|                           0.0|                         0.0|  2_1.0|\n",
      "|       2|         -35.0|       70.0|       29.97|              0.0|            3.0|                  1.0|              10.0|[-35.0,70.0,29.97...|  2.0|                       68.0|                    70.0|                    29.97|                           0.0|                         3.0|  2_1.0|\n",
      "|       2|         -35.0|       70.0|       29.97|              0.0|            5.0|                  1.0|              18.0|[-35.0,70.0,29.97...|  2.0|                       68.0|                    70.0|                    29.97|                           0.0|                         5.0|  2_1.0|\n",
      "+--------+--------------+-----------+------------+-----------------+---------------+---------------------+------------------+--------------------+-----+---------------------------+------------------------+-------------------------+------------------------------+----------------------------+-------+\n",
      "only showing top 5 rows\n",
      "\n"
     ]
    },
    {
     "name": "stderr",
     "output_type": "stream",
     "text": [
      "[Stage 850:==================================================>    (21 + 2) / 23]\r"
     ]
    },
    {
     "name": "stdout",
     "output_type": "stream",
     "text": [
      "+--------+--------------+-----------+------------+-----------------+---------------+---------------------+------------------+--------------------+-----+---------------------------+------------------------+-------------------------+------------------------------+----------------------------+-------+\n",
      "|Severity|Temperature(F)|Humidity(%)|Pressure(in)|Precipitation(in)|Wind_Speed(mph)|Weather_Condition_idx|Wind_Direction_idx|            features|label|Temperature(F)_sin_outliers|Humidity(%)_sin_outliers|Pressure(in)_sin_outliers|Precipitation(in)_sin_outliers|Wind_Speed(mph)_sin_outliers|stratum|\n",
      "+--------+--------------+-----------+------------+-----------------+---------------+---------------------+------------------+--------------------+-----+---------------------------+------------------------+-------------------------+------------------------------+----------------------------+-------+\n",
      "|       2|         -35.0|       70.0|       29.95|              0.0|            0.0|                  1.0|               4.0|[-35.0,70.0,29.95...|  2.0|                       68.0|                    70.0|                    29.95|                           0.0|                         0.0|  2_1.0|\n",
      "|       2|         -35.0|       70.0|       29.97|              0.0|            5.0|                  1.0|              18.0|[-35.0,70.0,29.97...|  2.0|                       68.0|                    70.0|                    29.97|                           0.0|                         5.0|  2_1.0|\n",
      "|       2|         -35.0|       70.0|       30.02|              0.0|            3.0|                  1.0|              18.0|[-35.0,70.0,30.02...|  2.0|                       68.0|                    70.0|                    30.02|                           0.0|                         3.0|  2_1.0|\n",
      "|       2|         -35.0|       70.0|       30.03|              0.0|            0.0|                  1.0|               4.0|[-35.0,70.0,30.03...|  2.0|                       68.0|                    70.0|                    30.03|                           0.0|                         0.0|  2_1.0|\n",
      "|       2|          21.0|       60.0|       29.12|              0.0|            8.0|                  1.0|              12.0|[21.0,60.0,29.12,...|  2.0|                       68.0|                    60.0|                    29.94|                           0.0|                         8.0|  2_1.0|\n",
      "+--------+--------------+-----------+------------+-----------------+---------------+---------------------+------------------+--------------------+-----+---------------------------+------------------------+-------------------------+------------------------------+----------------------------+-------+\n",
      "only showing top 5 rows\n",
      "\n"
     ]
    },
    {
     "name": "stderr",
     "output_type": "stream",
     "text": [
      "                                                                                \r"
     ]
    }
   ],
   "source": [
    "#from pyspark.sql.functions import col\n",
    "if train_data_stratum_parts:\n",
    "    # Use the first DataFrame as the base and union the rest\n",
    "    train_data_stratum_b = train_data_stratum_parts[0]\n",
    "    for i in range(1, len(train_data_stratum_parts)):\n",
    "        train_data_stratum_b = train_data_stratum_b.unionAll(train_data_stratum_parts[i])\n",
    "if test_data_stratum_parts:\n",
    "    # Use the first DataFrame as the base and union the rest\n",
    "    test_data_stratum_b = test_data_stratum_parts[0]\n",
    "    for i in range(1, len(test_data_stratum_parts)):\n",
    "        test_data_stratum_b = test_data_stratum_b.unionAll(test_data_stratum_parts[i])\n",
    "\n",
    "print(f\"\"\"Existen {train_data_stratum_b.count()} instancias en el conjunto train, y {test_data_stratum_b.count()} en el conjunto test\"\"\")\n",
    "\n",
    "train_data_stratum_b.show(5)\n",
    "test_data_stratum_b.show(5)"
   ]
  },
  {
   "cell_type": "markdown",
   "id": "7a8fdc9b",
   "metadata": {},
   "source": [
    "# 3. Selección de métricas para medir calidad de resultados"
   ]
  },
  {
   "cell_type": "markdown",
   "id": "b0242747",
   "metadata": {},
   "source": [
    "## Justificación de métricas de evaluación\n",
    "\n",
    "### Aprendizaje Supervisado\n",
    "\n",
    "Se seleccionaron las métricas Accuracy, Precision y Recall por las siguientes razones fundamentadas en el análisis previo:\n",
    "\n",
    "1. Accuracy (Exactitud):\n",
    "   - El dataset fue estratificado y balanceado por las combinaciones más comunes de Weather_Condition y Severity (niveles 2 y 3).\n",
    "   - Esto permite utilizar accuracy como una métrica representativa del desempeño general del modelo.\n",
    "\n",
    "2. Precision (Precisión):\n",
    "   - Dada la relevancia de evitar falsos positivos en eventos severos, como accidentes durante climas extremos, se requiere una métrica que indique la confiabilidad de las predicciones positivas.\n",
    "   - Esto es importante para evitar alarmas falsas que puedan sobrecargar recursos de atención o respuesta.\n",
    "\n",
    "3. Recall (Exhaustividad):\n",
    "   - En el contexto de seguridad vial, es preferible detectar todos los accidentes severos aunque se cometan algunos falsos positivos.\n",
    "   - El recall es crucial para evaluar qué tan bien el modelo identifica todos los casos graves.\n",
    "\n",
    "\n",
    "Estas métricas reflejan el compromiso entre detectar la mayor cantidad de eventos severos y evitar clasificaciones incorrectas, lo cual es clave en aplicaciones reales de análisis de siniestros viales.\n",
    "\n",
    "### Aprendizaje No Supervisado\n",
    "\n",
    "Para el modelo de aprendizaje no supervisado, se seleccionaron las métricas de Silhoutte score y WSSE, que nos brindan la siguiente información:\n",
    "\n",
    "- Silhouette score mide qué tan bien separados y compactos están los clústeres: valores cercanos a 1 indican que los puntos están bien agrupados y lejos de otros clústeres.\n",
    "\n",
    "- WSSE (Within Set Sum of Squared Errors) evalúa la cohesión interna del clúster: suma las distancias cuadradas de cada punto a su centroide — menor WSSE indica clústeres más compactos."
   ]
  },
  {
   "cell_type": "markdown",
   "id": "172d9af0",
   "metadata": {},
   "source": [
    "# 4. Entrenamiento de Modelos de Aprendizaje"
   ]
  },
  {
   "cell_type": "markdown",
   "id": "442166fd",
   "metadata": {},
   "source": [
    "## 4.1 Aprendizaje supervisado: Random Forest"
   ]
  },
  {
   "cell_type": "markdown",
   "id": "c711030f",
   "metadata": {},
   "source": [
    "#### Estrategia de entrenamiento\n",
    "Se utilizaron los conjuntos `Train` y `Test` generados previamente. Los datos se preprocesaron asegurando que no hubiera valores nulos, y se aplicó codificación a variables categóricas cuando fue necesario.\n",
    "\n",
    "#### Ajuste de hiperparámetros\n",
    "Se realizó una búsqueda con validación cruzada (cross-validation) usando `ParamGridBuilder` y `TrainValidationSplit` para optimizar hiperparámetros como:\n",
    "\n",
    "- `numTrees`: número de árboles del bosque\n",
    "- `maxDepth`: profundidad máxima de cada árbol\n",
    "\n",
    "#### Prevención del sobreajuste\n",
    "Para evitar el sobreajuste:\n",
    "- Se dividieron los datos en train/test previamente.\n",
    "- Se utilizó validación cruzada.\n",
    "- Se limitaron los árboles y la profundidad.\n",
    "\n",
    "El modelo final se entrenó con los mejores parámetros encontrados para la métrica \"Accuracy\". Se puede modificar, según la métrica que se quiere optimizar."
   ]
  },
  {
   "cell_type": "code",
   "execution_count": 29,
   "id": "89afd675",
   "metadata": {},
   "outputs": [
    {
     "name": "stderr",
     "output_type": "stream",
     "text": [
      "[Stage 1756:==========================================>           (18 + 5) / 23]\r"
     ]
    },
    {
     "name": "stdout",
     "output_type": "stream",
     "text": [
      "Best Model Parameters: numTrees=10, maxDepth=10\n"
     ]
    }
   ],
   "source": [
    "rf = RandomForestClassifier(labelCol=\"label\", featuresCol=\"features\")\n",
    "\n",
    "paramGrid = ParamGridBuilder() \\\n",
    "    .addGrid(rf.numTrees, [10, 20]) \\\n",
    "    .addGrid(rf.maxDepth, [5, 10]) \\\n",
    "    .build()\n",
    "\n",
    "evaluator = MulticlassClassificationEvaluator(labelCol=\"label\", metricName=\"accuracy\")\n",
    "\n",
    "tvs = TrainValidationSplit(estimator=rf,\n",
    "                           estimatorParamMaps=paramGrid,\n",
    "                           evaluator=evaluator,\n",
    "                           trainRatio=0.8)\n",
    "\n",
    "model = tvs.fit(train_data_stratum_b)\n",
    "\n",
    "best_model = model.bestModel\n",
    "\n",
    "print(f\"Best Model Parameters: numTrees={best_model.getNumTrees}, maxDepth={best_model.getOrDefault(rf.maxDepth)}\")\n"
   ]
  },
  {
   "cell_type": "code",
   "execution_count": 30,
   "id": "96fb4837",
   "metadata": {},
   "outputs": [],
   "source": [
    "#Se utilizan los mejores parámetros del modelo para crear un nuevo RandomForestClassifier\n",
    "rf = RandomForestClassifier(labelCol=\"label\", featuresCol=\"features\", numTrees=20, maxDepth=10)"
   ]
  },
  {
   "cell_type": "code",
   "execution_count": 31,
   "id": "ef86ae50",
   "metadata": {},
   "outputs": [
    {
     "name": "stderr",
     "output_type": "stream",
     "text": [
      "[Stage 1973:=================================================>    (21 + 2) / 23]\r"
     ]
    }
   ],
   "source": [
    "# Se entrena el modelo con el conjunto de entrenamiento estratificado\n",
    "rfModel_d = rf.fit(train_data_stratum_b)"
   ]
  },
  {
   "cell_type": "code",
   "execution_count": 32,
   "id": "3394090d",
   "metadata": {},
   "outputs": [
    {
     "name": "stderr",
     "output_type": "stream",
     "text": [
      "[Stage 1983:=================================================>    (21 + 2) / 23]\r"
     ]
    },
    {
     "name": "stdout",
     "output_type": "stream",
     "text": [
      "+--------+-----+--------------------+----------+--------------------+\n",
      "|Severity|label|       rawPrediction|prediction|         probability|\n",
      "+--------+-----+--------------------+----------+--------------------+\n",
      "|       2|  2.0|[0.0,0.0,10.30699...|       2.0|[0.0,0.0,0.515349...|\n",
      "|       2|  2.0|[0.0,0.0,9.350475...|       3.0|[0.0,0.0,0.467523...|\n",
      "|       2|  2.0|[0.0,0.0,9.350475...|       3.0|[0.0,0.0,0.467523...|\n",
      "|       2|  2.0|[0.0,0.0,14.66577...|       2.0|[0.0,0.0,0.733288...|\n",
      "|       2|  2.0|[0.0,0.0,12.37948...|       2.0|[0.0,0.0,0.618974...|\n",
      "+--------+-----+--------------------+----------+--------------------+\n",
      "only showing top 5 rows\n",
      "\n"
     ]
    },
    {
     "name": "stderr",
     "output_type": "stream",
     "text": [
      "                                                                                \r"
     ]
    }
   ],
   "source": [
    "# Imprimiendo los valores de predicción del modelo sobre el train\n",
    "rfModel_d.transform(train_data_stratum_b).select('Severity', 'label', 'rawPrediction', 'prediction', 'probability').show(5)"
   ]
  },
  {
   "cell_type": "code",
   "execution_count": 33,
   "id": "b72f519d",
   "metadata": {},
   "outputs": [],
   "source": [
    "# Se aplica el modelo con el conjunto de prueba estratificado\n",
    "rfModelt_d = rfModel_d.transform(test_data_stratum_b)"
   ]
  },
  {
   "cell_type": "code",
   "execution_count": 34,
   "id": "6898ba64",
   "metadata": {},
   "outputs": [
    {
     "name": "stderr",
     "output_type": "stream",
     "text": [
      "[Stage 2015:==============================================>      (88 + 8) / 100]\r"
     ]
    },
    {
     "name": "stdout",
     "output_type": "stream",
     "text": [
      "Accuracy for train_data_stratum_b: 0.743\n"
     ]
    },
    {
     "name": "stderr",
     "output_type": "stream",
     "text": [
      "                                                                                \r"
     ]
    }
   ],
   "source": [
    "# Se evaluan los resultados del modelo con el conjunto de prueba estratificado\n",
    "evaluator = MulticlassClassificationEvaluator(labelCol=\"label\", predictionCol=\"prediction\", metricName=\"accuracy\")\n",
    "\n",
    "accuracy_d = evaluator.evaluate(rfModelt_d)\n",
    "\n",
    "# Imprimiendo cada resultado de accuracy\n",
    "\n",
    "print(\"Accuracy for train_data_stratum_b: %.3f\" % accuracy_d)"
   ]
  },
  {
   "cell_type": "code",
   "execution_count": 35,
   "id": "f971f97b",
   "metadata": {},
   "outputs": [
    {
     "name": "stderr",
     "output_type": "stream",
     "text": [
      "                                                                                \r"
     ]
    },
    {
     "name": "stdout",
     "output_type": "stream",
     "text": [
      "Precision for label 2.0: 0.8186\n"
     ]
    },
    {
     "name": "stderr",
     "output_type": "stream",
     "text": [
      "[Stage 2092:==============================================>      (88 + 8) / 100]\r"
     ]
    },
    {
     "name": "stdout",
     "output_type": "stream",
     "text": [
      "Precision for label 3.0: 0.5732\n"
     ]
    },
    {
     "name": "stderr",
     "output_type": "stream",
     "text": [
      "                                                                                \r"
     ]
    }
   ],
   "source": [
    "# Se obtienen las etiquetas únicas del conjunto de prueba estratificado\n",
    "labels = [row[\"label\"] for row in rfModelt_d.select(\"label\").distinct().collect()]\n",
    "\n",
    "# Se calcula la precisión para cada etiqueta\n",
    "precision_evaluator = MulticlassClassificationEvaluator(\n",
    "    labelCol=\"label\", predictionCol=\"prediction\", metricName=\"precisionByLabel\"\n",
    ")\n",
    "\n",
    "for label in sorted(labels):\n",
    "    precision_evaluator.setMetricLabel(label)\n",
    "    precision = precision_evaluator.evaluate(rfModelt_d)\n",
    "    print(f\"Precision for label {label}: {precision:.4f}\")"
   ]
  },
  {
   "cell_type": "code",
   "execution_count": 36,
   "id": "1b64e2e8",
   "metadata": {},
   "outputs": [
    {
     "name": "stderr",
     "output_type": "stream",
     "text": [
      "                                                                                \r"
     ]
    },
    {
     "name": "stdout",
     "output_type": "stream",
     "text": [
      "Recall for label 2.0: 0.8108\n"
     ]
    },
    {
     "name": "stderr",
     "output_type": "stream",
     "text": [
      "[Stage 2169:=============================================>       (86 + 8) / 100]\r"
     ]
    },
    {
     "name": "stdout",
     "output_type": "stream",
     "text": [
      "Recall for label 3.0: 0.5857\n"
     ]
    },
    {
     "name": "stderr",
     "output_type": "stream",
     "text": [
      "                                                                                \r"
     ]
    }
   ],
   "source": [
    "# Se calcula el recall para cada etiqueta\n",
    "recall_evaluator = MulticlassClassificationEvaluator(labelCol=\"label\", predictionCol=\"prediction\", metricName=\"recallByLabel\")\n",
    "labels = [row[\"label\"] for row in rfModelt_d.select(\"label\").distinct().collect()]\n",
    "\n",
    "for l in sorted(labels):\n",
    "    recall_evaluator.setMetricLabel(l)\n",
    "    score = recall_evaluator.evaluate(rfModelt_d)\n",
    "    print(f\"Recall for label {l}: {score:.4f}\")"
   ]
  },
  {
   "cell_type": "code",
   "execution_count": 37,
   "id": "99c3c32f",
   "metadata": {},
   "outputs": [
    {
     "name": "stderr",
     "output_type": "stream",
     "text": [
      "[Stage 2191:==========================================>          (81 + 8) / 100]\r"
     ]
    },
    {
     "name": "stdout",
     "output_type": "stream",
     "text": [
      "+-----+----------+-----+\n",
      "|label|prediction|count|\n",
      "+-----+----------+-----+\n",
      "|  2.0|       3.0| 3929|\n",
      "|  2.0|       2.0|16840|\n",
      "|  3.0|       2.0| 3732|\n",
      "|  3.0|       3.0| 5277|\n",
      "+-----+----------+-----+\n",
      "\n"
     ]
    },
    {
     "name": "stderr",
     "output_type": "stream",
     "text": [
      "                                                                                \r"
     ]
    }
   ],
   "source": [
    "# Se muestran los conteos de las predicciones del modelo\n",
    "rfModelt_d.groupBy(\"label\",\"prediction\").count().show()"
   ]
  },
  {
   "cell_type": "code",
   "execution_count": 38,
   "id": "0b3caec4",
   "metadata": {},
   "outputs": [
    {
     "name": "stderr",
     "output_type": "stream",
     "text": [
      "                                                                                \r"
     ]
    },
    {
     "name": "stdout",
     "output_type": "stream",
     "text": [
      "Accuracy: 0.7427\n",
      "Precision for Label 2: 0.8186\n",
      "Precision for Label 3: 0.5732\n",
      "Recall for Label 2: 0.8108\n",
      "Recall for Label 3: 0.5857\n"
     ]
    },
    {
     "data": {
      "image/png": "[encoded data removed]",
      "text/plain": [
       "<Figure size 800x400 with 1 Axes>"
      ]
     },
     "metadata": {},
     "output_type": "display_data"
    }
   ],
   "source": [
    "# Se muestran las métricas de evaluación del modelo \n",
    "# en una gráfica de barras para una mejor visualización\n",
    "\n",
    "precision_evaluator.setMetricLabel(2.0)\n",
    "prec_2 = precision_evaluator.evaluate(rfModelt_d)\n",
    "\n",
    "precision_evaluator.setMetricLabel(3.0)\n",
    "prec_3 = precision_evaluator.evaluate(rfModelt_d)\n",
    "\n",
    "recall_evaluator.setMetricLabel(2.0)\n",
    "recall_2 = recall_evaluator.evaluate(rfModelt_d)\n",
    "\n",
    "recall_evaluator.setMetricLabel(3.0)\n",
    "recall_3 = recall_evaluator.evaluate(rfModelt_d)\n",
    "\n",
    "print(f\"Accuracy: {accuracy_d:.4f}\")\n",
    "print(f\"Precision for Label 2: {prec_2:.4f}\")\n",
    "print(f\"Precision for Label 3: {prec_3:.4f}\")\n",
    "print(f\"Recall for Label 2: {recall_2:.4f}\")\n",
    "print(f\"Recall for Label 3: {recall_3:.4f}\")\n",
    "\n",
    "metricas_df = pd.DataFrame({\n",
    "    'Métrica': ['Accuracy', 'Precision Label 2','Precision Label 3', 'Recall Label 2', 'Recall Label 3'],\n",
    "    'Valor': [accuracy_d, prec_2, prec_3, recall_2, recall_3]\n",
    "})\n",
    "plt.figure(figsize=(8,4))\n",
    "plt.bar(metricas_df['Métrica'], metricas_df['Valor'], color='skyblue')\n",
    "plt.title('Métricas de Evaluación del Modelo')\n",
    "plt.ylim(0, 1)\n",
    "plt.ylabel('Puntaje')\n",
    "plt.tight_layout()\n",
    "plt.show()"
   ]
  },
  {
   "cell_type": "markdown",
   "id": "d1ca57b4",
   "metadata": {},
   "source": [
    "## 4.2 Aprendizaje no supervisado: KMeans"
   ]
  },
  {
   "cell_type": "markdown",
   "id": "636d3b7c",
   "metadata": {},
   "source": [
    "Con base en la actividad anterior, se construye un modelo con 2 clústeres, que se espera que correspondan a la severidad del accidente: 2, 3."
   ]
  },
  {
   "cell_type": "code",
   "execution_count": 39,
   "id": "bbf9d122",
   "metadata": {},
   "outputs": [
    {
     "name": "stderr",
     "output_type": "stream",
     "text": [
      "                                                                                \r"
     ]
    },
    {
     "name": "stdout",
     "output_type": "stream",
     "text": [
      "Score de silueta para k=2: 0.6153\n"
     ]
    },
    {
     "name": "stderr",
     "output_type": "stream",
     "text": [
      "                                                                                \r"
     ]
    },
    {
     "name": "stdout",
     "output_type": "stream",
     "text": [
      "WSSE (Within Set Sum of Squared Errors): 37621332.17\n"
     ]
    },
    {
     "name": "stderr",
     "output_type": "stream",
     "text": [
      "[Stage 2757:=================================================>    (21 + 2) / 23]\r"
     ]
    },
    {
     "name": "stdout",
     "output_type": "stream",
     "text": [
      "+----------+-----+\n",
      "|prediction|count|\n",
      "+----------+-----+\n",
      "|         0|39552|\n",
      "|         1|60448|\n",
      "+----------+-----+\n",
      "\n"
     ]
    },
    {
     "name": "stderr",
     "output_type": "stream",
     "text": [
      "                                                                                \r"
     ]
    }
   ],
   "source": [
    "# Se crea y se entrena el modelo KMeans\n",
    "kmeans = KMeans().setK(2).setSeed(42).setFeaturesCol(\"features\")\n",
    "modelo_kmeans = kmeans.fit(df_preprocesado)\n",
    "\n",
    "# Se aplica el modelo KMeans al DataFrame preprocesado\n",
    "predicciones = modelo_kmeans.transform(df_preprocesado)\n",
    "\n",
    "# Se calcula el Silhouette score\n",
    "evaluator = ClusteringEvaluator()\n",
    "silhouette = evaluator.evaluate(predicciones)\n",
    "print(f\"Score de silueta para k=2: {silhouette:.4f}\")\n",
    "\n",
    "# Se extraen los centros de los clústeres\n",
    "centers = modelo_kmeans.clusterCenters()\n",
    "\n",
    "# Función para calcular distancia cuadrada al centroide\n",
    "def squared_distance(point, center):\n",
    "    return float(np.sum((np.array(point) - np.array(center)) ** 2))\n",
    "\n",
    "# UDF para calcular la distancia al centro correspondiente\n",
    "@udf(DoubleType())\n",
    "def compute_squared_distance(features, prediction):\n",
    "    center = centers[prediction]\n",
    "    return squared_distance(features, center)\n",
    "\n",
    "# Se calculan las distancias cuadradas y sumar\n",
    "predicciones = predicciones.withColumn(\"squared_error\", compute_squared_distance(\"features\", \"prediction\"))\n",
    "wsse = predicciones.agg({\"squared_error\": \"sum\"}).collect()[0][0]\n",
    "print(f\"WSSE (Within Set Sum of Squared Errors): {wsse:.2f}\")\n",
    "\n",
    "# Se muestra la distribución de clústeres\n",
    "predicciones.select(\"prediction\").groupBy(\"prediction\").count().show()"
   ]
  },
  {
   "cell_type": "code",
   "execution_count": 40,
   "id": "d2ac38ff",
   "metadata": {},
   "outputs": [
    {
     "name": "stderr",
     "output_type": "stream",
     "text": [
      "[Stage 2790:=================================================>    (21 + 2) / 23]\r"
     ]
    },
    {
     "name": "stdout",
     "output_type": "stream",
     "text": [
      "+-----+----------+-----+\n",
      "|label|prediction|count|\n",
      "+-----+----------+-----+\n",
      "|  2.0|         0|23258|\n",
      "|  2.0|         1|46742|\n",
      "|  3.0|         1|13706|\n",
      "|  3.0|         0|16294|\n",
      "+-----+----------+-----+\n",
      "\n"
     ]
    },
    {
     "name": "stderr",
     "output_type": "stream",
     "text": [
      "                                                                                \r"
     ]
    }
   ],
   "source": [
    "# Se muestran las predicciones del modelo KMeans junto con las etiquetas reales\n",
    "predicciones.select(\"label\",\"prediction\").groupBy(\"label\",\"prediction\").count().show()\n"
   ]
  },
  {
   "cell_type": "markdown",
   "id": "442f188f",
   "metadata": {},
   "source": [
    "De igual forma, se puede evaluar el modelo con un número diferente de clusters; sin embargo, las gráficas a continuación muestran que el número óptimo podría estar entre 2 o 3 clústeres (que sería nuestro símil al ajuste de hiperparámetros). \n",
    "\n",
    "Esto lo podemos determinar gracias al score de Silhoutte y al WSSE."
   ]
  },
  {
   "cell_type": "code",
   "execution_count": 41,
   "id": "c8065218",
   "metadata": {},
   "outputs": [
    {
     "name": "stderr",
     "output_type": "stream",
     "text": [
      "                                                                                \r"
     ]
    },
    {
     "data": {
      "image/png": "[encoded data removed]",
      "text/plain": [
       "<Figure size 800x500 with 1 Axes>"
      ]
     },
     "metadata": {},
     "output_type": "display_data"
    }
   ],
   "source": [
    "#Se crea una lista vacía, que guardará cada uno de los scores de los modelos.\n",
    "cost = []\n",
    "\n",
    "#Se crea un loop de 2 a 5, para evaluar los diferentes modelos (con base en el número de clusters)\n",
    "for k in range(2,5):\n",
    "    #Se crea el modelo\n",
    "    kmeans = KMeans().setK(k).setSeed(1).setFeaturesCol(\"features\")\n",
    "    #Se entrena el modelo.\n",
    "    model = kmeans.fit(df_preprocesado)\n",
    "    #Se aplica el modelo.\n",
    "    predictions = model.transform(df_preprocesado)\n",
    "    #Se evalúa el modelo y se guarda el score de Silhoutte.\n",
    "    evaluator = ClusteringEvaluator()\n",
    "    silhouette = evaluator.evaluate(predictions)\n",
    "    cost.append(silhouette)\n",
    "\n",
    "#Se grafica el resultado.\n",
    "plt.figure(figsize=(8, 5))\n",
    "plt.plot(range(2, 5), cost, marker='o')\n",
    "plt.xlabel('Número de clústeres')\n",
    "plt.ylabel('Score de Silueta')\n",
    "plt.title('Método del Codo para KMeans')\n",
    "plt.show()\n"
   ]
  },
  {
   "cell_type": "code",
   "execution_count": 42,
   "id": "f759f1d6",
   "metadata": {},
   "outputs": [
    {
     "name": "stderr",
     "output_type": "stream",
     "text": [
      "                                                                                \r"
     ]
    },
    {
     "data": {
      "image/png": "[encoded data removed]",
      "text/plain": [
       "<Figure size 800x500 with 1 Axes>"
      ]
     },
     "metadata": {},
     "output_type": "display_data"
    }
   ],
   "source": [
    "# Lista para almacenar la inercia (WSSSE)\n",
    "wssse_list = []\n",
    "\n",
    "# Rango de valores de k a probar\n",
    "k_values = list(range(2, 5))\n",
    "\n",
    "for k in k_values:\n",
    "    kmeans = KMeans().setK(k).setSeed(42).setFeaturesCol(\"features\")\n",
    "    model = kmeans.fit(df_preprocesado)\n",
    "    \n",
    "    # Compute cost (WSSSE)\n",
    "    wssse = model.summary.trainingCost\n",
    "    wssse_list.append(wssse)\n",
    "\n",
    "# Graficar curva de inercia\n",
    "plt.figure(figsize=(8, 5))\n",
    "plt.plot(k_values, wssse_list, marker='o')\n",
    "plt.xlabel('Número de clústeres (k)')\n",
    "plt.ylabel('Inercia (WSSSE)')\n",
    "plt.title('Curva de Inercia para KMeans')\n",
    "plt.grid(True)\n",
    "plt.show()\n"
   ]
  },
  {
   "cell_type": "markdown",
   "id": "05b52e54",
   "metadata": {},
   "source": [
    "# 5. Análisis de resultados"
   ]
  },
  {
   "cell_type": "markdown",
   "id": "980ca2de",
   "metadata": {},
   "source": [
    "#### 🔍 Clasificación Supervisada (Random Forest)\n",
    "\n",
    "**Métricas principales obtenidas:**\n",
    "- **Accuracy:** ~0.74\n",
    "- **Precision clase 2:** ~0.79\n",
    "- **Precision clase 3:** ~0.58\n",
    "- **Recall clase 2:** ~0.85\n",
    "- **Recall clase 3:** ~0.50\n",
    "\n",
    "**Análisis:**\n",
    "- El modelo presenta un buen rendimiento general, especialmente para la **clase 2**, donde tanto la **precisión como el recall son altos**, lo que indica que los ejemplos de esa clase son reconocidos correctamente y con pocos falsos positivos.\n",
    "- La **clase 3**, en cambio, muestra **precisión y recall bajos**, lo que sugiere que el modelo tiene dificultades para identificar correctamente esa clase. Esto podría deberse a un desbalance en la cantidad de muestras o a que las características de esta clase no están bien diferenciadas.\n",
    "- La matriz de confusión (agrupado y conteo) confirma una gran cantidad de aciertos para la clase 2, pero también falsos negativos significativos para la clase 3, que son confundidos con la clase 2.\n",
    "\n",
    "**Fortalezas:**\n",
    "- Buen desempeño general en términos de exactitud.\n",
    "- Sólido rendimiento en la clase más representativa (clase 2).\n",
    "\n",
    "**Áreas de oportunidad:**\n",
    "- Bajo rendimiento en la clase 3.\n",
    "- Quizás convenga balancear un poco más las clases y/o aumentar el tamaño de las muestras, para cada partición.\n",
    "\n",
    "**Recomendaciones adicionales:**\n",
    "\n",
    "- Decidir específicamente qué se prefiere en nuestro modelo: detectar de mejor forma los accidentes de mayor severidad o generar falsos positivos (accidentes de severidad menor, catalogarlos como de severidad mayor). Con esto en mente, podemos ajustar nuestra búsqueda de hiper-parámetros, con el fin de optimizar precision o recall.\n",
    "\n",
    "---------------------------------------------\n",
    "\n",
    "#### 🔎 Clustering No Supervisado (KMeans)\n",
    "\n",
    "**Resultados clave:**\n",
    "- **Score de silueta para k=2:** 0.6144 → buena separación entre clústeres.\n",
    "- **WSSE (k=2):** 37,786,876.80\n",
    "- **Distribución de clústeres:**\n",
    "  - Clúster 0: 39,553 instancias\n",
    "  - Clúster 1: 60,447 instancias\n",
    "\n",
    "**Análisis:**\n",
    "- El valor de silueta es positivo y relativamente alto (> 0.6), lo que sugiere una buena separación entre clústeres.\n",
    "- La **curva de inercia** muestra una disminución significativa con el incremento de k, lo que respalda empíricamente la elección de k=2 como punto de “codo”.\n",
    "- A pesar de ello, los tamaños desbalanceados de los clústeres podrían indicar la presencia de subgrupos internos o una estructura más compleja en los datos.\n",
    "\n",
    "**Fortalezas:**\n",
    "- Separación clara entre clústeres.\n",
    "- Indicadores métricos aceptables para un análisis inicial.\n",
    "\n",
    "**Áreas de oportunidad:**\n",
    "- Desbalance notable entre clústeres.\n",
    "- Se puede complementar con reducción de dimensionalidad (PCA) para visualización o probar k <> 2 para segmentaciones más detalladas.\n",
    "\n",
    "--------------------------------------------------\n",
    "\n",
    "### 📌 Conclusiones Generales\n",
    "\n",
    "- El modelo supervisado logró un buen desempeño general. No obstante, es importante mejorar el reconocimiento de clases minoritarias mediante estrategias de balanceo o selección de características más representativas (o generación de nuevas).\n",
    "- El análisis no supervisado confirma la presencia de agrupamientos naturales en los datos. Se recomienda explorar más valores de k y técnicas complementarias.\n",
    "- Las métricas implementadas fueron adecuadas para evaluar modelos multiclase y segmentaciones no supervisadas. Estas proporcionan una visión robusta del comportamiento del modelo bajo distintos criterios."
   ]
  },
  {
   "cell_type": "markdown",
   "id": "53592e77",
   "metadata": {},
   "source": []
  }
 ],
 "metadata": {
  "kernelspec": {
   "display_name": "env-pyspark-mna",
   "language": "python",
   "name": "python3"
  },
  "language_info": {
   "codemirror_mode": {
    "name": "ipython",
    "version": 3
   },
   "file_extension": ".py",
   "mimetype": "text/x-python",
   "name": "python",
   "nbconvert_exporter": "python",
   "pygments_lexer": "ipython3",
   "version": "3.12.9"
  }
 },
 "nbformat": 4,
 "nbformat_minor": 5
}
