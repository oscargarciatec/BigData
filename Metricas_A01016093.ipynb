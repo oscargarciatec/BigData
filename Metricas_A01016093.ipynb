{
 "cells": [
  {
   "cell_type": "markdown",
   "id": "19032e6b",
   "metadata": {},
   "source": [
    "# 🎓 **Maestría en Inteligencia Artificial Aplicada**\n",
    "\n",
    "## 📈 **Curso: Análisis de grandes volúmenes de datos (Gpo 10)**\n",
    "\n",
    "### 🏛️ Tecnológico de Monterrey\n",
    "\n",
    "#### 👨‍🏫 **Profesor titular:** Dr. Iván Olmos Pineda\n",
    "#### 👩‍🏫 **Profesor asistente:** Verónica Sandra Guzmán de Valle\n",
    "\n",
    "### 📊 **Actividad 4 | Métricas de calidad de resultados**\n",
    "\n",
    "#### 📅 **6 de junio de 2025**\n",
    "\n",
    "🧑‍💻 **A01016093:** Oscar Enrique García García "
   ]
  },
  {
   "cell_type": "markdown",
   "id": "5901a707",
   "metadata": {},
   "source": [
    "# 0.1. Importar librerías"
   ]
  },
  {
   "cell_type": "code",
   "execution_count": 1,
   "id": "f91db383",
   "metadata": {},
   "outputs": [],
   "source": [
    "from pyspark.sql import SparkSession\n",
    "from pyspark.sql.functions import col, rand, count, when, isnan, desc, lit, concat\n",
    "from pyspark.ml import Pipeline\n",
    "from pyspark.ml.feature import VectorAssembler, StringIndexer, StandardScaler\n",
    "from pyspark.ml.classification import RandomForestClassifier\n",
    "from pyspark.ml.evaluation import MulticlassClassificationEvaluator\n",
    "import matplotlib.pyplot as plt\n",
    "import pandas as pd\n",
    "from pyspark.ml.feature import Imputer\n",
    "from pyspark.ml.feature import RFormula\n",
    "import warnings\n",
    "warnings.filterwarnings('ignore')"
   ]
  },
  {
   "cell_type": "markdown",
   "id": "46a5cf56",
   "metadata": {},
   "source": [
    "# 0.2. Crear sesión de spark y leer archivo"
   ]
  },
  {
   "cell_type": "code",
   "execution_count": 2,
   "id": "9847c85a",
   "metadata": {},
   "outputs": [
    {
     "name": "stderr",
     "output_type": "stream",
     "text": [
      "25/06/06 21:52:47 WARN Utils: Your hostname, MacBook-Air-de-Oscar-2.local resolves to a loopback address: 127.0.0.1; using 192.168.68.103 instead (on interface en0)\n",
      "25/06/06 21:52:47 WARN Utils: Set SPARK_LOCAL_IP if you need to bind to another address\n",
      "Setting default log level to \"WARN\".\n",
      "To adjust logging level use sc.setLogLevel(newLevel). For SparkR, use setLogLevel(newLevel).\n",
      "25/06/06 21:52:47 WARN NativeCodeLoader: Unable to load native-hadoop library for your platform... using builtin-java classes where applicable\n"
     ]
    }
   ],
   "source": [
    "spark = SparkSession.builder \\\n",
    "    .appName(\"Actividad4_MetricasCalidad\") \\\n",
    "    .getOrCreate()\n",
    "\n",
    "spark.conf.set(\"spark.sql.repl.eagerEval.enabled\", True) "
   ]
  },
  {
   "cell_type": "code",
   "execution_count": 3,
   "id": "604a2af9",
   "metadata": {},
   "outputs": [
    {
     "name": "stderr",
     "output_type": "stream",
     "text": [
      "25/06/06 21:52:59 WARN GarbageCollectionMetrics: To enable non-built-in garbage collector(s) List(G1 Concurrent GC), users should configure it(them) to spark.eventLog.gcMetrics.youngGenerationGarbageCollectors or spark.eventLog.gcMetrics.oldGenerationGarbageCollectors\n",
      "25/06/06 21:53:00 WARN SparkStringUtils: Truncated the string representation of a plan since it was too large. This behavior can be adjusted by setting 'spark.sql.debug.maxToStringFields'.\n"
     ]
    },
    {
     "name": "stdout",
     "output_type": "stream",
     "text": [
      "+---+-------+--------+-------------------+-------------------+-----------------+------------------+-------+-------+------------+--------------------+--------------------+------------+----------+-----+----------+-------+----------+------------+-------------------+--------------+-------------+-----------+------------+--------------+--------------+---------------+-----------------+-----------------+-------+-----+--------+--------+--------+-------+-------+----------+-------+-----+---------------+--------------+------------+--------------+--------------+-----------------+---------------------+\n",
      "| ID| Source|Severity|         Start_Time|           End_Time|        Start_Lat|         Start_Lng|End_Lat|End_Lng|Distance(mi)|         Description|              Street|        City|    County|State|   Zipcode|Country|  Timezone|Airport_Code|  Weather_Timestamp|Temperature(F)|Wind_Chill(F)|Humidity(%)|Pressure(in)|Visibility(mi)|Wind_Direction|Wind_Speed(mph)|Precipitation(in)|Weather_Condition|Amenity| Bump|Crossing|Give_Way|Junction|No_Exit|Railway|Roundabout|Station| Stop|Traffic_Calming|Traffic_Signal|Turning_Loop|Sunrise_Sunset|Civil_Twilight|Nautical_Twilight|Astronomical_Twilight|\n",
      "+---+-------+--------+-------------------+-------------------+-----------------+------------------+-------+-------+------------+--------------------+--------------------+------------+----------+-----+----------+-------+----------+------------+-------------------+--------------+-------------+-----------+------------+--------------+--------------+---------------+-----------------+-----------------+-------+-----+--------+--------+--------+-------+-------+----------+-------+-----+---------------+--------------+------------+--------------+--------------+-----------------+---------------------+\n",
      "|A-1|Source2|       3|2016-02-08 05:46:00|2016-02-08 11:00:00|        39.865147|        -84.058723|   NULL|   NULL|        0.01|Right lane blocke...|              I-70 E|      Dayton|Montgomery|   OH|     45424|     US|US/Eastern|        KFFO|2016-02-08 05:58:00|          36.9|         NULL|       91.0|       29.68|          10.0|          Calm|           NULL|             0.02|       Light Rain|  false|false|   false|   false|   false|  false|  false|     false|  false|false|          false|         false|       false|         Night|         Night|            Night|                Night|\n",
      "|A-2|Source2|       2|2016-02-08 06:07:59|2016-02-08 06:37:59|39.92805900000001|        -82.831184|   NULL|   NULL|        0.01|Accident on Brice...|            Brice Rd|Reynoldsburg|  Franklin|   OH|43068-3402|     US|US/Eastern|        KCMH|2016-02-08 05:51:00|          37.9|         NULL|      100.0|       29.65|          10.0|          Calm|           NULL|              0.0|       Light Rain|  false|false|   false|   false|   false|  false|  false|     false|  false|false|          false|         false|       false|         Night|         Night|            Night|                  Day|\n",
      "|A-3|Source2|       2|2016-02-08 06:49:27|2016-02-08 07:19:27|        39.063148|        -84.032608|   NULL|   NULL|        0.01|Accident on OH-32...|      State Route 32|Williamsburg|  Clermont|   OH|     45176|     US|US/Eastern|        KI69|2016-02-08 06:56:00|          36.0|         33.3|      100.0|       29.67|          10.0|            SW|            3.5|             NULL|         Overcast|  false|false|   false|   false|   false|  false|  false|     false|  false|false|          false|          true|       false|         Night|         Night|              Day|                  Day|\n",
      "|A-4|Source2|       3|2016-02-08 07:23:34|2016-02-08 07:53:34|        39.747753|-84.20558199999998|   NULL|   NULL|        0.01|Accident on I-75 ...|              I-75 S|      Dayton|Montgomery|   OH|     45417|     US|US/Eastern|        KDAY|2016-02-08 07:38:00|          35.1|         31.0|       96.0|       29.64|           9.0|            SW|            4.6|             NULL|    Mostly Cloudy|  false|false|   false|   false|   false|  false|  false|     false|  false|false|          false|         false|       false|         Night|           Day|              Day|                  Day|\n",
      "|A-5|Source2|       2|2016-02-08 07:39:07|2016-02-08 08:09:07|        39.627781|        -84.188354|   NULL|   NULL|        0.01|Accident on McEwe...|Miamisburg Center...|      Dayton|Montgomery|   OH|     45459|     US|US/Eastern|        KMGY|2016-02-08 07:53:00|          36.0|         33.3|       89.0|       29.65|           6.0|            SW|            3.5|             NULL|    Mostly Cloudy|  false|false|   false|   false|   false|  false|  false|     false|  false|false|          false|          true|       false|           Day|           Day|              Day|                  Day|\n",
      "+---+-------+--------+-------------------+-------------------+-----------------+------------------+-------+-------+------------+--------------------+--------------------+------------+----------+-----+----------+-------+----------+------------+-------------------+--------------+-------------+-----------+------------+--------------+--------------+---------------+-----------------+-----------------+-------+-----+--------+--------+--------+-------+-------+----------+-------+-----+---------------+--------------+------------+--------------+--------------+-----------------+---------------------+\n",
      "only showing top 5 rows\n",
      "\n"
     ]
    }
   ],
   "source": [
    "df = spark.read.csv(\"/Users/oscgarcia/Documents/MNA/Análisis de Grandes Volúmenes de Datos/US_Accidents_Dec19.csv\", header=True, inferSchema=True)\n",
    "df.show(5)"
   ]
  },
  {
   "cell_type": "code",
   "execution_count": 4,
   "id": "6402398a",
   "metadata": {},
   "outputs": [
    {
     "name": "stderr",
     "output_type": "stream",
     "text": [
      "[Stage 3:=======================================>                 (16 + 7) / 23]\r"
     ]
    },
    {
     "name": "stdout",
     "output_type": "stream",
     "text": [
      "Número de registros: 7728394\n",
      "Número de columnas: 46\n"
     ]
    },
    {
     "name": "stderr",
     "output_type": "stream",
     "text": [
      "                                                                                \r"
     ]
    }
   ],
   "source": [
    "print(\"Número de registros: \" + str(df.count()))\n",
    "print(\"Número de columnas: \" + str(len(df.columns)))"
   ]
  },
  {
   "cell_type": "markdown",
   "id": "f05e5ce1",
   "metadata": {},
   "source": [
    "# 0.3. Selección de columnas"
   ]
  },
  {
   "cell_type": "code",
   "execution_count": 5,
   "id": "9ed5ebb7",
   "metadata": {},
   "outputs": [
    {
     "name": "stdout",
     "output_type": "stream",
     "text": [
      "+--------------+-----------------+--------+-----------+------------+--------------+---------------+-----------------+\n",
      "|Temperature(F)|Weather_Condition|Severity|Humidity(%)|Pressure(in)|Wind_Direction|Wind_Speed(mph)|Precipitation(in)|\n",
      "+--------------+-----------------+--------+-----------+------------+--------------+---------------+-----------------+\n",
      "|          36.9|       Light Rain|       3|       91.0|       29.68|          Calm|           NULL|             0.02|\n",
      "|          37.9|       Light Rain|       2|      100.0|       29.65|          Calm|           NULL|              0.0|\n",
      "|          36.0|         Overcast|       2|      100.0|       29.67|            SW|            3.5|             NULL|\n",
      "|          35.1|    Mostly Cloudy|       3|       96.0|       29.64|            SW|            4.6|             NULL|\n",
      "|          36.0|    Mostly Cloudy|       2|       89.0|       29.65|            SW|            3.5|             NULL|\n",
      "|          37.9|       Light Rain|       3|       97.0|       29.63|           SSW|            3.5|             0.03|\n",
      "|          34.0|         Overcast|       2|      100.0|       29.66|           WSW|            3.5|             NULL|\n",
      "|          34.0|         Overcast|       3|      100.0|       29.66|           WSW|            3.5|             NULL|\n",
      "|          33.3|    Mostly Cloudy|       2|       99.0|       29.67|            SW|            1.2|             NULL|\n",
      "|          37.4|       Light Rain|       3|      100.0|       29.62|           SSW|            4.6|             0.02|\n",
      "|          35.6|             Rain|       3|       93.0|       29.64|           WNW|            5.8|             NULL|\n",
      "|          37.4|       Light Rain|       3|      100.0|       29.62|           SSW|            4.6|             0.02|\n",
      "|          33.8|         Overcast|       2|      100.0|       29.63|            SW|            2.3|             NULL|\n",
      "|          36.0|    Mostly Cloudy|       2|       89.0|       29.65|            NW|            5.8|             NULL|\n",
      "|          37.4|       Light Rain|       2|      100.0|       29.62|           SSW|            4.6|             0.02|\n",
      "|          33.8|         Overcast|       2|      100.0|       29.63|            SW|            2.3|             NULL|\n",
      "|          35.6|    Mostly Cloudy|       2|       99.0|       29.65|           WSW|            2.3|             NULL|\n",
      "|          36.0|    Mostly Cloudy|       2|       89.0|       29.65|            NW|            5.8|             NULL|\n",
      "|          37.4|         Overcast|       2|       93.0|       29.63|           WSW|            6.9|             NULL|\n",
      "|          36.0|    Mostly Cloudy|       2|       89.0|       29.65|          West|            6.9|             NULL|\n",
      "+--------------+-----------------+--------+-----------+------------+--------------+---------------+-----------------+\n",
      "only showing top 20 rows\n",
      "\n"
     ]
    }
   ],
   "source": [
    "cols_to_select = [\"Temperature(F)\",\"Weather_Condition\",\"Severity\",\n",
    "               \"Humidity(%)\", \"Pressure(in)\", \"Wind_Direction\",\n",
    "               \"Wind_Speed(mph)\",\"Precipitation(in)\"] #Se definen las columnas a mantener.\n",
    "\n",
    "df = df.select(cols_to_select) #Se seleccionan únicamente las columnas definidas en el paso anterior.\n",
    "df.show()"
   ]
  },
  {
   "cell_type": "code",
   "execution_count": 6,
   "id": "af318df7",
   "metadata": {},
   "outputs": [
    {
     "name": "stderr",
     "output_type": "stream",
     "text": [
      "[Stage 7:=======================================>                 (16 + 7) / 23]\r"
     ]
    },
    {
     "name": "stdout",
     "output_type": "stream",
     "text": [
      "Número de registros: 7728394\n",
      "Número de columnas: 8\n"
     ]
    },
    {
     "name": "stderr",
     "output_type": "stream",
     "text": [
      "                                                                                \r"
     ]
    }
   ],
   "source": [
    "print(\"Número de registros: \" + str(df.count()))\n",
    "print(\"Número de columnas: \" + str(len(df.columns)))"
   ]
  },
  {
   "cell_type": "code",
   "execution_count": 7,
   "id": "cd626939",
   "metadata": {},
   "outputs": [
    {
     "name": "stderr",
     "output_type": "stream",
     "text": [
      "                                                                                \r"
     ]
    },
    {
     "data": {
      "text/html": [
       "<table border='1'>\n",
       "<tr><th>summary</th><th>Temperature(F)</th><th>Weather_Condition</th><th>Severity</th><th>Humidity(%)</th><th>Pressure(in)</th><th>Wind_Direction</th><th>Wind_Speed(mph)</th><th>Precipitation(in)</th></tr>\n",
       "<tr><td>count</td><td>7564541</td><td>7554935</td><td>7728394</td><td>7554250</td><td>7587715</td><td>7553188</td><td>7157161</td><td>5524808</td></tr>\n",
       "<tr><td>mean</td><td>61.66328580940991</td><td>NULL</td><td>2.212384487643875</td><td>64.83104146672403</td><td>29.538985607656194</td><td>NULL</td><td>7.685489595665597</td><td>0.008407209807109432</td></tr>\n",
       "<tr><td>stddev</td><td>19.013653291093142</td><td>NULL</td><td>0.4875313339360398</td><td>22.820967660113475</td><td>1.00618980914562</td><td>NULL</td><td>5.424983437161068</td><td>0.11022464885795538</td></tr>\n",
       "<tr><td>min</td><td>-89.0</td><td>Blowing Dust</td><td>1</td><td>1.0</td><td>0.0</td><td>CALM</td><td>0.0</td><td>0.0</td></tr>\n",
       "<tr><td>max</td><td>207.0</td><td>Wintry Mix / Windy</td><td>4</td><td>100.0</td><td>58.63</td><td>West</td><td>1087.0</td><td>36.47</td></tr>\n",
       "</table>\n"
      ],
      "text/plain": [
       "+-------+------------------+------------------+------------------+------------------+------------------+--------------+-----------------+--------------------+\n",
       "|summary|    Temperature(F)| Weather_Condition|          Severity|       Humidity(%)|      Pressure(in)|Wind_Direction|  Wind_Speed(mph)|   Precipitation(in)|\n",
       "+-------+------------------+------------------+------------------+------------------+------------------+--------------+-----------------+--------------------+\n",
       "|  count|           7564541|           7554935|           7728394|           7554250|           7587715|       7553188|          7157161|             5524808|\n",
       "|   mean| 61.66328580940991|              NULL| 2.212384487643875| 64.83104146672403|29.538985607656194|          NULL|7.685489595665597|0.008407209807109432|\n",
       "| stddev|19.013653291093142|              NULL|0.4875313339360398|22.820967660113475|  1.00618980914562|          NULL|5.424983437161068| 0.11022464885795538|\n",
       "|    min|             -89.0|      Blowing Dust|                 1|               1.0|               0.0|          CALM|              0.0|                 0.0|\n",
       "|    max|             207.0|Wintry Mix / Windy|                 4|             100.0|             58.63|          West|           1087.0|               36.47|\n",
       "+-------+------------------+------------------+------------------+------------------+------------------+--------------+-----------------+--------------------+"
      ]
     },
     "execution_count": 7,
     "metadata": {},
     "output_type": "execute_result"
    }
   ],
   "source": [
    "df.describe()"
   ]
  },
  {
   "cell_type": "code",
   "execution_count": 8,
   "id": "985b466c",
   "metadata": {},
   "outputs": [
    {
     "name": "stdout",
     "output_type": "stream",
     "text": [
      "root\n",
      " |-- Temperature(F): double (nullable = true)\n",
      " |-- Weather_Condition: string (nullable = true)\n",
      " |-- Severity: integer (nullable = true)\n",
      " |-- Humidity(%): double (nullable = true)\n",
      " |-- Pressure(in): double (nullable = true)\n",
      " |-- Wind_Direction: string (nullable = true)\n",
      " |-- Wind_Speed(mph): double (nullable = true)\n",
      " |-- Precipitation(in): double (nullable = true)\n",
      "\n"
     ]
    }
   ],
   "source": [
    "df.printSchema()"
   ]
  },
  {
   "cell_type": "markdown",
   "id": "00410200",
   "metadata": {},
   "source": [
    "# 1. Construcción de la muestra M"
   ]
  },
  {
   "cell_type": "code",
   "execution_count": 9,
   "id": "cb7b7719",
   "metadata": {},
   "outputs": [
    {
     "name": "stdout",
     "output_type": "stream",
     "text": [
      "+--------------+-----------------+--------+-----------+------------+--------------+---------------+-----------------+\n",
      "|Temperature(F)|Weather_Condition|Severity|Humidity(%)|Pressure(in)|Wind_Direction|Wind_Speed(mph)|Precipitation(in)|\n",
      "+--------------+-----------------+--------+-----------+------------+--------------+---------------+-----------------+\n",
      "|          87.0|             Fair|       2|       35.0|       29.11|           SSE|            8.0|              0.0|\n",
      "|          94.0|             Fair|       2|       31.0|       29.08|           SSE|            9.0|              0.0|\n",
      "|          85.0|             Fair|       2|       44.0|       29.07|             S|           10.0|              0.0|\n",
      "|          85.0|             Fair|       2|       44.0|       29.07|             S|           10.0|              0.0|\n",
      "|          85.0|             Fair|       2|       44.0|       29.07|             S|           10.0|              0.0|\n",
      "+--------------+-----------------+--------+-----------+------------+--------------+---------------+-----------------+\n",
      "only showing top 5 rows\n",
      "\n"
     ]
    }
   ],
   "source": [
    "reglas_particionamiento = [\n",
    "    {\"Weather_Condition\": \"Fair\", \"Severity\": 2},\n",
    "    {\"Weather_Condition\": \"Mostly Cloudy\", \"Severity\": 2},\n",
    "    {\"Weather_Condition\": \"Cloudy\", \"Severity\": 2},\n",
    "    {\"Weather_Condition\": \"Partly Cloudy\", \"Severity\": 2},\n",
    "    {\"Weather_Condition\": \"Clear\", \"Severity\": 2},\n",
    "    {\"Weather_Condition\": \"Light Rain\", \"Severity\": 2},\n",
    "    {\"Weather_Condition\": \"Overcast\", \"Severity\": 2},\n",
    "    {\"Weather_Condition\": \"Clear\", \"Severity\": 3},\n",
    "    {\"Weather_Condition\": \"Fair\", \"Severity\": 3},\n",
    "    {\"Weather_Condition\": \"Mostly Cloudy\", \"Severity\": 3},\n",
    "] #Se enlistan las particiones elegidas en el documento del proyecto.\n",
    "\n",
    "muestras = [] #Se crea una lista vacía, que guardará las muestras.\n",
    "tamaño_muestra_por_particion = 10000 #Se define el tamaño de la muestra (para cada partición).\n",
    "\n",
    "for regla in reglas_particionamiento: #Se recorre la lista de reglas de particionamiento.\n",
    "    condicion_clima = regla[\"Weather_Condition\"]\n",
    "    severidad = regla[\"Severity\"]\n",
    "\n",
    "    df_filtrado = df.filter(\n",
    "        (col(\"Weather_Condition\") == condicion_clima) &\n",
    "        (col(\"Severity\") == severidad)\n",
    "    ).limit(tamaño_muestra_por_particion) #Se filtran los primeros n registros (tamaño de la muestra), que cumpla con las condiciones estipuladas en las reglas de particionamiento.\n",
    "\n",
    "    muestras.append(df_filtrado) #Se agregan los datos a la lista de muestras\n",
    "\n",
    "df_muestra_M = muestras[0]\n",
    "for df_temp in muestras[1:]:\n",
    "    df_muestra_M = df_muestra_M.union(df_temp) #Se unen todas las muestras en un solo dataframe.\n",
    "\n",
    "df_muestra_M.show(5)\n"
   ]
  },
  {
   "cell_type": "code",
   "execution_count": 10,
   "id": "bcaf6658",
   "metadata": {},
   "outputs": [
    {
     "name": "stderr",
     "output_type": "stream",
     "text": [
      "                                                                                \r"
     ]
    },
    {
     "data": {
      "text/plain": [
       "<Figure size 1000x500 with 0 Axes>"
      ]
     },
     "metadata": {},
     "output_type": "display_data"
    },
    {
     "data": {
      "image/png": "[encoded data removed]",
      "text/plain": [
       "<Figure size 640x480 with 1 Axes>"
      ]
     },
     "metadata": {},
     "output_type": "display_data"
    }
   ],
   "source": [
    "muestra_pd = df_muestra_M.select(\"Severity\", \"Weather_Condition\").toPandas()\n",
    "plt.figure(figsize=(10, 5))\n",
    "muestra_pd.groupby([\"Weather_Condition\", \"Severity\"]).size().unstack().plot(kind='bar', stacked=True)\n",
    "plt.title(\"Distribución de la muestra por condición climática y severidad\")\n",
    "plt.ylabel(\"Número de registros\")\n",
    "plt.xticks(rotation=45)\n",
    "plt.tight_layout()\n",
    "plt.show()"
   ]
  },
  {
   "cell_type": "markdown",
   "id": "6b6b511e",
   "metadata": {},
   "source": [
    "# 1.1. Preparación de los datos"
   ]
  },
  {
   "cell_type": "markdown",
   "id": "0dbb2006",
   "metadata": {},
   "source": [
    "A continuación, se definen estrategias de imputación de valores nulos, dependiendo del tipo de dato de cada una de las columnas.\n",
    "\n",
    "Para las variables numéricas, se optó por imputar la mediana; mientras que para las variables categóricas (en este caso es una sola: Wind Direction), se optó por imputar la moda."
   ]
  },
  {
   "cell_type": "code",
   "execution_count": 11,
   "id": "a8bc431c",
   "metadata": {},
   "outputs": [
    {
     "name": "stderr",
     "output_type": "stream",
     "text": [
      "                                                                                \r"
     ]
    }
   ],
   "source": [
    "cols = [\"Temperature(F)\", \"Humidity(%)\", \"Pressure(in)\", \"Precipitation(in)\",\"Wind_Speed(mph)\"] #Se definen las columnas a las que se les aplicará la transformación\n",
    "imputed_cols = [f\"{c}_imputed\" for c in cols] #Se definen los nombres de las columnas a las que se les aplicará la transformación (imputar la media en valores nulos).\n",
    "\n",
    "imputer = Imputer(\n",
    "    inputCols=cols,\n",
    "    outputCols=imputed_cols\n",
    ").setStrategy(\"median\") #Se definen las columnas a las que se les aplicará la transformación\n",
    "\n",
    "df_imputed = imputer.fit(df_muestra_M).transform(df_muestra_M) #Se aplica la transformación (imputar la media en valores nulos) a las columnas previamente definidas.\n",
    "\n",
    "for orig, imp in zip(cols, imputed_cols):\n",
    "    df_imputed = df_imputed.drop(orig).withColumnRenamed(imp, orig)\n"
   ]
  },
  {
   "cell_type": "code",
   "execution_count": 12,
   "id": "c0b5d15d",
   "metadata": {},
   "outputs": [
    {
     "name": "stderr",
     "output_type": "stream",
     "text": [
      "                                                                                \r"
     ]
    }
   ],
   "source": [
    "# Calcular la moda de 'Wind_Direction'\n",
    "mode_wind_dir = df_imputed.groupBy(\"Wind_Direction\").count().orderBy(desc(\"count\")).first()[0]\n",
    "\n",
    "# Reemplazar valores nulos en 'Wind_Direction' con la moda\n",
    "df_imputed = df_imputed.fillna({\"Wind_Direction\": mode_wind_dir})\n"
   ]
  },
  {
   "cell_type": "markdown",
   "id": "3da5325c",
   "metadata": {},
   "source": [
    "Una vez aplicadas las transformaciones anteriores, se procede con los siguientes pasos:\n",
    "\n",
    "1. Convertir las variables categóricas a valores numéricos, por medio de StringIndexer, con el fin de que los modelos puedan trabajar únicamente con variables numéricas.\n",
    "\n",
    "2. Se juntan todas las variables en una columna tipo \"Vector\", por medio de VectorAssembler, en una columna \"features\", con el fin de que los modelos trabajen directamente con esta columna.\n",
    "\n",
    "3. Se construye el dataframe df_procesado, con el resultado de las transformaciones anteriores."
   ]
  },
  {
   "cell_type": "code",
   "execution_count": 13,
   "id": "7790b246",
   "metadata": {},
   "outputs": [
    {
     "name": "stderr",
     "output_type": "stream",
     "text": [
      "                                                                                \r"
     ]
    },
    {
     "data": {
      "text/plain": [
       "100000"
      ]
     },
     "execution_count": 13,
     "metadata": {},
     "output_type": "execute_result"
    }
   ],
   "source": [
    "df_imputed.count() #Se verifica que existan 140,000 registros, que es el resultado de multiplicar el tamaño de la muestra (10,000) por el número de particiones (10)."
   ]
  },
  {
   "cell_type": "code",
   "execution_count": 14,
   "id": "d77843b2",
   "metadata": {},
   "outputs": [
    {
     "name": "stderr",
     "output_type": "stream",
     "text": [
      "[Stage 138:====================================================>  (22 + 1) / 23]\r"
     ]
    },
    {
     "name": "stdout",
     "output_type": "stream",
     "text": [
      "+-----------------+--------+--------------+--------------+-----------+------------+-----------------+---------------+\n",
      "|Weather_Condition|Severity|Wind_Direction|Temperature(F)|Humidity(%)|Pressure(in)|Precipitation(in)|Wind_Speed(mph)|\n",
      "+-----------------+--------+--------------+--------------+-----------+------------+-----------------+---------------+\n",
      "|                0|       0|             0|             0|          0|           0|                0|              0|\n",
      "+-----------------+--------+--------------+--------------+-----------+------------+-----------------+---------------+\n",
      "\n"
     ]
    },
    {
     "name": "stderr",
     "output_type": "stream",
     "text": [
      "                                                                                \r"
     ]
    }
   ],
   "source": [
    "#Checar si hay valores nulos\n",
    "df_imputed.select([count(when(isnan(c) | col(c).isNull(), c)).alias(c) for c in df_imputed.columns]).show() #Se verifica que no existan valores nulos en el dataframe resultante."
   ]
  },
  {
   "cell_type": "code",
   "execution_count": 15,
   "id": "e589c2e2",
   "metadata": {},
   "outputs": [
    {
     "name": "stderr",
     "output_type": "stream",
     "text": [
      "[Stage 303:===========================================>           (18 + 5) / 23]\r"
     ]
    },
    {
     "name": "stdout",
     "output_type": "stream",
     "text": [
      "+-----------------+--------+--------------+--------------+-----------+------------+-----------------+---------------+---------------------+------------------+--------------------+-----+\n",
      "|Weather_Condition|Severity|Wind_Direction|Temperature(F)|Humidity(%)|Pressure(in)|Precipitation(in)|Wind_Speed(mph)|Weather_Condition_idx|Wind_Direction_idx|            features|label|\n",
      "+-----------------+--------+--------------+--------------+-----------+------------+-----------------+---------------+---------------------+------------------+--------------------+-----+\n",
      "|             Fair|       2|           SSE|          87.0|       35.0|       29.11|              0.0|            8.0|                  1.0|               8.0|(36,[1,14,29,30,3...|  2.0|\n",
      "|             Fair|       2|           SSE|          94.0|       31.0|       29.08|              0.0|            9.0|                  1.0|               8.0|(36,[1,14,29,30,3...|  2.0|\n",
      "|             Fair|       2|             S|          85.0|       44.0|       29.07|              0.0|           10.0|                  1.0|              18.0|(36,[1,24,29,30,3...|  2.0|\n",
      "|             Fair|       2|             S|          85.0|       44.0|       29.07|              0.0|           10.0|                  1.0|              18.0|(36,[1,24,29,30,3...|  2.0|\n",
      "|             Fair|       2|             S|          85.0|       44.0|       29.07|              0.0|           10.0|                  1.0|              18.0|(36,[1,24,29,30,3...|  2.0|\n",
      "+-----------------+--------+--------------+--------------+-----------+------------+-----------------+---------------+---------------------+------------------+--------------------+-----+\n",
      "only showing top 5 rows\n",
      "\n"
     ]
    },
    {
     "name": "stderr",
     "output_type": "stream",
     "text": [
      "                                                                                \r"
     ]
    }
   ],
   "source": [
    "# Convertimos columnas categóricas a numéricas\n",
    "indexers = [StringIndexer(inputCol=\"Weather_Condition\", outputCol=\"Weather_Condition_idx\"),\n",
    "            StringIndexer(inputCol=\"Wind_Direction\", outputCol=\"Wind_Direction_idx\")\n",
    "            ]\n",
    "\n",
    "for indexer in indexers:\n",
    "    df_imputed = indexer.fit(df_imputed).transform(df_imputed)\n",
    "\n",
    "# Armamos el vector de características.\n",
    "rForm = RFormula(formula=\"Severity ~ .\")\n",
    "fittedRF = rForm.fit(df_imputed)\n",
    "df_preprocesado = fittedRF.transform(df_imputed)\n",
    "\n",
    "df_preprocesado.show(5)\n"
   ]
  },
  {
   "cell_type": "markdown",
   "id": "a1ce300e",
   "metadata": {},
   "source": [
    "# 1.2 Manejo de outliers"
   ]
  },
  {
   "cell_type": "markdown",
   "id": "05a1afa3",
   "metadata": {},
   "source": [
    "A continuación se definen las funciones que nos ayudarán a calcular el IQR para las variables numéricas y, en caso de existir outliers, se sustituirán con la mediana."
   ]
  },
  {
   "cell_type": "code",
   "execution_count": 16,
   "id": "d899b169",
   "metadata": {},
   "outputs": [],
   "source": [
    "def calcular_limites_iqr(df, columna):\n",
    "    quantiles = df.approxQuantile(columna, [0.25, 0.75], 0.01)\n",
    "    Q1, Q3 = quantiles\n",
    "    IQR = Q3 - Q1\n",
    "    lower = Q1 - 1.5 * IQR\n",
    "    upper = Q3 + 1.5 * IQR\n",
    "    return lower, upper"
   ]
  },
  {
   "cell_type": "code",
   "execution_count": 17,
   "id": "7d2355b1",
   "metadata": {},
   "outputs": [],
   "source": [
    "def imputar_outliers_con_mediana(df, columna):\n",
    "    # Calcular límites\n",
    "    lower, upper = calcular_limites_iqr(df, columna)\n",
    "\n",
    "    # Calcular mediana\n",
    "    mediana = df.approxQuantile(columna, [0.5], 0.01)[0]\n",
    "\n",
    "    # Crear nueva columna imputada\n",
    "    nueva_columna = f\"{columna}_sin_outliers\"\n",
    "    df = df.withColumn(nueva_columna, \n",
    "        when((col(columna) < lower) | (col(columna) > upper), lit(mediana))\n",
    "        .otherwise(col(columna))\n",
    "    )\n",
    "\n",
    "    return df\n"
   ]
  },
  {
   "cell_type": "code",
   "execution_count": 18,
   "id": "77b00d09",
   "metadata": {},
   "outputs": [
    {
     "name": "stderr",
     "output_type": "stream",
     "text": [
      "                                                                                \r"
     ]
    }
   ],
   "source": [
    "columnas_a_tratar = [\"Temperature(F)\", \"Humidity(%)\", \"Pressure(in)\", \"Precipitation(in)\", \"Wind_Speed(mph)\"]\n",
    "\n",
    "for col_name in columnas_a_tratar:\n",
    "    df_preprocesado = imputar_outliers_con_mediana(df_preprocesado, col_name)"
   ]
  },
  {
   "cell_type": "markdown",
   "id": "2adf1c4f",
   "metadata": {},
   "source": [
    "# 2. Construcción Train - Test"
   ]
  },
  {
   "cell_type": "code",
   "execution_count": 19,
   "id": "2eb3df16",
   "metadata": {},
   "outputs": [
    {
     "name": "stderr",
     "output_type": "stream",
     "text": [
      "[Stage 588:============================================>           (8 + 2) / 10]\r"
     ]
    },
    {
     "name": "stdout",
     "output_type": "stream",
     "text": [
      "Existen 70222 instancias en el conjunto train, y 29778 en el conjunto test\n"
     ]
    },
    {
     "name": "stderr",
     "output_type": "stream",
     "text": [
      "                                                                                \r"
     ]
    }
   ],
   "source": [
    "# Caso 1\n",
    "# Construcción de un train - test con 200 ejecutores por default\n",
    "spark.conf.set(\"spark.sql.shuffle.partitions\", \"200\")\n",
    "train_data_rand_200w_a,test_data_rand_200w_a = df_preprocesado.randomSplit([0.7,0.3], seed = 42)\n",
    "print(f\"\"\"Existen {train_data_rand_200w_a.count()} instancias en el conjunto train, y {test_data_rand_200w_a.count()} en el conjunto test\"\"\")"
   ]
  },
  {
   "cell_type": "code",
   "execution_count": 20,
   "id": "e6736886",
   "metadata": {},
   "outputs": [
    {
     "name": "stderr",
     "output_type": "stream",
     "text": [
      "[Stage 643:==================================================>    (21 + 2) / 23]\r"
     ]
    },
    {
     "name": "stdout",
     "output_type": "stream",
     "text": [
      "Existen 70222 instancias en el conjunto train, y 29778 en el conjunto test\n"
     ]
    },
    {
     "name": "stderr",
     "output_type": "stream",
     "text": [
      "                                                                                \r"
     ]
    }
   ],
   "source": [
    "# Construcción de un train - test con 1 ejecutor\n",
    "spark.conf.set(\"spark.sql.shuffle.partitions\", \"1\")\n",
    "train_data_rand_1w_a,test_data_rand_1w_a = df_preprocesado.randomSplit([0.7,0.3], seed = 42)\n",
    "print(f\"\"\"Existen {train_data_rand_1w_a.count()} instancias en el conjunto train, y {test_data_rand_1w_a.count()} en el conjunto test\"\"\")"
   ]
  },
  {
   "cell_type": "code",
   "execution_count": 21,
   "id": "c3e3deb1",
   "metadata": {},
   "outputs": [
    {
     "name": "stderr",
     "output_type": "stream",
     "text": [
      "[Stage 676:===========================================>           (18 + 5) / 23]\r"
     ]
    },
    {
     "name": "stdout",
     "output_type": "stream",
     "text": [
      "+-----------------+--------+--------------+--------------+-----------+------------+-----------------+---------------+---------------------+------------------+--------------------+-----+---------------------------+------------------------+-------------------------+------------------------------+----------------------------+-------+\n",
      "|Weather_Condition|Severity|Wind_Direction|Temperature(F)|Humidity(%)|Pressure(in)|Precipitation(in)|Wind_Speed(mph)|Weather_Condition_idx|Wind_Direction_idx|            features|label|Temperature(F)_sin_outliers|Humidity(%)_sin_outliers|Pressure(in)_sin_outliers|Precipitation(in)_sin_outliers|Wind_Speed(mph)_sin_outliers|stratum|\n",
      "+-----------------+--------+--------------+--------------+-----------+------------+-----------------+---------------+---------------------+------------------+--------------------+-----+---------------------------+------------------------+-------------------------+------------------------------+----------------------------+-------+\n",
      "|             Fair|       2|           SSE|          87.0|       35.0|       29.11|              0.0|            8.0|                  1.0|               8.0|(36,[1,14,29,30,3...|  2.0|                       87.0|                    35.0|                    29.94|                           0.0|                         8.0| Fair_2|\n",
      "|             Fair|       2|           SSE|          94.0|       31.0|       29.08|              0.0|            9.0|                  1.0|               8.0|(36,[1,14,29,30,3...|  2.0|                       94.0|                    31.0|                    29.94|                           0.0|                         9.0| Fair_2|\n",
      "|             Fair|       2|             S|          85.0|       44.0|       29.07|              0.0|           10.0|                  1.0|              18.0|(36,[1,24,29,30,3...|  2.0|                       85.0|                    44.0|                    29.94|                           0.0|                        10.0| Fair_2|\n",
      "|             Fair|       2|             S|          85.0|       44.0|       29.07|              0.0|           10.0|                  1.0|              18.0|(36,[1,24,29,30,3...|  2.0|                       85.0|                    44.0|                    29.94|                           0.0|                        10.0| Fair_2|\n",
      "|             Fair|       2|             S|          85.0|       44.0|       29.07|              0.0|           10.0|                  1.0|              18.0|(36,[1,24,29,30,3...|  2.0|                       85.0|                    44.0|                    29.94|                           0.0|                        10.0| Fair_2|\n",
      "+-----------------+--------+--------------+--------------+-----------+------------+-----------------+---------------+---------------------+------------------+--------------------+-----+---------------------------+------------------------+-------------------------+------------------------------+----------------------------+-------+\n",
      "only showing top 5 rows\n",
      "\n"
     ]
    },
    {
     "name": "stderr",
     "output_type": "stream",
     "text": [
      "                                                                                \r"
     ]
    }
   ],
   "source": [
    "\n",
    "preparedDF_a_stratum = df_preprocesado.withColumn(\"stratum\", concat(df_preprocesado[\"Weather_Condition\"], lit(\"_\"), df_preprocesado[\"Severity\"]))\n",
    "preparedDF_a_stratum.show(5)"
   ]
  },
  {
   "cell_type": "code",
   "execution_count": 22,
   "id": "40b9ca3f",
   "metadata": {},
   "outputs": [
    {
     "name": "stdout",
     "output_type": "stream",
     "text": [
      "root\n",
      " |-- Weather_Condition: string (nullable = true)\n",
      " |-- Severity: integer (nullable = true)\n",
      " |-- Wind_Direction: string (nullable = false)\n",
      " |-- Temperature(F): double (nullable = true)\n",
      " |-- Humidity(%): double (nullable = true)\n",
      " |-- Pressure(in): double (nullable = true)\n",
      " |-- Precipitation(in): double (nullable = true)\n",
      " |-- Wind_Speed(mph): double (nullable = true)\n",
      " |-- Weather_Condition_idx: double (nullable = false)\n",
      " |-- Wind_Direction_idx: double (nullable = false)\n",
      " |-- features: vector (nullable = true)\n",
      " |-- label: double (nullable = true)\n",
      " |-- Temperature(F)_sin_outliers: double (nullable = true)\n",
      " |-- Humidity(%)_sin_outliers: double (nullable = true)\n",
      " |-- Pressure(in)_sin_outliers: double (nullable = true)\n",
      " |-- Precipitation(in)_sin_outliers: double (nullable = true)\n",
      " |-- Wind_Speed(mph)_sin_outliers: double (nullable = true)\n",
      " |-- stratum: string (nullable = true)\n",
      "\n"
     ]
    }
   ],
   "source": [
    "preparedDF_a_stratum.printSchema()"
   ]
  },
  {
   "cell_type": "code",
   "execution_count": 23,
   "id": "c965e28e",
   "metadata": {},
   "outputs": [
    {
     "name": "stderr",
     "output_type": "stream",
     "text": [
      "[Stage 796:==================================================>    (21 + 2) / 23]\r"
     ]
    },
    {
     "name": "stdout",
     "output_type": "stream",
     "text": [
      "[Row(Weather_Condition='Fair', count=20000), Row(Weather_Condition='Mostly Cloudy', count=20000), Row(Weather_Condition='Cloudy', count=10000), Row(Weather_Condition='Partly Cloudy', count=10000), Row(Weather_Condition='Clear', count=20000), Row(Weather_Condition='Light Rain', count=10000), Row(Weather_Condition='Overcast', count=10000)]\n",
      "[Row(Severity=2, count=70000), Row(Severity=3, count=30000)]\n",
      "[Row(Weather_Condition='Fair', Severity=2, count=10000), Row(Weather_Condition='Mostly Cloudy', Severity=2, count=10000), Row(Weather_Condition='Cloudy', Severity=2, count=10000), Row(Weather_Condition='Partly Cloudy', Severity=2, count=10000), Row(Weather_Condition='Clear', Severity=2, count=10000), Row(Weather_Condition='Light Rain', Severity=2, count=10000), Row(Weather_Condition='Overcast', Severity=2, count=10000), Row(Weather_Condition='Clear', Severity=3, count=10000), Row(Weather_Condition='Fair', Severity=3, count=10000), Row(Weather_Condition='Mostly Cloudy', Severity=3, count=10000)]\n",
      "[Row(stratum='Fair_2', count=10000), Row(stratum='Mostly Cloudy_2', count=10000), Row(stratum='Cloudy_2', count=10000), Row(stratum='Partly Cloudy_2', count=10000), Row(stratum='Clear_2', count=10000), Row(stratum='Light Rain_2', count=10000), Row(stratum='Overcast_2', count=10000), Row(stratum='Clear_3', count=10000), Row(stratum='Fair_3', count=10000), Row(stratum='Mostly Cloudy_3', count=10000)]\n"
     ]
    },
    {
     "name": "stderr",
     "output_type": "stream",
     "text": [
      "                                                                                \r"
     ]
    }
   ],
   "source": [
    "# Se calcula la cantidad de instancias por cada valor diferente de las variables Weather_Condition, Severity y combinada\n",
    "stratum_counts_weather_c = preparedDF_a_stratum.groupBy(\"Weather_Condition\").count().collect()\n",
    "stratum_counts_severity = preparedDF_a_stratum.groupBy(\"Severity\").count().collect()\n",
    "stratum_counts_combined_a = preparedDF_a_stratum.groupBy(\"Weather_Condition\", \"Severity\").count().collect()\n",
    "stratum_counts_combined = preparedDF_a_stratum.groupBy(\"stratum\").count().collect()\n",
    "\n",
    "print(stratum_counts_weather_c)\n",
    "print(stratum_counts_severity)\n",
    "print(stratum_counts_combined_a)\n",
    "print(stratum_counts_combined)\n"
   ]
  },
  {
   "cell_type": "code",
   "execution_count": 24,
   "id": "dbd4b7eb",
   "metadata": {},
   "outputs": [],
   "source": [
    "# MUESTREO ESTRATIFICADO A PARTIR DE LA UNION DE PARTICIONES\n",
    "\n",
    "#se inicializa train_data_stratum y test_data_stratum como dataframes vacios\n",
    "train_data_stratum_parts = []\n",
    "test_data_stratum_parts = []\n",
    "\n",
    "for row in stratum_counts_combined:\n",
    "  stratum = row['stratum']\n",
    "  # se extraen todos los registros con el valor de stratum\n",
    "  stratum_df = preparedDF_a_stratum.filter(preparedDF_a_stratum.stratum == stratum)\n",
    "  # Se genera la particion 70 - 30 deseada\n",
    "  train_data_stratified, test_data_stratified = stratum_df.randomSplit([0.7, 0.3], seed=42)\n",
    "  # Se unen los conjuntos\n",
    "  train_data_stratum_parts.append(train_data_stratified)\n",
    "  test_data_stratum_parts.append(test_data_stratified)\n",
    "\n"
   ]
  },
  {
   "cell_type": "code",
   "execution_count": 25,
   "id": "cbfacfaf",
   "metadata": {},
   "outputs": [
    {
     "name": "stderr",
     "output_type": "stream",
     "text": [
      "25/06/06 22:07:49 WARN DAGScheduler: Broadcasting large task binary with size 1098.8 KiB\n",
      "25/06/06 22:08:26 WARN DAGScheduler: Broadcasting large task binary with size 1098.8 KiB\n",
      "                                                                                \r"
     ]
    },
    {
     "name": "stdout",
     "output_type": "stream",
     "text": [
      "Existen 70222 instancias en el conjunto train, y 29778 en el conjunto test\n"
     ]
    },
    {
     "name": "stderr",
     "output_type": "stream",
     "text": [
      "25/06/06 22:09:08 WARN DAGScheduler: Broadcasting large task binary with size 1209.9 KiB\n",
      "                                                                                \r"
     ]
    },
    {
     "name": "stdout",
     "output_type": "stream",
     "text": [
      "+-----------------+--------+--------------+--------------+-----------+------------+-----------------+---------------+---------------------+------------------+--------------------+-----+---------------------------+------------------------+-------------------------+------------------------------+----------------------------+-------+\n",
      "|Weather_Condition|Severity|Wind_Direction|Temperature(F)|Humidity(%)|Pressure(in)|Precipitation(in)|Wind_Speed(mph)|Weather_Condition_idx|Wind_Direction_idx|            features|label|Temperature(F)_sin_outliers|Humidity(%)_sin_outliers|Pressure(in)_sin_outliers|Precipitation(in)_sin_outliers|Wind_Speed(mph)_sin_outliers|stratum|\n",
      "+-----------------+--------+--------------+--------------+-----------+------------+-----------------+---------------+---------------------+------------------+--------------------+-----+---------------------------+------------------------+-------------------------+------------------------------+----------------------------+-------+\n",
      "|             Fair|       2|          CALM|         -35.0|       70.0|       29.92|              0.0|            0.0|                  1.0|               4.0|(36,[1,10,29,30,3...|  2.0|                       68.0|                    70.0|                    29.92|                           0.0|                         0.0| Fair_2|\n",
      "|             Fair|       2|          CALM|         -35.0|       70.0|       29.94|              0.0|            0.0|                  1.0|               4.0|(36,[1,10,29,30,3...|  2.0|                       68.0|                    70.0|                    29.94|                           0.0|                         0.0| Fair_2|\n",
      "|             Fair|       2|          CALM|         -35.0|       70.0|       29.95|              0.0|            0.0|                  1.0|               4.0|(36,[1,10,29,30,3...|  2.0|                       68.0|                    70.0|                    29.95|                           0.0|                         0.0| Fair_2|\n",
      "|             Fair|       2|          CALM|         -35.0|       70.0|       30.03|              0.0|            0.0|                  1.0|               4.0|(36,[1,10,29,30,3...|  2.0|                       68.0|                    70.0|                    30.03|                           0.0|                         0.0| Fair_2|\n",
      "|             Fair|       2|          CALM|          13.0|       59.0|        29.7|              0.0|            0.0|                  1.0|               4.0|(36,[1,10,29,30,3...|  2.0|                       68.0|                    59.0|                     29.7|                           0.0|                         0.0| Fair_2|\n",
      "+-----------------+--------+--------------+--------------+-----------+------------+-----------------+---------------+---------------------+------------------+--------------------+-----+---------------------------+------------------------+-------------------------+------------------------------+----------------------------+-------+\n",
      "only showing top 5 rows\n",
      "\n"
     ]
    },
    {
     "name": "stderr",
     "output_type": "stream",
     "text": [
      "[Stage 916:==================================================>    (21 + 2) / 23]\r"
     ]
    },
    {
     "name": "stdout",
     "output_type": "stream",
     "text": [
      "+-----------------+--------+--------------+--------------+-----------+------------+-----------------+---------------+---------------------+------------------+--------------------+-----+---------------------------+------------------------+-------------------------+------------------------------+----------------------------+-------+\n",
      "|Weather_Condition|Severity|Wind_Direction|Temperature(F)|Humidity(%)|Pressure(in)|Precipitation(in)|Wind_Speed(mph)|Weather_Condition_idx|Wind_Direction_idx|            features|label|Temperature(F)_sin_outliers|Humidity(%)_sin_outliers|Pressure(in)_sin_outliers|Precipitation(in)_sin_outliers|Wind_Speed(mph)_sin_outliers|stratum|\n",
      "+-----------------+--------+--------------+--------------+-----------+------------+-----------------+---------------+---------------------+------------------+--------------------+-----+---------------------------+------------------------+-------------------------+------------------------------+----------------------------+-------+\n",
      "|             Fair|       2|          CALM|         -35.0|       70.0|       29.95|              0.0|            0.0|                  1.0|               4.0|(36,[1,10,29,30,3...|  2.0|                       68.0|                    70.0|                    29.95|                           0.0|                         0.0| Fair_2|\n",
      "|             Fair|       2|          CALM|          34.0|      100.0|       28.52|              0.0|            0.0|                  1.0|               4.0|(36,[1,10,29,30,3...|  2.0|                       34.0|                   100.0|                    29.94|                           0.0|                         0.0| Fair_2|\n",
      "|             Fair|       2|          CALM|          41.0|       40.0|       29.32|              0.0|            0.0|                  1.0|               4.0|(36,[1,10,29,30,3...|  2.0|                       41.0|                    40.0|                    29.94|                           0.0|                         0.0| Fair_2|\n",
      "|             Fair|       2|          CALM|          41.0|       40.0|       29.32|              0.0|            0.0|                  1.0|               4.0|(36,[1,10,29,30,3...|  2.0|                       41.0|                    40.0|                    29.94|                           0.0|                         0.0| Fair_2|\n",
      "|             Fair|       2|          CALM|          42.0|       41.0|       29.31|              0.0|            0.0|                  1.0|               4.0|(36,[1,10,29,30,3...|  2.0|                       42.0|                    41.0|                    29.94|                           0.0|                         0.0| Fair_2|\n",
      "+-----------------+--------+--------------+--------------+-----------+------------+-----------------+---------------+---------------------+------------------+--------------------+-----+---------------------------+------------------------+-------------------------+------------------------------+----------------------------+-------+\n",
      "only showing top 5 rows\n",
      "\n"
     ]
    },
    {
     "name": "stderr",
     "output_type": "stream",
     "text": [
      "25/06/06 22:09:42 WARN DAGScheduler: Broadcasting large task binary with size 1210.2 KiB\n",
      "                                                                                \r"
     ]
    }
   ],
   "source": [
    "#from pyspark.sql.functions import col\n",
    "if train_data_stratum_parts:\n",
    "    # Use the first DataFrame as the base and union the rest\n",
    "    train_data_stratum_b = train_data_stratum_parts[0]\n",
    "    for i in range(1, len(train_data_stratum_parts)):\n",
    "        train_data_stratum_b = train_data_stratum_b.unionAll(train_data_stratum_parts[i])\n",
    "if test_data_stratum_parts:\n",
    "    # Use the first DataFrame as the base and union the rest\n",
    "    test_data_stratum_b = test_data_stratum_parts[0]\n",
    "    for i in range(1, len(test_data_stratum_parts)):\n",
    "        test_data_stratum_b = test_data_stratum_b.unionAll(test_data_stratum_parts[i])\n",
    "\n",
    "print(f\"\"\"Existen {train_data_stratum_b.count()} instancias en el conjunto train, y {test_data_stratum_b.count()} en el conjunto test\"\"\")\n",
    "\n",
    "train_data_stratum_b.show(5)\n",
    "test_data_stratum_b.show(5)"
   ]
  },
  {
   "cell_type": "markdown",
   "id": "7a8fdc9b",
   "metadata": {},
   "source": [
    "# 3. Selección de métricas para medir calidad de resultados"
   ]
  },
  {
   "cell_type": "markdown",
   "id": "b0242747",
   "metadata": {},
   "source": [
    "## Justificación de métricas de evaluación\n",
    "\n",
    "Se seleccionaron las métricas Accuracy, Precision y Recall por las siguientes razones fundamentadas en el análisis previo:\n",
    "\n",
    "1. Accuracy (Exactitud):\n",
    "   - El dataset fue estratificado y balanceado por las combinaciones más comunes de Weather_Condition y Severity (niveles 2 y 3).\n",
    "   - Esto permite utilizar accuracy como una métrica representativa del desempeño general del modelo.\n",
    "\n",
    "2. Precision (Precisión):\n",
    "   - Dada la relevancia de evitar falsos positivos en eventos severos, como accidentes durante climas extremos, se requiere una métrica que indique la confiabilidad de las predicciones positivas.\n",
    "   - Esto es importante para evitar alarmas falsas que puedan sobrecargar recursos de atención o respuesta.\n",
    "\n",
    "3. Recall (Exhaustividad):\n",
    "   - En el contexto de seguridad vial, es preferible detectar todos los accidentes severos aunque se cometan algunos falsos positivos.\n",
    "   - El recall es crucial para evaluar qué tan bien el modelo identifica todos los casos graves.\n",
    "\n",
    "Estas métricas reflejan el compromiso entre detectar la mayor cantidad de eventos severos y evitar clasificaciones incorrectas, lo cual es clave en aplicaciones reales de análisis de siniestros viales.\n"
   ]
  },
  {
   "cell_type": "markdown",
   "id": "172d9af0",
   "metadata": {},
   "source": [
    "# 4. Entrenamiento de Modelos de Aprendizaje"
   ]
  },
  {
   "cell_type": "code",
   "execution_count": 26,
   "id": "96fb4837",
   "metadata": {},
   "outputs": [],
   "source": [
    "rf = RandomForestClassifier(labelCol=\"label\", featuresCol=\"features\", numTrees=20, maxDepth=6)"
   ]
  },
  {
   "cell_type": "code",
   "execution_count": 27,
   "id": "ef86ae50",
   "metadata": {},
   "outputs": [
    {
     "name": "stderr",
     "output_type": "stream",
     "text": [
      "25/06/06 22:15:56 WARN DAGScheduler: Broadcasting large task binary with size 1109.5 KiB\n",
      "25/06/06 22:16:31 WARN DAGScheduler: Broadcasting large task binary with size 1327.7 KiB\n",
      "25/06/06 22:16:32 WARN DAGScheduler: Broadcasting large task binary with size 1327.7 KiB\n",
      "25/06/06 22:16:33 WARN DAGScheduler: Broadcasting large task binary with size 1331.7 KiB\n",
      "25/06/06 22:16:35 WARN DAGScheduler: Broadcasting large task binary with size 1334.9 KiB\n",
      "25/06/06 22:16:37 WARN DAGScheduler: Broadcasting large task binary with size 1343.4 KiB\n",
      "25/06/06 22:16:38 WARN DAGScheduler: Broadcasting large task binary with size 1356.0 KiB\n",
      "25/06/06 22:16:39 WARN DAGScheduler: Broadcasting large task binary with size 1378.0 KiB\n",
      "25/06/06 22:16:40 WARN DAGScheduler: Broadcasting large task binary with size 1413.4 KiB\n",
      "25/06/06 22:16:42 WARN DAGScheduler: Broadcasting large task binary with size 1470.8 KiB\n",
      "[Stage 1434:=================================================>    (21 + 2) / 23]\r"
     ]
    }
   ],
   "source": [
    "rfModel_a = rf.fit(train_data_rand_200w_a)\n",
    "rfModel_b = rf.fit(train_data_rand_1w_a)\n",
    "rfModel_d = rf.fit(train_data_stratum_b)"
   ]
  },
  {
   "cell_type": "code",
   "execution_count": 28,
   "id": "3394090d",
   "metadata": {},
   "outputs": [
    {
     "name": "stderr",
     "output_type": "stream",
     "text": [
      "                                                                                \r"
     ]
    },
    {
     "name": "stdout",
     "output_type": "stream",
     "text": [
      "+--------+-----+--------------------+----------+--------------------+\n",
      "|Severity|label|       rawPrediction|prediction|         probability|\n",
      "+--------+-----+--------------------+----------+--------------------+\n",
      "|       2|  2.0|[0.0,0.0,11.44713...|       2.0|[0.0,0.0,0.572356...|\n",
      "|       2|  2.0|[0.0,0.0,11.44713...|       2.0|[0.0,0.0,0.572356...|\n",
      "|       2|  2.0|[0.0,0.0,11.44713...|       2.0|[0.0,0.0,0.572356...|\n",
      "|       2|  2.0|[0.0,0.0,11.55860...|       2.0|[0.0,0.0,0.577930...|\n",
      "|       2|  2.0|[0.0,0.0,11.10637...|       2.0|[0.0,0.0,0.555318...|\n",
      "+--------+-----+--------------------+----------+--------------------+\n",
      "only showing top 5 rows\n",
      "\n"
     ]
    },
    {
     "name": "stderr",
     "output_type": "stream",
     "text": [
      "                                                                                \r"
     ]
    },
    {
     "name": "stdout",
     "output_type": "stream",
     "text": [
      "+--------+-----+--------------------+----------+--------------------+\n",
      "|Severity|label|       rawPrediction|prediction|         probability|\n",
      "+--------+-----+--------------------+----------+--------------------+\n",
      "|       2|  2.0|[0.0,0.0,11.44713...|       2.0|[0.0,0.0,0.572356...|\n",
      "|       2|  2.0|[0.0,0.0,11.44713...|       2.0|[0.0,0.0,0.572356...|\n",
      "|       2|  2.0|[0.0,0.0,11.44713...|       2.0|[0.0,0.0,0.572356...|\n",
      "|       2|  2.0|[0.0,0.0,11.55860...|       2.0|[0.0,0.0,0.577930...|\n",
      "|       2|  2.0|[0.0,0.0,11.10637...|       2.0|[0.0,0.0,0.555318...|\n",
      "+--------+-----+--------------------+----------+--------------------+\n",
      "only showing top 5 rows\n",
      "\n"
     ]
    },
    {
     "name": "stderr",
     "output_type": "stream",
     "text": [
      "[Stage 1486:==========================================>           (18 + 5) / 23]\r"
     ]
    },
    {
     "name": "stdout",
     "output_type": "stream",
     "text": [
      "+--------+-----+--------------------+----------+--------------------+\n",
      "|Severity|label|       rawPrediction|prediction|         probability|\n",
      "+--------+-----+--------------------+----------+--------------------+\n",
      "|       2|  2.0|[0.0,0.0,11.57088...|       2.0|[0.0,0.0,0.578544...|\n",
      "|       2|  2.0|[0.0,0.0,11.57088...|       2.0|[0.0,0.0,0.578544...|\n",
      "|       2|  2.0|[0.0,0.0,11.57088...|       2.0|[0.0,0.0,0.578544...|\n",
      "|       2|  2.0|[0.0,0.0,11.40509...|       2.0|[0.0,0.0,0.570254...|\n",
      "|       2|  2.0|[0.0,0.0,11.57088...|       2.0|[0.0,0.0,0.578544...|\n",
      "+--------+-----+--------------------+----------+--------------------+\n",
      "only showing top 5 rows\n",
      "\n"
     ]
    },
    {
     "name": "stderr",
     "output_type": "stream",
     "text": [
      "25/06/06 22:18:58 WARN DAGScheduler: Broadcasting large task binary with size 1420.5 KiB\n",
      "                                                                                \r"
     ]
    }
   ],
   "source": [
    "# Imprimiendo los valores de predicción del modelo sobre el train\n",
    "rfModel_a.transform(train_data_rand_200w_a).select('Severity', 'label', 'rawPrediction', 'prediction', 'probability').show(5)\n",
    "rfModel_b.transform(train_data_rand_1w_a).select('Severity', 'label', 'rawPrediction', 'prediction', 'probability').show(5)\n",
    "rfModel_d.transform(train_data_stratum_b).select('Severity', 'label', 'rawPrediction', 'prediction', 'probability').show(5)"
   ]
  },
  {
   "cell_type": "code",
   "execution_count": 29,
   "id": "6898ba64",
   "metadata": {},
   "outputs": [
    {
     "name": "stderr",
     "output_type": "stream",
     "text": [
      "25/06/06 22:20:39 WARN DAGScheduler: Broadcasting large task binary with size 1433.9 KiB\n",
      "[Stage 1562:===============================================>     (89 + 8) / 100]\r"
     ]
    },
    {
     "name": "stdout",
     "output_type": "stream",
     "text": [
      "Accuracy for train_data_rand_200w_a: 0.718\n",
      "Accuracy for train_data_rand_1w_a: 0.718\n",
      "Accuracy for train_data_stratum_b: 0.711\n"
     ]
    },
    {
     "name": "stderr",
     "output_type": "stream",
     "text": [
      "                                                                                \r"
     ]
    }
   ],
   "source": [
    "evaluator = MulticlassClassificationEvaluator(labelCol=\"label\", predictionCol=\"prediction\", metricName=\"accuracy\")\n",
    "\n",
    "accuracy_a = evaluator.evaluate(rfModel_a.transform(test_data_rand_200w_a))\n",
    "accuracy_b = evaluator.evaluate(rfModel_b.transform(test_data_rand_1w_a))\n",
    "accuracy_d = evaluator.evaluate(rfModel_d.transform(test_data_stratum_b))\n",
    "\n",
    "# Imprimiendo cada resultado de accuracy\n",
    "print(\"Accuracy for train_data_rand_200w_a: %.3f\" % accuracy_a)\n",
    "print(\"Accuracy for train_data_rand_1w_a: %.3f\" % accuracy_b)\n",
    "print(\"Accuracy for train_data_stratum_b: %.3f\" % accuracy_d)"
   ]
  },
  {
   "cell_type": "code",
   "execution_count": 30,
   "id": "f971f97b",
   "metadata": {},
   "outputs": [
    {
     "name": "stderr",
     "output_type": "stream",
     "text": [
      "25/06/06 22:22:26 WARN DAGScheduler: Broadcasting large task binary with size 1433.9 KiB\n",
      "[Stage 1628:===============================================>     (89 + 8) / 100]\r"
     ]
    },
    {
     "name": "stdout",
     "output_type": "stream",
     "text": [
      "Precision for train_data_rand_200w_a: 0.692\n",
      "Precision for train_data_rand_1w_a: 0.692\n",
      "Precision for train_data_stratum_b: 0.696\n"
     ]
    },
    {
     "name": "stderr",
     "output_type": "stream",
     "text": [
      "                                                                                \r"
     ]
    }
   ],
   "source": [
    "precision_evaluator = MulticlassClassificationEvaluator(labelCol=\"label\", predictionCol=\"prediction\", metricName=\"weightedPrecision\")\n",
    "\n",
    "prec_a = precision_evaluator.evaluate(rfModel_a.transform(test_data_rand_200w_a))\n",
    "prec_b = precision_evaluator.evaluate(rfModel_b.transform(test_data_rand_1w_a))\n",
    "prec_d = precision_evaluator.evaluate(rfModel_d.transform(test_data_stratum_b))\n",
    "\n",
    "# Imprimiendo cada resultado de accuracy\n",
    "print(\"Precision for train_data_rand_200w_a: %.3f\" % prec_a)\n",
    "print(\"Precision for train_data_rand_1w_a: %.3f\" % prec_b)\n",
    "print(\"Precision for train_data_stratum_b: %.3f\" % prec_d)"
   ]
  },
  {
   "cell_type": "code",
   "execution_count": 31,
   "id": "1b64e2e8",
   "metadata": {},
   "outputs": [
    {
     "name": "stderr",
     "output_type": "stream",
     "text": [
      "25/06/06 22:24:18 WARN DAGScheduler: Broadcasting large task binary with size 1433.9 KiB\n",
      "[Stage 1694:===============================================>     (89 + 8) / 100]\r"
     ]
    },
    {
     "name": "stdout",
     "output_type": "stream",
     "text": [
      "Recall for train_data_rand_200w_a: 0.718\n",
      "Recall for train_data_rand_1w_a: 0.718\n",
      "Recall for train_data_stratum_b: 0.711\n"
     ]
    },
    {
     "name": "stderr",
     "output_type": "stream",
     "text": [
      "                                                                                \r"
     ]
    }
   ],
   "source": [
    "recall_evaluator = MulticlassClassificationEvaluator(labelCol=\"label\", predictionCol=\"prediction\", metricName=\"weightedRecall\")\n",
    "\n",
    "rec_a = recall_evaluator.evaluate(rfModel_a.transform(test_data_rand_200w_a))\n",
    "rec_b = recall_evaluator.evaluate(rfModel_b.transform(test_data_rand_1w_a))\n",
    "rec_d = recall_evaluator.evaluate(rfModel_d.transform(test_data_stratum_b))\n",
    "\n",
    "# Imprimiendo cada resultado de accuracy\n",
    "print(\"Recall for train_data_rand_200w_a: %.3f\" % rec_a)\n",
    "print(\"Recall for train_data_rand_1w_a: %.3f\" % rec_b)\n",
    "print(\"Recall for train_data_stratum_b: %.3f\" % rec_d)"
   ]
  },
  {
   "cell_type": "code",
   "execution_count": 32,
   "id": "0b3caec4",
   "metadata": {},
   "outputs": [
    {
     "name": "stdout",
     "output_type": "stream",
     "text": [
      "Accuracy: 0.7110\n",
      "Precision: 0.6963\n",
      "Recall: 0.7110\n"
     ]
    },
    {
     "data": {
      "image/png": "[encoded data removed]",
      "text/plain": [
       "<Figure size 600x400 with 1 Axes>"
      ]
     },
     "metadata": {},
     "output_type": "display_data"
    }
   ],
   "source": [
    "print(f\"Accuracy: {accuracy_d:.4f}\")\n",
    "print(f\"Precision: {prec_d:.4f}\")\n",
    "print(f\"Recall: {rec_d:.4f}\")\n",
    "\n",
    "metricas_df = pd.DataFrame({\n",
    "    'Métrica': ['Accuracy', 'Precision', 'Recall'],\n",
    "    'Valor': [accuracy_d, prec_d, rec_d]\n",
    "})\n",
    "plt.figure(figsize=(6,4))\n",
    "plt.bar(metricas_df['Métrica'], metricas_df['Valor'], color='skyblue')\n",
    "plt.title('Métricas de Evaluación del Modelo')\n",
    "plt.ylim(0, 1)\n",
    "plt.ylabel('Puntaje')\n",
    "plt.tight_layout()\n",
    "plt.show()"
   ]
  },
  {
   "cell_type": "markdown",
   "id": "05b52e54",
   "metadata": {},
   "source": [
    "# 5. Análisis de resultados"
   ]
  },
  {
   "cell_type": "markdown",
   "id": "980ca2de",
   "metadata": {},
   "source": []
  }
 ],
 "metadata": {
  "kernelspec": {
   "display_name": "env-pyspark-mna",
   "language": "python",
   "name": "python3"
  },
  "language_info": {
   "codemirror_mode": {
    "name": "ipython",
    "version": 3
   },
   "file_extension": ".py",
   "mimetype": "text/x-python",
   "name": "python",
   "nbconvert_exporter": "python",
   "pygments_lexer": "ipython3",
   "version": "3.12.9"
  }
 },
 "nbformat": 4,
 "nbformat_minor": 5
}
