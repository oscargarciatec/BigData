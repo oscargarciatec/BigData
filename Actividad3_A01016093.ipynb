{
 "cells": [
  {
   "cell_type": "markdown",
   "id": "c2111418",
   "metadata": {},
   "source": [
    "# 🎓 **Maestría en Inteligencia Artificial Aplicada**\n",
    "\n",
    "## 📈 **Curso: Análisis de grandes volúmenes de datos (Gpo 10)**\n",
    "\n",
    "### 🏛️ Tecnológico de Monterrey\n",
    "\n",
    "#### 👨‍🏫 **Profesor titular:** Dr. Iván Olmos Pineda\n",
    "#### 👩‍🏫 **Profesor asistence:** Verónica Sandra Guzmán de Valle\n",
    "\n",
    "### 📊 **Actividad 3 | Aprendizaje supervisado y no supervisado**\n",
    "\n",
    "#### 📅 **22 de mayo de 2025**\n",
    "\n",
    "🧑‍💻 **A01016093:** Oscar Enrique García García "
   ]
  },
  {
   "cell_type": "markdown",
   "id": "ba4877ec",
   "metadata": {},
   "source": [
    "# 1. Introducción teórica"
   ]
  },
  {
   "cell_type": "markdown",
   "id": "0933d87a",
   "metadata": {},
   "source": [
    "# 🤖 Tipos de Modelos de Machine Learning\n",
    "\n",
    "Los modelos de Machine Learning se dividen en dos grandes categorías: **aprendizaje supervisado** y **aprendizaje no supervisado**, dependiendo de si los datos usados para entrenar el modelo están etiquetados o no.\n",
    "\n",
    "---\n",
    "\n",
    "## 🕵️‍♂️ Aprendizaje Supervisado\n",
    "\n",
    "En el aprendizaje supervisado, el modelo se entrena con un conjunto de datos **etiquetado**, es decir, cada ejemplo incluye una **entrada (features)** y una **salida esperada (label)**. El objetivo es que el modelo **aprenda una función de mapeo** que pueda generalizar y predecir salidas para nuevas entradas.\n",
    "\n",
    "### 🔍 Tipos de problemas\n",
    "\n",
    "- **Clasificación:** Predecir una categoría o clase (por ejemplo, detectar si una transacción es fraudulenta).\n",
    "- **Regresión:** Predecir un valor numérico continuo (por ejemplo, el precio de una vivienda).\n",
    "\n",
    "### ✅ Algoritmos representativos en PySpark\n",
    "\n",
    "| Algoritmo                     | Clasificación (`Classifier`)           | Regresión (`Regressor`)             |\n",
    "|------------------------------|----------------------------------------|-------------------------------------|\n",
    "| Regresión lineal/logística   | `LogisticRegression`                   | `LinearRegression`                  |\n",
    "| Árboles de decisión          | `DecisionTreeClassifier`               | `DecisionTreeRegressor`            |\n",
    "| Random Forest                | `RandomForestClassifier`               | `RandomForestRegressor`            |\n",
    "| Gradient Boosted Trees       | `GBTClassifier`                        | `GBTRegressor`                     |\n",
    "| Naive Bayes                  | `NaiveBayes` (solo clasificación)      | -                                   |\n",
    "| Redes neuronales multicapa  | `MultilayerPerceptronClassifier`       | -                                   |\n",
    "\n",
    "---\n",
    "\n",
    "## 🙈 Aprendizaje No Supervisado\n",
    "\n",
    "En el aprendizaje no supervisado, el modelo **no tiene salidas conocidas**. El objetivo es descubrir **estructuras, patrones o agrupamientos** ocultos en los datos.\n",
    "\n",
    "### 🔍 Tipos de problemas\n",
    "\n",
    "- **Agrupamiento (Clustering):** Identificar grupos o segmentos similares dentro de los datos.\n",
    "- **Reducción de dimensionalidad:** Reducir el número de variables manteniendo la información relevante.\n",
    "- **Detección de anomalías:** Identificar observaciones inusuales o fuera de lo común.\n",
    "\n",
    "### ✅ Algoritmos representativos en PySpark\n",
    "\n",
    "| Técnica                      | Algoritmo                             | Clase en PySpark                   |\n",
    "|-----------------------------|----------------------------------------|------------------------------------|\n",
    "| Clustering (agrupamiento)   | K-Means                                | `KMeans`                           |\n",
    "|                             | Gaussian Mixture Model (GMM)           | `GaussianMixture`                 |\n",
    "|                             | Bisecting K-Means                      | `BisectingKMeans`                 |\n",
    "|                             | Power Iteration Clustering (PIC)       | `PowerIterationClustering`        |\n",
    "| Detección de anomalías      | Isolation Forest (en versión experimental/extensión) | -                        |\n",
    "| Reducción de dimensionalidad| Principal Component Analysis (PCA)     | `PCA`                              |\n",
    "|                             | Truncated SVD (en pipelines)           | `TruncatedSVD`                     |\n",
    "\n",
    "---\n",
    "\n",
    "## 📦 Librerías de Machine Learning en PySpark\n",
    "\n",
    "### 🔧 PySpark MLlib (legacy)\n",
    "\n",
    "- La librería original de Spark para ML.\n",
    "- Basada en RDDs (Resilient Distributed Datasets).\n",
    "- Actualmente **desaconsejada** para nuevos proyectos.\n",
    "\n",
    "### ✅ PySpark ML (recomendada)\n",
    "\n",
    "- Basada en `DataFrames` (más parecidos a pandas).\n",
    "- Facilita la construcción de pipelines con `Transformer` y `Estimator`.\n",
    "- Mejor optimización y paralelización.\n",
    "- Compatible con APIs de Spark SQL.\n",
    "- Incluye clases como `Pipeline`, `VectorAssembler`, `StringIndexer`, etc.\n",
    "\n",
    "\n"
   ]
  },
  {
   "cell_type": "markdown",
   "id": "99ad3b94",
   "metadata": {},
   "source": [
    "# 2. Importar librerías"
   ]
  },
  {
   "cell_type": "code",
   "execution_count": 1,
   "id": "47818c47",
   "metadata": {},
   "outputs": [],
   "source": [
    "from pyspark.sql import SparkSession\n",
    "from pyspark.sql.functions import col\n",
    "from pyspark.ml.feature import StringIndexer, VectorAssembler\n",
    "from pyspark.ml.classification import RandomForestClassifier\n",
    "from pyspark.ml.evaluation import MulticlassClassificationEvaluator\n",
    "from pyspark.ml.clustering import KMeans\n",
    "from pyspark.ml.evaluation import ClusteringEvaluator\n",
    "from pyspark.ml.feature import Imputer\n",
    "from pyspark.sql.functions import col, count, when, isnan, desc, lit\n",
    "import matplotlib.pyplot as plt\n",
    "from pyspark.sql import functions as F"
   ]
  },
  {
   "cell_type": "markdown",
   "id": "88f798f7",
   "metadata": {},
   "source": [
    "# 3. Crear sesión de Spark y lectura de archivo"
   ]
  },
  {
   "cell_type": "code",
   "execution_count": 2,
   "id": "f5c9073e",
   "metadata": {},
   "outputs": [
    {
     "name": "stderr",
     "output_type": "stream",
     "text": [
      "25/05/25 13:26:45 WARN Utils: Your hostname, MacBook-Air-de-Oscar-2.local resolves to a loopback address: 127.0.0.1; using 192.168.68.117 instead (on interface en0)\n",
      "25/05/25 13:26:45 WARN Utils: Set SPARK_LOCAL_IP if you need to bind to another address\n",
      "Setting default log level to \"WARN\".\n",
      "To adjust logging level use sc.setLogLevel(newLevel). For SparkR, use setLogLevel(newLevel).\n",
      "25/05/25 13:26:46 WARN NativeCodeLoader: Unable to load native-hadoop library for your platform... using builtin-java classes where applicable\n"
     ]
    }
   ],
   "source": [
    "spark = SparkSession.builder \\\n",
    "    .appName(\"Aprendizaje Supervisado y No Supervisado\") \\\n",
    "    .getOrCreate()\n"
   ]
  },
  {
   "cell_type": "code",
   "execution_count": 3,
   "id": "72bff442",
   "metadata": {},
   "outputs": [
    {
     "name": "stderr",
     "output_type": "stream",
     "text": [
      "25/05/25 13:27:00 WARN GarbageCollectionMetrics: To enable non-built-in garbage collector(s) List(G1 Concurrent GC), users should configure it(them) to spark.eventLog.gcMetrics.youngGenerationGarbageCollectors or spark.eventLog.gcMetrics.oldGenerationGarbageCollectors\n",
      "25/05/25 13:27:01 WARN SparkStringUtils: Truncated the string representation of a plan since it was too large. This behavior can be adjusted by setting 'spark.sql.debug.maxToStringFields'.\n"
     ]
    },
    {
     "name": "stdout",
     "output_type": "stream",
     "text": [
      "+---+-------+--------+-------------------+-------------------+-----------------+------------------+-------+-------+------------+--------------------+--------------------+------------+----------+-----+----------+-------+----------+------------+-------------------+--------------+-------------+-----------+------------+--------------+--------------+---------------+-----------------+-----------------+-------+-----+--------+--------+--------+-------+-------+----------+-------+-----+---------------+--------------+------------+--------------+--------------+-----------------+---------------------+\n",
      "| ID| Source|Severity|         Start_Time|           End_Time|        Start_Lat|         Start_Lng|End_Lat|End_Lng|Distance(mi)|         Description|              Street|        City|    County|State|   Zipcode|Country|  Timezone|Airport_Code|  Weather_Timestamp|Temperature(F)|Wind_Chill(F)|Humidity(%)|Pressure(in)|Visibility(mi)|Wind_Direction|Wind_Speed(mph)|Precipitation(in)|Weather_Condition|Amenity| Bump|Crossing|Give_Way|Junction|No_Exit|Railway|Roundabout|Station| Stop|Traffic_Calming|Traffic_Signal|Turning_Loop|Sunrise_Sunset|Civil_Twilight|Nautical_Twilight|Astronomical_Twilight|\n",
      "+---+-------+--------+-------------------+-------------------+-----------------+------------------+-------+-------+------------+--------------------+--------------------+------------+----------+-----+----------+-------+----------+------------+-------------------+--------------+-------------+-----------+------------+--------------+--------------+---------------+-----------------+-----------------+-------+-----+--------+--------+--------+-------+-------+----------+-------+-----+---------------+--------------+------------+--------------+--------------+-----------------+---------------------+\n",
      "|A-1|Source2|       3|2016-02-08 05:46:00|2016-02-08 11:00:00|        39.865147|        -84.058723|   NULL|   NULL|        0.01|Right lane blocke...|              I-70 E|      Dayton|Montgomery|   OH|     45424|     US|US/Eastern|        KFFO|2016-02-08 05:58:00|          36.9|         NULL|       91.0|       29.68|          10.0|          Calm|           NULL|             0.02|       Light Rain|  false|false|   false|   false|   false|  false|  false|     false|  false|false|          false|         false|       false|         Night|         Night|            Night|                Night|\n",
      "|A-2|Source2|       2|2016-02-08 06:07:59|2016-02-08 06:37:59|39.92805900000001|        -82.831184|   NULL|   NULL|        0.01|Accident on Brice...|            Brice Rd|Reynoldsburg|  Franklin|   OH|43068-3402|     US|US/Eastern|        KCMH|2016-02-08 05:51:00|          37.9|         NULL|      100.0|       29.65|          10.0|          Calm|           NULL|              0.0|       Light Rain|  false|false|   false|   false|   false|  false|  false|     false|  false|false|          false|         false|       false|         Night|         Night|            Night|                  Day|\n",
      "|A-3|Source2|       2|2016-02-08 06:49:27|2016-02-08 07:19:27|        39.063148|        -84.032608|   NULL|   NULL|        0.01|Accident on OH-32...|      State Route 32|Williamsburg|  Clermont|   OH|     45176|     US|US/Eastern|        KI69|2016-02-08 06:56:00|          36.0|         33.3|      100.0|       29.67|          10.0|            SW|            3.5|             NULL|         Overcast|  false|false|   false|   false|   false|  false|  false|     false|  false|false|          false|          true|       false|         Night|         Night|              Day|                  Day|\n",
      "|A-4|Source2|       3|2016-02-08 07:23:34|2016-02-08 07:53:34|        39.747753|-84.20558199999998|   NULL|   NULL|        0.01|Accident on I-75 ...|              I-75 S|      Dayton|Montgomery|   OH|     45417|     US|US/Eastern|        KDAY|2016-02-08 07:38:00|          35.1|         31.0|       96.0|       29.64|           9.0|            SW|            4.6|             NULL|    Mostly Cloudy|  false|false|   false|   false|   false|  false|  false|     false|  false|false|          false|         false|       false|         Night|           Day|              Day|                  Day|\n",
      "|A-5|Source2|       2|2016-02-08 07:39:07|2016-02-08 08:09:07|        39.627781|        -84.188354|   NULL|   NULL|        0.01|Accident on McEwe...|Miamisburg Center...|      Dayton|Montgomery|   OH|     45459|     US|US/Eastern|        KMGY|2016-02-08 07:53:00|          36.0|         33.3|       89.0|       29.65|           6.0|            SW|            3.5|             NULL|    Mostly Cloudy|  false|false|   false|   false|   false|  false|  false|     false|  false|false|          false|          true|       false|           Day|           Day|              Day|                  Day|\n",
      "+---+-------+--------+-------------------+-------------------+-----------------+------------------+-------+-------+------------+--------------------+--------------------+------------+----------+-----+----------+-------+----------+------------+-------------------+--------------+-------------+-----------+------------+--------------+--------------+---------------+-----------------+-----------------+-------+-----+--------+--------+--------+-------+-------+----------+-------+-----+---------------+--------------+------------+--------------+--------------+-----------------+---------------------+\n",
      "only showing top 5 rows\n",
      "\n"
     ]
    }
   ],
   "source": [
    "df = spark.read.csv(\"/Users/oscgarcia/Documents/MNA/Análisis de Grandes Volúmenes de Datos/US_Accidents_Dec19.csv\", header=True, inferSchema=True)\n",
    "df.show(5)"
   ]
  },
  {
   "cell_type": "markdown",
   "id": "87d9681b",
   "metadata": {},
   "source": [
    "Se decidió mantener únicamente las siguientes columnas ya que, como lo mencionamos en el documento del proyecto, el estudio se centraba en evaluar cómo afectaban las condiciones meteorológicas, a la severidad de los accidentes: Temperature(F), Weather_Condition, Severity, Humidity(%), Pressure(in), Wind_Direction, Wind_Speed(mph), Precipitation(in)."
   ]
  },
  {
   "cell_type": "code",
   "execution_count": 4,
   "id": "d0e22741",
   "metadata": {},
   "outputs": [
    {
     "name": "stdout",
     "output_type": "stream",
     "text": [
      "+--------------+-----------------+--------+-----------+------------+--------------+---------------+-----------------+\n",
      "|Temperature(F)|Weather_Condition|Severity|Humidity(%)|Pressure(in)|Wind_Direction|Wind_Speed(mph)|Precipitation(in)|\n",
      "+--------------+-----------------+--------+-----------+------------+--------------+---------------+-----------------+\n",
      "|          36.9|       Light Rain|       3|       91.0|       29.68|          Calm|           NULL|             0.02|\n",
      "|          37.9|       Light Rain|       2|      100.0|       29.65|          Calm|           NULL|              0.0|\n",
      "|          36.0|         Overcast|       2|      100.0|       29.67|            SW|            3.5|             NULL|\n",
      "|          35.1|    Mostly Cloudy|       3|       96.0|       29.64|            SW|            4.6|             NULL|\n",
      "|          36.0|    Mostly Cloudy|       2|       89.0|       29.65|            SW|            3.5|             NULL|\n",
      "|          37.9|       Light Rain|       3|       97.0|       29.63|           SSW|            3.5|             0.03|\n",
      "|          34.0|         Overcast|       2|      100.0|       29.66|           WSW|            3.5|             NULL|\n",
      "|          34.0|         Overcast|       3|      100.0|       29.66|           WSW|            3.5|             NULL|\n",
      "|          33.3|    Mostly Cloudy|       2|       99.0|       29.67|            SW|            1.2|             NULL|\n",
      "|          37.4|       Light Rain|       3|      100.0|       29.62|           SSW|            4.6|             0.02|\n",
      "|          35.6|             Rain|       3|       93.0|       29.64|           WNW|            5.8|             NULL|\n",
      "|          37.4|       Light Rain|       3|      100.0|       29.62|           SSW|            4.6|             0.02|\n",
      "|          33.8|         Overcast|       2|      100.0|       29.63|            SW|            2.3|             NULL|\n",
      "|          36.0|    Mostly Cloudy|       2|       89.0|       29.65|            NW|            5.8|             NULL|\n",
      "|          37.4|       Light Rain|       2|      100.0|       29.62|           SSW|            4.6|             0.02|\n",
      "|          33.8|         Overcast|       2|      100.0|       29.63|            SW|            2.3|             NULL|\n",
      "|          35.6|    Mostly Cloudy|       2|       99.0|       29.65|           WSW|            2.3|             NULL|\n",
      "|          36.0|    Mostly Cloudy|       2|       89.0|       29.65|            NW|            5.8|             NULL|\n",
      "|          37.4|         Overcast|       2|       93.0|       29.63|           WSW|            6.9|             NULL|\n",
      "|          36.0|    Mostly Cloudy|       2|       89.0|       29.65|          West|            6.9|             NULL|\n",
      "+--------------+-----------------+--------+-----------+------------+--------------+---------------+-----------------+\n",
      "only showing top 20 rows\n",
      "\n"
     ]
    }
   ],
   "source": [
    "cols_to_select = [\"Temperature(F)\",\"Weather_Condition\",\"Severity\",\n",
    "               \"Humidity(%)\", \"Pressure(in)\", \"Wind_Direction\",\n",
    "               \"Wind_Speed(mph)\",\"Precipitation(in)\"] #Se definen las columnas a mantener.\n",
    "\n",
    "df = df.select(cols_to_select) #Se seleccionan únicamente las columnas definidas en el paso anterior.\n",
    "df.show()"
   ]
  },
  {
   "cell_type": "markdown",
   "id": "e2993a6a",
   "metadata": {},
   "source": [
    "# 4. Particionamiento"
   ]
  },
  {
   "cell_type": "markdown",
   "id": "0e7ed0df",
   "metadata": {},
   "source": [
    "A continuación, se enlistan las particiones previamente definidas en el documento del proyecto y se integra el código para obtener muestras de tamaño \"n\", para cada una de las particiones. En este caso, se seleccionaron 10,000 registros para cada una de las particiones."
   ]
  },
  {
   "cell_type": "code",
   "execution_count": 5,
   "id": "50de30d7",
   "metadata": {},
   "outputs": [
    {
     "name": "stdout",
     "output_type": "stream",
     "text": [
      "+--------------+-----------------+--------+-----------+------------+--------------+---------------+-----------------+\n",
      "|Temperature(F)|Weather_Condition|Severity|Humidity(%)|Pressure(in)|Wind_Direction|Wind_Speed(mph)|Precipitation(in)|\n",
      "+--------------+-----------------+--------+-----------+------------+--------------+---------------+-----------------+\n",
      "|          87.0|             Fair|       2|       35.0|       29.11|           SSE|            8.0|              0.0|\n",
      "|          94.0|             Fair|       2|       31.0|       29.08|           SSE|            9.0|              0.0|\n",
      "|          85.0|             Fair|       2|       44.0|       29.07|             S|           10.0|              0.0|\n",
      "|          85.0|             Fair|       2|       44.0|       29.07|             S|           10.0|              0.0|\n",
      "|          85.0|             Fair|       2|       44.0|       29.07|             S|           10.0|              0.0|\n",
      "+--------------+-----------------+--------+-----------+------------+--------------+---------------+-----------------+\n",
      "only showing top 5 rows\n",
      "\n"
     ]
    }
   ],
   "source": [
    "reglas_particionamiento = [\n",
    "    {\"Weather_Condition\": \"Fair\", \"Severity\": 2},\n",
    "    {\"Weather_Condition\": \"Mostly Cloudy\", \"Severity\": 2},\n",
    "    {\"Weather_Condition\": \"Cloudy\", \"Severity\": 2},\n",
    "    {\"Weather_Condition\": \"Partly Cloudy\", \"Severity\": 2},\n",
    "    {\"Weather_Condition\": \"Clear\", \"Severity\": 2},\n",
    "    {\"Weather_Condition\": \"Light Rain\", \"Severity\": 2},\n",
    "    {\"Weather_Condition\": \"Overcast\", \"Severity\": 2},\n",
    "    {\"Weather_Condition\": \"Clear\", \"Severity\": 3},\n",
    "    {\"Weather_Condition\": \"Fair\", \"Severity\": 3},\n",
    "    {\"Weather_Condition\": \"Mostly Cloudy\", \"Severity\": 3},\n",
    "] #Se enlistan las particiones elegidas en el documento del proyecto.\n",
    "\n",
    "muestras = [] #Se crea una lista vacía, que guardará las muestras.\n",
    "tamaño_muestra_por_particion = 10000 #Se define el tamaño de la muestra (para cada partición).\n",
    "\n",
    "for regla in reglas_particionamiento: #Se recorre la lista de reglas de particionamiento.\n",
    "    condicion_clima = regla[\"Weather_Condition\"]\n",
    "    severidad = regla[\"Severity\"]\n",
    "\n",
    "    df_filtrado = df.filter(\n",
    "        (col(\"Weather_Condition\") == condicion_clima) &\n",
    "        (col(\"Severity\") == severidad)\n",
    "    ).limit(tamaño_muestra_por_particion) #Se filtran los primeros n registros (tamaño de la muestra), que cumpla con las condiciones estipuladas en las reglas de particionamiento.\n",
    "\n",
    "    muestras.append(df_filtrado) #Se agregan los datos a la lista de muestras\n",
    "\n",
    "df_muestra_M = muestras[0]\n",
    "for df_temp in muestras[1:]:\n",
    "    df_muestra_M = df_muestra_M.union(df_temp) #Se unen todas las muestras en un solo dataframe.\n",
    "\n",
    "df_muestra_M.show(5)\n"
   ]
  },
  {
   "cell_type": "code",
   "execution_count": 6,
   "id": "be055409",
   "metadata": {},
   "outputs": [
    {
     "name": "stderr",
     "output_type": "stream",
     "text": [
      "                                                                                \r"
     ]
    },
    {
     "data": {
      "text/plain": [
       "100000"
      ]
     },
     "execution_count": 6,
     "metadata": {},
     "output_type": "execute_result"
    }
   ],
   "source": [
    "df_muestra_M.count() #Se verifica que existan 100,000 registros, que es el resultado de multiplicar el tamaño de la muestra (10,000) por el número de particiones (10)."
   ]
  },
  {
   "cell_type": "code",
   "execution_count": 7,
   "id": "074014f3",
   "metadata": {},
   "outputs": [
    {
     "name": "stdout",
     "output_type": "stream",
     "text": [
      "root\n",
      " |-- Temperature(F): double (nullable = true)\n",
      " |-- Weather_Condition: string (nullable = true)\n",
      " |-- Severity: integer (nullable = true)\n",
      " |-- Humidity(%): double (nullable = true)\n",
      " |-- Pressure(in): double (nullable = true)\n",
      " |-- Wind_Direction: string (nullable = true)\n",
      " |-- Wind_Speed(mph): double (nullable = true)\n",
      " |-- Precipitation(in): double (nullable = true)\n",
      "\n"
     ]
    }
   ],
   "source": [
    "df_muestra_M.printSchema() #Se verifica el esquema del dataframe resultante."
   ]
  },
  {
   "cell_type": "markdown",
   "id": "13bd112e",
   "metadata": {},
   "source": [
    "# 5. Preparación de los datos"
   ]
  },
  {
   "cell_type": "markdown",
   "id": "e7f09eca",
   "metadata": {},
   "source": [
    "A continuación, se definen estrategias de imputación de valores nulos, dependiendo del tipo de dato de cada una de las columnas.\n",
    "\n",
    "Para las variables numéricas, se optó por imputar la mediana; mientras que para las variables categóricas (en este caso es una sola: Wind Direction), se optó por imputar la moda."
   ]
  },
  {
   "cell_type": "code",
   "execution_count": 8,
   "id": "ce03a565",
   "metadata": {},
   "outputs": [
    {
     "name": "stderr",
     "output_type": "stream",
     "text": [
      "                                                                                \r"
     ]
    }
   ],
   "source": [
    "cols = [\"Temperature(F)\", \"Humidity(%)\", \"Pressure(in)\", \"Precipitation(in)\",\"Wind_Speed(mph)\"] #Se definen las columnas a las que se les aplicará la transformación\n",
    "imputed_cols = [f\"{c}_imputed\" for c in cols] #Se definen los nombres de las columnas a las que se les aplicará la transformación (imputar la media en valores nulos).\n",
    "\n",
    "imputer = Imputer(\n",
    "    inputCols=cols,\n",
    "    outputCols=imputed_cols\n",
    ").setStrategy(\"median\") #Se definen las columnas a las que se les aplicará la transformación\n",
    "\n",
    "df_imputed = imputer.fit(df_muestra_M).transform(df_muestra_M) #Se aplica la transformación (imputar la media en valores nulos) a las columnas previamente definidas.\n",
    "\n",
    "for orig, imp in zip(cols, imputed_cols):\n",
    "    df_imputed = df_imputed.drop(orig).withColumnRenamed(imp, orig)\n"
   ]
  },
  {
   "cell_type": "code",
   "execution_count": 9,
   "id": "6c1ffd05",
   "metadata": {},
   "outputs": [
    {
     "name": "stderr",
     "output_type": "stream",
     "text": [
      "                                                                                \r"
     ]
    }
   ],
   "source": [
    "# Calcular la moda de 'Weather_Condition'\n",
    "mode_wind_dir = df_imputed.groupBy(\"Wind_Direction\").count().orderBy(desc(\"count\")).first()[0]\n",
    "\n",
    "# Reemplazar valores nulos en 'Weather_Condition' con la moda\n",
    "df_imputed = df_imputed.fillna({\"Wind_Direction\": mode_wind_dir})\n"
   ]
  },
  {
   "cell_type": "markdown",
   "id": "59896ad2",
   "metadata": {},
   "source": [
    "Una vez aplicadas las transformaciones anteriores, se procede con los siguientes pasos:\n",
    "\n",
    "1. Eliminar los registros que presenten nulos en las columnas restantes: Weather_Condition y Severity.\n",
    "\n",
    "2. Convertir las variables categóricas a valores numéricos, por medio de StringIndexer, con el fin de que los modelos puedan trabajar únicamente con variables numéricas.\n",
    "\n",
    "3. Se juntan todas las variables en una columna tipo \"Vector\", por medio de VectorAssembler, en una columna \"features\", con el fin de que los modelos trabajen directamente con esta columna.\n",
    "\n",
    "4. Se construye el dataframe df_procesado, con el resultado de las transformaciones anteriores."
   ]
  },
  {
   "cell_type": "code",
   "execution_count": 10,
   "id": "8eb455ff",
   "metadata": {},
   "outputs": [
    {
     "name": "stderr",
     "output_type": "stream",
     "text": [
      "                                                                                \r"
     ]
    },
    {
     "data": {
      "text/plain": [
       "100000"
      ]
     },
     "execution_count": 10,
     "metadata": {},
     "output_type": "execute_result"
    }
   ],
   "source": [
    "df_imputed.count() #Se verifica que existan 100,000 registros, que es el resultado de multiplicar el tamaño de la muestra (10,000) por el número de particiones (10)."
   ]
  },
  {
   "cell_type": "code",
   "execution_count": 11,
   "id": "0e210caa",
   "metadata": {},
   "outputs": [
    {
     "name": "stderr",
     "output_type": "stream",
     "text": [
      "[Stage 138:==================================================>    (21 + 2) / 23]\r"
     ]
    },
    {
     "name": "stdout",
     "output_type": "stream",
     "text": [
      "+-----------------+--------+--------------+--------------+-----------+------------+-----------------+---------------+\n",
      "|Weather_Condition|Severity|Wind_Direction|Temperature(F)|Humidity(%)|Pressure(in)|Precipitation(in)|Wind_Speed(mph)|\n",
      "+-----------------+--------+--------------+--------------+-----------+------------+-----------------+---------------+\n",
      "|                0|       0|             0|             0|          0|           0|                0|              0|\n",
      "+-----------------+--------+--------------+--------------+-----------+------------+-----------------+---------------+\n",
      "\n"
     ]
    },
    {
     "name": "stderr",
     "output_type": "stream",
     "text": [
      "                                                                                \r"
     ]
    }
   ],
   "source": [
    "#Checar si hay valores nulos\n",
    "df_imputed.select([count(when(isnan(c) | col(c).isNull(), c)).alias(c) for c in df_imputed.columns]).show() #Se verifica que no existan valores nulos en el dataframe resultante."
   ]
  },
  {
   "cell_type": "code",
   "execution_count": 12,
   "id": "67379401",
   "metadata": {},
   "outputs": [
    {
     "name": "stderr",
     "output_type": "stream",
     "text": [
      "                                                                                \r"
     ]
    },
    {
     "name": "stdout",
     "output_type": "stream",
     "text": [
      "Número de filas después de eliminar nulos: 100000\n"
     ]
    },
    {
     "name": "stderr",
     "output_type": "stream",
     "text": [
      "[Stage 270:=============================================>         (19 + 4) / 23]\r"
     ]
    },
    {
     "name": "stdout",
     "output_type": "stream",
     "text": [
      "+-----------------+--------+--------------+--------------+-----------+------------+-----------------+---------------+---------------------+------------------+--------------------+\n",
      "|Weather_Condition|Severity|Wind_Direction|Temperature(F)|Humidity(%)|Pressure(in)|Precipitation(in)|Wind_Speed(mph)|Weather_Condition_idx|Wind_Direction_idx|            features|\n",
      "+-----------------+--------+--------------+--------------+-----------+------------+-----------------+---------------+---------------------+------------------+--------------------+\n",
      "|             Fair|       2|           SSE|          87.0|       35.0|       29.11|              0.0|            8.0|                  1.0|               8.0|[87.0,1.0,35.0,29...|\n",
      "|             Fair|       2|           SSE|          94.0|       31.0|       29.08|              0.0|            9.0|                  1.0|               8.0|[94.0,1.0,31.0,29...|\n",
      "|             Fair|       2|             S|          85.0|       44.0|       29.07|              0.0|           10.0|                  1.0|              18.0|[85.0,1.0,44.0,29...|\n",
      "|             Fair|       2|             S|          85.0|       44.0|       29.07|              0.0|           10.0|                  1.0|              18.0|[85.0,1.0,44.0,29...|\n",
      "|             Fair|       2|             S|          85.0|       44.0|       29.07|              0.0|           10.0|                  1.0|              18.0|[85.0,1.0,44.0,29...|\n",
      "+-----------------+--------+--------------+--------------+-----------+------------+-----------------+---------------+---------------------+------------------+--------------------+\n",
      "only showing top 5 rows\n",
      "\n"
     ]
    },
    {
     "name": "stderr",
     "output_type": "stream",
     "text": [
      "                                                                                \r"
     ]
    }
   ],
   "source": [
    "df_imputed = df_imputed.dropna()\n",
    "\n",
    "print(\"Número de filas después de eliminar nulos:\", df_imputed.count()) #Se verifica que existan 100,000 registros, que es el resultado de multiplicar el tamaño de la muestra (10,000) por el número de particiones (10).\n",
    "\n",
    "# Convertimos columnas categóricas a numéricas\n",
    "indexers = [StringIndexer(inputCol=\"Weather_Condition\", outputCol=\"Weather_Condition_idx\"),\n",
    "            StringIndexer(inputCol=\"Wind_Direction\", outputCol=\"Wind_Direction_idx\")\n",
    "            ]\n",
    "\n",
    "for indexer in indexers:\n",
    "    df_imputed = indexer.fit(df_imputed).transform(df_imputed)\n",
    "\n",
    "# Armamos el vector de características.\n",
    "assembler = VectorAssembler(\n",
    "    inputCols=[\"Temperature(F)\",\"Weather_Condition_idx\",\n",
    "               \"Humidity(%)\", \"Pressure(in)\", \"Wind_Direction_idx\",\n",
    "               \"Wind_Speed(mph)\",\"Precipitation(in)\"],\n",
    "    outputCol=\"features\"\n",
    ")\n",
    "\n",
    "df_preprocesado = assembler.transform(df_imputed)\n",
    "df_preprocesado.show(5)\n"
   ]
  },
  {
   "cell_type": "code",
   "execution_count": 13,
   "id": "0411161d",
   "metadata": {},
   "outputs": [
    {
     "name": "stderr",
     "output_type": "stream",
     "text": [
      "[Stage 291:===========================================>           (18 + 5) / 23]\r"
     ]
    },
    {
     "name": "stdout",
     "output_type": "stream",
     "text": [
      "+--------+-----+\n",
      "|Severity|count|\n",
      "+--------+-----+\n",
      "|       2|70000|\n",
      "|       3|30000|\n",
      "+--------+-----+\n",
      "\n"
     ]
    },
    {
     "name": "stderr",
     "output_type": "stream",
     "text": [
      "                                                                                \r"
     ]
    }
   ],
   "source": [
    "df_preprocesado.groupBy(\"Severity\").count().show() #Se verifica la cantidad de registros por cada clase (Severity)."
   ]
  },
  {
   "cell_type": "markdown",
   "id": "cc4d4977",
   "metadata": {},
   "source": [
    "## 5.1 Manejo de outliers"
   ]
  },
  {
   "cell_type": "markdown",
   "id": "24684ab4",
   "metadata": {},
   "source": [
    "A continuación se definen las funciones que nos ayudarán a calcular el IQR para las variables numéricas y, en caso de existir outliers, se sustituirán con la mediana."
   ]
  },
  {
   "cell_type": "code",
   "execution_count": 14,
   "id": "ecca8021",
   "metadata": {},
   "outputs": [],
   "source": [
    "def calcular_limites_iqr(df, columna):\n",
    "    quantiles = df.approxQuantile(columna, [0.25, 0.75], 0.01)\n",
    "    Q1, Q3 = quantiles\n",
    "    IQR = Q3 - Q1\n",
    "    lower = Q1 - 1.5 * IQR\n",
    "    upper = Q3 + 1.5 * IQR\n",
    "    return lower, upper"
   ]
  },
  {
   "cell_type": "code",
   "execution_count": 15,
   "id": "6ddd755d",
   "metadata": {},
   "outputs": [],
   "source": [
    "def imputar_outliers_con_mediana(df, columna):\n",
    "    # Calcular límites\n",
    "    lower, upper = calcular_limites_iqr(df, columna)\n",
    "\n",
    "    # Calcular mediana\n",
    "    mediana = df.approxQuantile(columna, [0.5], 0.01)[0]\n",
    "\n",
    "    # Crear nueva columna imputada\n",
    "    nueva_columna = f\"{columna}_sin_outliers\"\n",
    "    df = df.withColumn(nueva_columna, \n",
    "        when((col(columna) < lower) | (col(columna) > upper), lit(mediana))\n",
    "        .otherwise(col(columna))\n",
    "    )\n",
    "\n",
    "    return df\n"
   ]
  },
  {
   "cell_type": "code",
   "execution_count": 16,
   "id": "5f85f585",
   "metadata": {},
   "outputs": [
    {
     "name": "stderr",
     "output_type": "stream",
     "text": [
      "                                                                                \r"
     ]
    }
   ],
   "source": [
    "columnas_a_tratar = [\"Temperature(F)\", \"Humidity(%)\", \"Pressure(in)\", \"Precipitation(in)\", \"Wind_Speed(mph)\"]\n",
    "\n",
    "for col_name in columnas_a_tratar:\n",
    "    df_preprocesado = imputar_outliers_con_mediana(df_preprocesado, col_name)"
   ]
  },
  {
   "cell_type": "markdown",
   "id": "3d62a759",
   "metadata": {},
   "source": [
    "# 6. Preparación del conjunto de entrenamiento y prueba"
   ]
  },
  {
   "cell_type": "markdown",
   "id": "c9035133",
   "metadata": {},
   "source": [
    "A continuación se construyen los sets de entrenamiento y de prueba, en una distribución 70-30. Estos sets nos permitirán entrenar nuestros modelos y, posteriormente, evaluar el rendimiento de los mismos, en datos \"desconocidos\" por el modelo.\n",
    "\n",
    "Dado que, con base en las particiones, podemos darnos cuenta que se trata de un problema de clases desbalanceadas (70% severity 2 y 30% severity 3), se decidió crear un código que mantenga esta proporción en ambos conjuntos"
   ]
  },
  {
   "cell_type": "code",
   "execution_count": 17,
   "id": "51637f1f",
   "metadata": {},
   "outputs": [],
   "source": [
    "# Se filtra por cada clase de Severity\n",
    "df_severity2 = df_preprocesado.filter(F.col(\"Severity\") == 2)\n",
    "df_severity3 = df_preprocesado.filter(F.col(\"Severity\") == 3)\n",
    "\n",
    "# Se aplica randomSplit por separado\n",
    "train_2, test_2 = df_severity2.randomSplit([0.7, 0.3], seed=42)\n",
    "train_3, test_3 = df_severity3.randomSplit([0.7, 0.3], seed=42)\n",
    "\n",
    "# Unir las divisiones para formar train y test balanceados\n",
    "train_data = train_2.union(train_3)\n",
    "test_data = test_2.union(test_3)\n"
   ]
  },
  {
   "cell_type": "code",
   "execution_count": 18,
   "id": "dee6c2f1",
   "metadata": {},
   "outputs": [
    {
     "name": "stderr",
     "output_type": "stream",
     "text": [
      "                                                                                \r"
     ]
    },
    {
     "name": "stdout",
     "output_type": "stream",
     "text": [
      "+--------+-----+\n",
      "|Severity|count|\n",
      "+--------+-----+\n",
      "|       2|49231|\n",
      "|       3|20991|\n",
      "+--------+-----+\n",
      "\n"
     ]
    },
    {
     "name": "stderr",
     "output_type": "stream",
     "text": [
      "[Stage 577:===============================================>       (20 + 3) / 23]\r"
     ]
    },
    {
     "name": "stdout",
     "output_type": "stream",
     "text": [
      "+--------+-----+\n",
      "|Severity|count|\n",
      "+--------+-----+\n",
      "|       2|20769|\n",
      "|       3| 9009|\n",
      "+--------+-----+\n",
      "\n"
     ]
    },
    {
     "name": "stderr",
     "output_type": "stream",
     "text": [
      "                                                                                \r"
     ]
    }
   ],
   "source": [
    "train_data.groupBy(\"Severity\").count().show() #Se verifica la cantidad de registros por cada clase (Severity) en el conjunto de entrenamiento.\n",
    "test_data.groupBy(\"Severity\").count().show() #Se verifica la cantidad de registros por cada clase (Severity) en el conjunto de prueba."
   ]
  },
  {
   "cell_type": "markdown",
   "id": "d9d317dc",
   "metadata": {},
   "source": [
    "# 7. Construcción de modelos de aprendizaje supervisado y no supervisado"
   ]
  },
  {
   "cell_type": "markdown",
   "id": "c1af9591",
   "metadata": {},
   "source": [
    "A continuación se realizan dos experimentos (uno para aprendizaje supervisado (RandomForest) y otro para aprendizaje no supervisado (Kmeans: clustering).\n",
    "\n",
    "Adicionalmente, se evalúan los modelos generados, con base en el accuracy y en el Silhoutte score, respectivamente."
   ]
  },
  {
   "cell_type": "markdown",
   "id": "bb31a65e",
   "metadata": {},
   "source": [
    "## Random Forest"
   ]
  },
  {
   "cell_type": "markdown",
   "id": "742ddbe8",
   "metadata": {},
   "source": [
    "Primero, se realiza el modelo de Random Forest, que pretende predecir la severidad del accidente, con base en las variables de entrada."
   ]
  },
  {
   "cell_type": "code",
   "execution_count": 19,
   "id": "4f21fc38",
   "metadata": {},
   "outputs": [
    {
     "name": "stderr",
     "output_type": "stream",
     "text": [
      "[Stage 778:======================>                                 (8 + 8) / 20]\r"
     ]
    },
    {
     "name": "stdout",
     "output_type": "stream",
     "text": [
      "Precisión: 0.7263080126267715\n"
     ]
    },
    {
     "name": "stderr",
     "output_type": "stream",
     "text": [
      "                                                                                \r"
     ]
    }
   ],
   "source": [
    "#Se crea el modelo Random Forest, incluyendo el nombre de la columna target (severity)\n",
    "#y las variables de entrada (columna tipo vector: features)\n",
    "modelo_rf = RandomForestClassifier(labelCol=\"Severity\", featuresCol=\"features\")\n",
    "\n",
    "#Se entrena el modelo definido en el paso anterior, con base en el conjunto de entrenamiento.\n",
    "modelo_entrenado = modelo_rf.fit(train_data)\n",
    "\n",
    "#Se hacen predicciones para el conjunto de pruebas.\n",
    "predicciones = modelo_entrenado.transform(test_data)\n",
    "\n",
    "#Se crea un evaluador y se evalúa el modelo (accuracy), con base en las predicciones realizadas en el paso anterior.\n",
    "evaluador = MulticlassClassificationEvaluator(labelCol=\"Severity\", predictionCol=\"prediction\", metricName=\"accuracy\")\n",
    "precision = evaluador.evaluate(predicciones)\n",
    "print(f\"Precisión: {precision}\")\n"
   ]
  },
  {
   "cell_type": "code",
   "execution_count": 20,
   "id": "49c1c1e6",
   "metadata": {},
   "outputs": [
    {
     "name": "stderr",
     "output_type": "stream",
     "text": [
      "[Stage 789:====================================================>  (22 + 1) / 23]\r"
     ]
    },
    {
     "name": "stdout",
     "output_type": "stream",
     "text": [
      "+--------+----------+-----+\n",
      "|Severity|prediction|count|\n",
      "+--------+----------+-----+\n",
      "|       2|       3.0| 2379|\n",
      "|       2|       2.0|18390|\n",
      "|       3|       2.0| 5771|\n",
      "|       3|       3.0| 3238|\n",
      "+--------+----------+-----+\n",
      "\n"
     ]
    },
    {
     "name": "stderr",
     "output_type": "stream",
     "text": [
      "                                                                                \r"
     ]
    }
   ],
   "source": [
    "predicciones.groupBy(\"Severity\", \"prediction\").count().show()"
   ]
  },
  {
   "cell_type": "code",
   "execution_count": 21,
   "id": "0e55aab8",
   "metadata": {},
   "outputs": [
    {
     "name": "stderr",
     "output_type": "stream",
     "text": [
      "                                                                                \r"
     ]
    },
    {
     "name": "stdout",
     "output_type": "stream",
     "text": [
      "f1: 0.7049\n"
     ]
    },
    {
     "name": "stderr",
     "output_type": "stream",
     "text": [
      "                                                                                \r"
     ]
    },
    {
     "name": "stdout",
     "output_type": "stream",
     "text": [
      "weightedRecall: 0.7263\n"
     ]
    },
    {
     "name": "stderr",
     "output_type": "stream",
     "text": [
      "[Stage 866:===============================================>       (20 + 3) / 23]\r"
     ]
    },
    {
     "name": "stdout",
     "output_type": "stream",
     "text": [
      "weightedPrecision: 0.7053\n"
     ]
    },
    {
     "name": "stderr",
     "output_type": "stream",
     "text": [
      "                                                                                \r"
     ]
    }
   ],
   "source": [
    "for metric in [\"f1\", \"weightedRecall\", \"weightedPrecision\"]:\n",
    "    evaluator = MulticlassClassificationEvaluator(labelCol=\"Severity\", predictionCol=\"prediction\", metricName=metric)\n",
    "    result = evaluator.evaluate(predicciones)\n",
    "    print(f\"{metric}: {result:.4f}\")"
   ]
  },
  {
   "cell_type": "markdown",
   "id": "ebbde922",
   "metadata": {},
   "source": [
    "### Conclusiones Random Forest"
   ]
  },
  {
   "cell_type": "markdown",
   "id": "64db39e4",
   "metadata": {},
   "source": [
    "El modelo presenta una precisión del 72%, que parecería que no es un mal rendimiento; sin embargo, puede verse que, a pesar de que la mayoría de los registros de severity=2 se están clasificando de buena forma, los registros con severidad=3 se están clasificando de forma errónea la mayor parte del tiempo, por lo que es nuestro deber como analistas/científicos de datos encontrar más variables significativas que nos dé un mejor rendimiento para ambos casos o, en su defecto, decidir si la mala clasificación de los accidentes de severidad 3 no afectan a nuestro análisis."
   ]
  },
  {
   "cell_type": "markdown",
   "id": "f4aa7ec5",
   "metadata": {},
   "source": [
    "## KMeans"
   ]
  },
  {
   "cell_type": "markdown",
   "id": "e277e4ff",
   "metadata": {},
   "source": [
    "A pesar de que, con base en los datos, sabemos que existen 2 clústeres (severity:2, severity:3), se construyen diferentes modelos KMeans (de 2 a 4 clústeres) con el fin de comprobar el número óptimo de clústeres (2), que nos permitirán agrupar los datos, con base en las variables de entrada.\n",
    "\n",
    "Es importante mencionar que, dado que se trata de un modelo no supervisado, se aplica el modelo al set completo (df_preprocesado) y no para un conjunto de entrenamientos y pruebas, por separado."
   ]
  },
  {
   "cell_type": "markdown",
   "id": "c4052cfb",
   "metadata": {},
   "source": [
    "### Comprobación de número de clústeres"
   ]
  },
  {
   "cell_type": "code",
   "execution_count": 25,
   "id": "886deb2c",
   "metadata": {},
   "outputs": [
    {
     "name": "stderr",
     "output_type": "stream",
     "text": [
      "                                                                                \r"
     ]
    },
    {
     "data": {
      "image/png": "[encoded data removed]",
      "text/plain": [
       "<Figure size 800x500 with 1 Axes>"
      ]
     },
     "metadata": {},
     "output_type": "display_data"
    }
   ],
   "source": [
    "#Se crea una lista vacía, que guardará cada uno de los scores de los modelos.\n",
    "cost = []\n",
    "\n",
    "#Se crea un loop de 2 a 5, para evaluar los diferentes modelos (con base en el número de clusters)\n",
    "for k in range(2,5):\n",
    "    #Se crea el modelo\n",
    "    kmeans = KMeans().setK(k).setSeed(1).setFeaturesCol(\"features\")\n",
    "    #Se entrena el modelo.\n",
    "    model = kmeans.fit(df_preprocesado)\n",
    "    #Se aplica el modelo.\n",
    "    predictions = model.transform(df_preprocesado)\n",
    "    #Se evalúa el modelo y se guarda el score de Silhoutte.\n",
    "    evaluator = ClusteringEvaluator()\n",
    "    silhouette = evaluator.evaluate(predictions)\n",
    "    cost.append(silhouette)\n",
    "\n",
    "#Se grafica el resultado.\n",
    "plt.figure(figsize=(8, 5))\n",
    "plt.plot(range(2, 5), cost, marker='o')\n",
    "plt.xlabel('Número de clústeres')\n",
    "plt.ylabel('Score de Silueta')\n",
    "plt.title('Método del Codo para KMeans')\n",
    "plt.show()\n"
   ]
  },
  {
   "cell_type": "code",
   "execution_count": 26,
   "id": "c529bac7",
   "metadata": {},
   "outputs": [
    {
     "name": "stderr",
     "output_type": "stream",
     "text": [
      "                                                                                \r"
     ]
    },
    {
     "data": {
      "image/png": "[encoded data removed]",
      "text/plain": [
       "<Figure size 800x500 with 1 Axes>"
      ]
     },
     "metadata": {},
     "output_type": "display_data"
    }
   ],
   "source": [
    "# Lista para almacenar la inercia (WSSSE)\n",
    "wssse_list = []\n",
    "\n",
    "# Rango de valores de k a probar\n",
    "k_values = list(range(2, 5))\n",
    "\n",
    "for k in k_values:\n",
    "    kmeans = KMeans().setK(k).setSeed(42).setFeaturesCol(\"features\")\n",
    "    model = kmeans.fit(df_preprocesado)\n",
    "    \n",
    "    # Compute cost (WSSSE)\n",
    "    wssse = model.summary.trainingCost\n",
    "    wssse_list.append(wssse)\n",
    "\n",
    "# Graficar curva de inercia\n",
    "plt.figure(figsize=(8, 5))\n",
    "plt.plot(k_values, wssse_list, marker='o')\n",
    "plt.xlabel('Número de clústeres (k)')\n",
    "plt.ylabel('Inercia (WSSSE)')\n",
    "plt.title('Curva de Inercia para KMeans')\n",
    "plt.grid(True)\n",
    "plt.show()\n"
   ]
  },
  {
   "cell_type": "markdown",
   "id": "983508ab",
   "metadata": {},
   "source": [
    "## 📊 Comparación de curvas para selección de k en KMeans\n",
    "\n",
    "Se analizaron dos criterios comunes para determinar el número óptimo de clústeres (`k`) en el modelo KMeans:\n",
    "\n",
    "---\n",
    "\n",
    "### 📈 1. Score de Silueta\n",
    "\n",
    "- El **score de silueta** mide qué tan bien separados y cohesionados están los clústeres.\n",
    "- En la gráfica evaluada previamente, el valor más alto se obtuvo con **k = 2** (~0.66).\n",
    "- A medida que aumenta el número de clústeres, el score disminuye, lo que sugiere menor calidad en la separación.\n",
    "\n",
    "✅ **Conclusión:** El score de silueta sugiere que el valor óptimo es **k = 2**, donde se logra la mayor separación entre grupos.\n",
    "\n",
    "---\n",
    "\n",
    "### 📉 2. Curva de Inercia (WSSSE)\n",
    "\n",
    "- La **inercia** representa la suma de los errores cuadrados dentro de cada clúster.\n",
    "- Esta métrica siempre disminuye conforme se aumenta `k`, pero el objetivo es identificar un \"codo\", donde la mejora deja de ser significativa.\n",
    "- En la gráfica más reciente, la pendiente disminuye claramente después de **k = 3**, lo cual sugiere un punto de quiebre.\n",
    "\n",
    "✅ **Conclusión:** La curva de inercia sugiere que **k = 3** es un buen compromiso entre simplicidad y reducción de error.\n",
    "\n",
    "---\n",
    "\n",
    "### 🧠 Veredicto Final Combinado\n",
    "\n",
    "| Criterio       | k óptimo sugerido |\n",
    "|----------------|-------------------|\n",
    "| **Score de Silueta** | `2` (mayor calidad en separación) |\n",
    "| **Inercia (WSSSE)**  | `3` (punto de quiebre en mejora de compactación) |\n",
    "\n",
    "---\n",
    "\n",
    "### ✅ Recomendación\n",
    "\n",
    "- Si se busca **máxima cohesión y separación** de clústeres → **usar `k = 2`**.\n",
    "- Si se desea **más segmentación** con una pérdida aceptable de calidad → **usar `k = 3`**.\n",
    "\n"
   ]
  },
  {
   "cell_type": "markdown",
   "id": "704f6242",
   "metadata": {},
   "source": [
    "### Modelo final KMeans"
   ]
  },
  {
   "cell_type": "markdown",
   "id": "4e84746f",
   "metadata": {},
   "source": [
    "A continuación se construye y se evalúa el modelo con 2 clústeres (ya que el objetivo es obtener una mejor separación de la severidad de los accidentes), de forma individual."
   ]
  },
  {
   "cell_type": "code",
   "execution_count": 27,
   "id": "e50193f7",
   "metadata": {},
   "outputs": [
    {
     "name": "stderr",
     "output_type": "stream",
     "text": [
      "                                                                                \r"
     ]
    },
    {
     "name": "stdout",
     "output_type": "stream",
     "text": [
      "Score de silueta para k=2: 0.6153\n"
     ]
    },
    {
     "name": "stderr",
     "output_type": "stream",
     "text": [
      "[Stage 5094:=================================================>    (21 + 2) / 23]\r"
     ]
    },
    {
     "name": "stdout",
     "output_type": "stream",
     "text": [
      "+----------+-----+\n",
      "|prediction|count|\n",
      "+----------+-----+\n",
      "|         1|60448|\n",
      "|         0|39552|\n",
      "+----------+-----+\n",
      "\n"
     ]
    },
    {
     "name": "stderr",
     "output_type": "stream",
     "text": [
      "                                                                                \r"
     ]
    }
   ],
   "source": [
    "#Se crea el modelo con 2 clústeres.\n",
    "kmeans = KMeans().setK(2).setSeed(42).setFeaturesCol(\"features\")\n",
    "\n",
    "#Se entrena el modelo\n",
    "modelo_kmeans = kmeans.fit(df_preprocesado)\n",
    "\n",
    "#Se aplica el modelo\n",
    "predicciones = modelo_kmeans.transform(df_preprocesado)\n",
    "\n",
    "#Se evalúa el modelo, con base en el score de Silhoutte\n",
    "evaluator = ClusteringEvaluator()\n",
    "silhouette = evaluator.evaluate(predicciones)\n",
    "\n",
    "print(f\"Score de silueta para k=2: {silhouette:.4f}\")\n",
    "\n",
    "#Se muestran las predicciones realizadas.\n",
    "predicciones.select(\"prediction\").groupBy(\"prediction\").count().show()"
   ]
  },
  {
   "cell_type": "code",
   "execution_count": 28,
   "id": "934017d2",
   "metadata": {},
   "outputs": [
    {
     "name": "stderr",
     "output_type": "stream",
     "text": [
      "[Stage 5127:=================================================>    (21 + 2) / 23]\r"
     ]
    },
    {
     "name": "stdout",
     "output_type": "stream",
     "text": [
      "+--------+----------+-----+\n",
      "|severity|prediction|count|\n",
      "+--------+----------+-----+\n",
      "|       2|         1|46742|\n",
      "|       2|         0|23258|\n",
      "|       3|         1|13706|\n",
      "|       3|         0|16294|\n",
      "+--------+----------+-----+\n",
      "\n"
     ]
    },
    {
     "name": "stderr",
     "output_type": "stream",
     "text": [
      "                                                                                \r"
     ]
    }
   ],
   "source": [
    "#Se muestra el valor real vs la predicción hecha por el modelo.\n",
    "predicciones.groupBy(\"severity\",\"prediction\").count().show()"
   ]
  },
  {
   "cell_type": "markdown",
   "id": "61b6027e",
   "metadata": {},
   "source": [
    "### Conclusiones KMeans"
   ]
  },
  {
   "cell_type": "markdown",
   "id": "3baaa51b",
   "metadata": {},
   "source": [
    "El silhoutte score, para 2 clústeres, nos muestra que efectivamente no se están separando de buena forma los conjuntos de datos, por lo que es muy probable una mala clasificación de la severidad de los accidentes; así como en Random Forest, será nuestra obligación decidir si esto satisface nuestro objetivo o si es necesario incorporar (o quitar) más variables en nuestro problema."
   ]
  }
 ],
 "metadata": {
  "kernelspec": {
   "display_name": "env-pyspark-mna",
   "language": "python",
   "name": "python3"
  },
  "language_info": {
   "codemirror_mode": {
    "name": "ipython",
    "version": 3
   },
   "file_extension": ".py",
   "mimetype": "text/x-python",
   "name": "python",
   "nbconvert_exporter": "python",
   "pygments_lexer": "ipython3",
   "version": "3.12.9"
  }
 },
 "nbformat": 4,
 "nbformat_minor": 5
}
