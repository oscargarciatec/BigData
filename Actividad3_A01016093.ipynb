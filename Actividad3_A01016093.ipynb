{
 "cells": [
  {
   "cell_type": "markdown",
   "id": "c2111418",
   "metadata": {},
   "source": [
    "# 🎓 **Maestría en Inteligencia Artificial Aplicada**\n",
    "\n",
    "## 📈 **Curso: Análisis de grandes volúmenes de datos (Gpo 10)**\n",
    "\n",
    "### 🏛️ Tecnológico de Monterrey\n",
    "\n",
    "#### 👨‍🏫 **Profesor titular:** Dr. Iván Olmos Pineda\n",
    "#### 👩‍🏫 **Profesor asistence:** Verónica Sandra Guzmán de Valle\n",
    "\n",
    "### 📊 **Actividad 3 | Aprendizaje supervisado y no supervisado**\n",
    "\n",
    "#### 📅 **22 de mayo de 2025**\n",
    "\n",
    "🧑‍💻 **A01016093:** Oscar Enrique García García "
   ]
  },
  {
   "cell_type": "markdown",
   "id": "ba4877ec",
   "metadata": {},
   "source": [
    "# 1. Introducción teórica"
   ]
  },
  {
   "cell_type": "markdown",
   "id": "0933d87a",
   "metadata": {},
   "source": [
    "Los modelos de Machine Learning se dividen en dos principales rubros: Aprendizaje supervisado y aprendizaje no supervisado.\n",
    "\n",
    "## 🕵️ Aprendizaje Supervisado\n",
    "\n",
    "En el aprendizaje supervisado, el modelo se entrena utilizando un conjunto de datos etiquetado, es decir, cada entrada de datos viene acompañada de su salida deseada. El objetivo es aprender una función que, a partir de las variables de entrada, prediga correctamente la salida.\n",
    "\n",
    "Dentro del aprendizaje supervisado, se encuentran problemas de:\n",
    "\n",
    "Clasificación: Predecir una categoría (por ejemplo, detectar si una transacción se trata de fraude o no).\n",
    "Regresión: Predecir un valor continuo (por ejemplo, el precio de una casa).\n",
    "\n",
    "### Algoritmos representativos:\n",
    "\n",
    "- Regresión logística (Logistic Regression): LogisticRegression\n",
    "- Regresión lineal: LinearRegression\n",
    "- Árboles de decisión (Decision Trees): DecisionTreeClassifier / DecisionTreeRegressor\n",
    "- Random Forest: RandomForestClassifier / RandomForestRegressor\n",
    "- Gradient-Boosted Trees: GBTClassifier / GBTRegressor\n",
    "- NaiveBayes (para clasificación probabilística)\n",
    "\n",
    "\n",
    "### 🙈 Aprendizaje No Supervisado\n",
    "\n",
    "El aprendizaje no supervisado se utiliza cuando los datos no están etiquetados. El objetivo es encontrar patrones, relaciones o estructuras ocultas en los datos.\n",
    "\n",
    "Uno de los problemas a resolver dentro del aprendizaje no supervisado, son los relacionados a:\n",
    "\n",
    "Agrupamiento (clustering): Agrupar objetos similares (por ejemplo, segmentación de clientes).\n",
    "\n",
    "## Algortimos representativos:\n",
    "\n",
    "- K-means: KMeans\n",
    "\n",
    "## PySpark MLlib\n",
    "\n",
    "- Librería original de PySpark.\n",
    "- Basada en RDDs (Resilient Distributed Datasets).\n",
    "\n",
    "## PySpark ML\n",
    "\n",
    "- Librería recomendada actualmente para ML en Spark.\n",
    "- Basada en DataFrames (similares a los de pandas).\n",
    "- Mejor integración con SQL.\n",
    "- Mejor optimización y paralelización.\n"
   ]
  },
  {
   "cell_type": "markdown",
   "id": "99ad3b94",
   "metadata": {},
   "source": [
    "# 2. Importar librerías"
   ]
  },
  {
   "cell_type": "code",
   "execution_count": 28,
   "id": "47818c47",
   "metadata": {},
   "outputs": [],
   "source": [
    "from pyspark.sql import SparkSession\n",
    "from pyspark.sql.functions import col\n",
    "from pyspark.ml.feature import StringIndexer, VectorAssembler\n",
    "from pyspark.ml.classification import RandomForestClassifier\n",
    "from pyspark.ml.evaluation import MulticlassClassificationEvaluator\n",
    "from pyspark.ml.clustering import KMeans\n",
    "from pyspark.ml.evaluation import ClusteringEvaluator\n",
    "from pyspark.ml.feature import Imputer\n",
    "from pyspark.sql.functions import col, count, when, isnan, desc\n",
    "import matplotlib.pyplot as plt\n",
    "from pyspark.sql import functions as F"
   ]
  },
  {
   "cell_type": "markdown",
   "id": "88f798f7",
   "metadata": {},
   "source": [
    "# 3. Crear sesión de Spark y lectura de archivo"
   ]
  },
  {
   "cell_type": "code",
   "execution_count": 29,
   "id": "f5c9073e",
   "metadata": {},
   "outputs": [],
   "source": [
    "spark = SparkSession.builder \\\n",
    "    .appName(\"Aprendizaje Supervisado y No Supervisado\") \\\n",
    "    .getOrCreate()\n"
   ]
  },
  {
   "cell_type": "code",
   "execution_count": 30,
   "id": "72bff442",
   "metadata": {},
   "outputs": [
    {
     "name": "stderr",
     "output_type": "stream",
     "text": [
      "[Stage 7580:==========================================>           (18 + 5) / 23]\r"
     ]
    },
    {
     "name": "stdout",
     "output_type": "stream",
     "text": [
      "+---+-------+--------+-------------------+-------------------+-----------------+------------------+-------+-------+------------+--------------------+--------------------+------------+----------+-----+----------+-------+----------+------------+-------------------+--------------+-------------+-----------+------------+--------------+--------------+---------------+-----------------+-----------------+-------+-----+--------+--------+--------+-------+-------+----------+-------+-----+---------------+--------------+------------+--------------+--------------+-----------------+---------------------+\n",
      "| ID| Source|Severity|         Start_Time|           End_Time|        Start_Lat|         Start_Lng|End_Lat|End_Lng|Distance(mi)|         Description|              Street|        City|    County|State|   Zipcode|Country|  Timezone|Airport_Code|  Weather_Timestamp|Temperature(F)|Wind_Chill(F)|Humidity(%)|Pressure(in)|Visibility(mi)|Wind_Direction|Wind_Speed(mph)|Precipitation(in)|Weather_Condition|Amenity| Bump|Crossing|Give_Way|Junction|No_Exit|Railway|Roundabout|Station| Stop|Traffic_Calming|Traffic_Signal|Turning_Loop|Sunrise_Sunset|Civil_Twilight|Nautical_Twilight|Astronomical_Twilight|\n",
      "+---+-------+--------+-------------------+-------------------+-----------------+------------------+-------+-------+------------+--------------------+--------------------+------------+----------+-----+----------+-------+----------+------------+-------------------+--------------+-------------+-----------+------------+--------------+--------------+---------------+-----------------+-----------------+-------+-----+--------+--------+--------+-------+-------+----------+-------+-----+---------------+--------------+------------+--------------+--------------+-----------------+---------------------+\n",
      "|A-1|Source2|       3|2016-02-08 05:46:00|2016-02-08 11:00:00|        39.865147|        -84.058723|   NULL|   NULL|        0.01|Right lane blocke...|              I-70 E|      Dayton|Montgomery|   OH|     45424|     US|US/Eastern|        KFFO|2016-02-08 05:58:00|          36.9|         NULL|       91.0|       29.68|          10.0|          Calm|           NULL|             0.02|       Light Rain|  false|false|   false|   false|   false|  false|  false|     false|  false|false|          false|         false|       false|         Night|         Night|            Night|                Night|\n",
      "|A-2|Source2|       2|2016-02-08 06:07:59|2016-02-08 06:37:59|39.92805900000001|        -82.831184|   NULL|   NULL|        0.01|Accident on Brice...|            Brice Rd|Reynoldsburg|  Franklin|   OH|43068-3402|     US|US/Eastern|        KCMH|2016-02-08 05:51:00|          37.9|         NULL|      100.0|       29.65|          10.0|          Calm|           NULL|              0.0|       Light Rain|  false|false|   false|   false|   false|  false|  false|     false|  false|false|          false|         false|       false|         Night|         Night|            Night|                  Day|\n",
      "|A-3|Source2|       2|2016-02-08 06:49:27|2016-02-08 07:19:27|        39.063148|        -84.032608|   NULL|   NULL|        0.01|Accident on OH-32...|      State Route 32|Williamsburg|  Clermont|   OH|     45176|     US|US/Eastern|        KI69|2016-02-08 06:56:00|          36.0|         33.3|      100.0|       29.67|          10.0|            SW|            3.5|             NULL|         Overcast|  false|false|   false|   false|   false|  false|  false|     false|  false|false|          false|          true|       false|         Night|         Night|              Day|                  Day|\n",
      "|A-4|Source2|       3|2016-02-08 07:23:34|2016-02-08 07:53:34|        39.747753|-84.20558199999998|   NULL|   NULL|        0.01|Accident on I-75 ...|              I-75 S|      Dayton|Montgomery|   OH|     45417|     US|US/Eastern|        KDAY|2016-02-08 07:38:00|          35.1|         31.0|       96.0|       29.64|           9.0|            SW|            4.6|             NULL|    Mostly Cloudy|  false|false|   false|   false|   false|  false|  false|     false|  false|false|          false|         false|       false|         Night|           Day|              Day|                  Day|\n",
      "|A-5|Source2|       2|2016-02-08 07:39:07|2016-02-08 08:09:07|        39.627781|        -84.188354|   NULL|   NULL|        0.01|Accident on McEwe...|Miamisburg Center...|      Dayton|Montgomery|   OH|     45459|     US|US/Eastern|        KMGY|2016-02-08 07:53:00|          36.0|         33.3|       89.0|       29.65|           6.0|            SW|            3.5|             NULL|    Mostly Cloudy|  false|false|   false|   false|   false|  false|  false|     false|  false|false|          false|          true|       false|           Day|           Day|              Day|                  Day|\n",
      "+---+-------+--------+-------------------+-------------------+-----------------+------------------+-------+-------+------------+--------------------+--------------------+------------+----------+-----+----------+-------+----------+------------+-------------------+--------------+-------------+-----------+------------+--------------+--------------+---------------+-----------------+-----------------+-------+-----+--------+--------+--------+-------+-------+----------+-------+-----+---------------+--------------+------------+--------------+--------------+-----------------+---------------------+\n",
      "only showing top 5 rows\n",
      "\n"
     ]
    },
    {
     "name": "stderr",
     "output_type": "stream",
     "text": [
      "                                                                                \r"
     ]
    }
   ],
   "source": [
    "df = spark.read.csv(\"/Users/oscgarcia/Documents/MNA/Análisis de Grandes Volúmenes de Datos/US_Accidents_Dec19.csv\", header=True, inferSchema=True)\n",
    "df.show(5)"
   ]
  },
  {
   "cell_type": "markdown",
   "id": "87d9681b",
   "metadata": {},
   "source": [
    "Se decidió mantener únicamente las siguientes columnas ya que, como lo mencionamos en el documento del proyecto, el estudio se centraba en evaluar cómo afectaban las condiciones meteorológicas, a la severidad de los accidentes: Temperature(F), Weather_Condition, Severity, Humidity(%), Pressure(in), Wind_Direction, Wind_Speed(mph), Precipitation(in)."
   ]
  },
  {
   "cell_type": "code",
   "execution_count": 31,
   "id": "d0e22741",
   "metadata": {},
   "outputs": [
    {
     "name": "stdout",
     "output_type": "stream",
     "text": [
      "+--------------+-----------------+--------+-----------+------------+--------------+---------------+-----------------+\n",
      "|Temperature(F)|Weather_Condition|Severity|Humidity(%)|Pressure(in)|Wind_Direction|Wind_Speed(mph)|Precipitation(in)|\n",
      "+--------------+-----------------+--------+-----------+------------+--------------+---------------+-----------------+\n",
      "|          36.9|       Light Rain|       3|       91.0|       29.68|          Calm|           NULL|             0.02|\n",
      "|          37.9|       Light Rain|       2|      100.0|       29.65|          Calm|           NULL|              0.0|\n",
      "|          36.0|         Overcast|       2|      100.0|       29.67|            SW|            3.5|             NULL|\n",
      "|          35.1|    Mostly Cloudy|       3|       96.0|       29.64|            SW|            4.6|             NULL|\n",
      "|          36.0|    Mostly Cloudy|       2|       89.0|       29.65|            SW|            3.5|             NULL|\n",
      "|          37.9|       Light Rain|       3|       97.0|       29.63|           SSW|            3.5|             0.03|\n",
      "|          34.0|         Overcast|       2|      100.0|       29.66|           WSW|            3.5|             NULL|\n",
      "|          34.0|         Overcast|       3|      100.0|       29.66|           WSW|            3.5|             NULL|\n",
      "|          33.3|    Mostly Cloudy|       2|       99.0|       29.67|            SW|            1.2|             NULL|\n",
      "|          37.4|       Light Rain|       3|      100.0|       29.62|           SSW|            4.6|             0.02|\n",
      "|          35.6|             Rain|       3|       93.0|       29.64|           WNW|            5.8|             NULL|\n",
      "|          37.4|       Light Rain|       3|      100.0|       29.62|           SSW|            4.6|             0.02|\n",
      "|          33.8|         Overcast|       2|      100.0|       29.63|            SW|            2.3|             NULL|\n",
      "|          36.0|    Mostly Cloudy|       2|       89.0|       29.65|            NW|            5.8|             NULL|\n",
      "|          37.4|       Light Rain|       2|      100.0|       29.62|           SSW|            4.6|             0.02|\n",
      "|          33.8|         Overcast|       2|      100.0|       29.63|            SW|            2.3|             NULL|\n",
      "|          35.6|    Mostly Cloudy|       2|       99.0|       29.65|           WSW|            2.3|             NULL|\n",
      "|          36.0|    Mostly Cloudy|       2|       89.0|       29.65|            NW|            5.8|             NULL|\n",
      "|          37.4|         Overcast|       2|       93.0|       29.63|           WSW|            6.9|             NULL|\n",
      "|          36.0|    Mostly Cloudy|       2|       89.0|       29.65|          West|            6.9|             NULL|\n",
      "+--------------+-----------------+--------+-----------+------------+--------------+---------------+-----------------+\n",
      "only showing top 20 rows\n",
      "\n"
     ]
    }
   ],
   "source": [
    "cols_to_select = [\"Temperature(F)\",\"Weather_Condition\",\"Severity\",\n",
    "               \"Humidity(%)\", \"Pressure(in)\", \"Wind_Direction\",\n",
    "               \"Wind_Speed(mph)\",\"Precipitation(in)\"] #Se definen las columnas a mantener.\n",
    "\n",
    "df = df.select(cols_to_select) #Se seleccionan únicamente las columnas definidas en el paso anterior.\n",
    "df.show()"
   ]
  },
  {
   "cell_type": "markdown",
   "id": "e2993a6a",
   "metadata": {},
   "source": [
    "# 4. Particionamiento"
   ]
  },
  {
   "cell_type": "markdown",
   "id": "0e7ed0df",
   "metadata": {},
   "source": [
    "A continuación, se enlistan las particiones previamente definidas en el documento del proyecto y se integra el código para obtener muestras de tamaño \"n\", para cada una de las particiones. En este caso, se seleccionaron 10,000 registros para cada una de las particiones."
   ]
  },
  {
   "cell_type": "code",
   "execution_count": 32,
   "id": "50de30d7",
   "metadata": {},
   "outputs": [
    {
     "name": "stdout",
     "output_type": "stream",
     "text": [
      "+--------------+-----------------+--------+-----------+------------+--------------+---------------+-----------------+\n",
      "|Temperature(F)|Weather_Condition|Severity|Humidity(%)|Pressure(in)|Wind_Direction|Wind_Speed(mph)|Precipitation(in)|\n",
      "+--------------+-----------------+--------+-----------+------------+--------------+---------------+-----------------+\n",
      "|          87.0|             Fair|       2|       35.0|       29.11|           SSE|            8.0|              0.0|\n",
      "|          94.0|             Fair|       2|       31.0|       29.08|           SSE|            9.0|              0.0|\n",
      "|          85.0|             Fair|       2|       44.0|       29.07|             S|           10.0|              0.0|\n",
      "|          85.0|             Fair|       2|       44.0|       29.07|             S|           10.0|              0.0|\n",
      "|          85.0|             Fair|       2|       44.0|       29.07|             S|           10.0|              0.0|\n",
      "+--------------+-----------------+--------+-----------+------------+--------------+---------------+-----------------+\n",
      "only showing top 5 rows\n",
      "\n"
     ]
    }
   ],
   "source": [
    "reglas_particionamiento = [\n",
    "    {\"Weather_Condition\": \"Fair\", \"Severity\": 2},\n",
    "    {\"Weather_Condition\": \"Mostly Cloudy\", \"Severity\": 2},\n",
    "    {\"Weather_Condition\": \"Cloudy\", \"Severity\": 2},\n",
    "    {\"Weather_Condition\": \"Partly Cloudy\", \"Severity\": 2},\n",
    "    {\"Weather_Condition\": \"Clear\", \"Severity\": 2},\n",
    "    {\"Weather_Condition\": \"Light Rain\", \"Severity\": 2},\n",
    "    {\"Weather_Condition\": \"Overcast\", \"Severity\": 2},\n",
    "    {\"Weather_Condition\": \"Clear\", \"Severity\": 3},\n",
    "    {\"Weather_Condition\": \"Fair\", \"Severity\": 3},\n",
    "    {\"Weather_Condition\": \"Mostly Cloudy\", \"Severity\": 3},\n",
    "] #Se enlistan las particiones elegidas en el documento del proyecto.\n",
    "\n",
    "muestras = [] #Se crea una lista vacía, que guardará las muestras.\n",
    "tamaño_muestra_por_particion = 10000 #Se define el tamaño de la muestra (para cada partición).\n",
    "\n",
    "for regla in reglas_particionamiento: #Se recorre la lista de reglas de particionamiento.\n",
    "    condicion_clima = regla[\"Weather_Condition\"]\n",
    "    severidad = regla[\"Severity\"]\n",
    "\n",
    "    df_filtrado = df.filter(\n",
    "        (col(\"Weather_Condition\") == condicion_clima) &\n",
    "        (col(\"Severity\") == severidad)\n",
    "    ).limit(tamaño_muestra_por_particion) #Se filtran los primeros n registros (tamaño de la muestra), que cumpla con las condiciones estipuladas en las reglas de particionamiento.\n",
    "\n",
    "    muestras.append(df_filtrado) #Se agregan los datos a la lista de muestras\n",
    "\n",
    "df_muestra_M = muestras[0]\n",
    "for df_temp in muestras[1:]:\n",
    "    df_muestra_M = df_muestra_M.union(df_temp) #Se unen todas las muestras en un solo dataframe.\n",
    "\n",
    "df_muestra_M.show(5)\n"
   ]
  },
  {
   "cell_type": "code",
   "execution_count": null,
   "id": "be055409",
   "metadata": {},
   "outputs": [
    {
     "name": "stderr",
     "output_type": "stream",
     "text": [
      "ERROR:root:KeyboardInterrupt while sending command.][Stage 7588:>(0 + 0) / 23]3]\n",
      "Traceback (most recent call last):\n",
      "  File \"/opt/anaconda3/envs/env-pyspark-mna/lib/python3.12/site-packages/py4j/java_gateway.py\", line 1038, in send_command\n",
      "    response = connection.send_command(command)\n",
      "               ^^^^^^^^^^^^^^^^^^^^^^^^^^^^^^^^\n",
      "  File \"/opt/anaconda3/envs/env-pyspark-mna/lib/python3.12/site-packages/py4j/clientserver.py\", line 511, in send_command\n",
      "    answer = smart_decode(self.stream.readline()[:-1])\n",
      "                          ^^^^^^^^^^^^^^^^^^^^^^\n",
      "  File \"/opt/anaconda3/envs/env-pyspark-mna/lib/python3.12/socket.py\", line 720, in readinto\n",
      "    return self._sock.recv_into(b)\n",
      "           ^^^^^^^^^^^^^^^^^^^^^^^\n",
      "KeyboardInterrupt\n",
      "[Stage 7586:(12 + 8) / 23][Stage 7587:>(0 + 0) / 23][Stage 7588:>(0 + 0) / 23]\r"
     ]
    },
    {
     "ename": "KeyboardInterrupt",
     "evalue": "",
     "output_type": "error",
     "traceback": [
      "\u001b[0;31m---------------------------------------------------------------------------\u001b[0m",
      "\u001b[0;31mKeyboardInterrupt\u001b[0m                         Traceback (most recent call last)",
      "Cell \u001b[0;32mIn[33], line 1\u001b[0m\n\u001b[0;32m----> 1\u001b[0m df_muestra_M\u001b[38;5;241m.\u001b[39mcount()\n",
      "File \u001b[0;32m/opt/anaconda3/envs/env-pyspark-mna/lib/python3.12/site-packages/pyspark/sql/dataframe.py:1240\u001b[0m, in \u001b[0;36mDataFrame.count\u001b[0;34m(self)\u001b[0m\n\u001b[1;32m   1217\u001b[0m \u001b[38;5;28;01mdef\u001b[39;00m \u001b[38;5;21mcount\u001b[39m(\u001b[38;5;28mself\u001b[39m) \u001b[38;5;241m-\u001b[39m\u001b[38;5;241m>\u001b[39m \u001b[38;5;28mint\u001b[39m:\n\u001b[1;32m   1218\u001b[0m \u001b[38;5;250m    \u001b[39m\u001b[38;5;124;03m\"\"\"Returns the number of rows in this :class:`DataFrame`.\u001b[39;00m\n\u001b[1;32m   1219\u001b[0m \n\u001b[1;32m   1220\u001b[0m \u001b[38;5;124;03m    .. versionadded:: 1.3.0\u001b[39;00m\n\u001b[0;32m   (...)\u001b[0m\n\u001b[1;32m   1238\u001b[0m \u001b[38;5;124;03m    3\u001b[39;00m\n\u001b[1;32m   1239\u001b[0m \u001b[38;5;124;03m    \"\"\"\u001b[39;00m\n\u001b[0;32m-> 1240\u001b[0m     \u001b[38;5;28;01mreturn\u001b[39;00m \u001b[38;5;28mint\u001b[39m(\u001b[38;5;28mself\u001b[39m\u001b[38;5;241m.\u001b[39m_jdf\u001b[38;5;241m.\u001b[39mcount())\n",
      "File \u001b[0;32m/opt/anaconda3/envs/env-pyspark-mna/lib/python3.12/site-packages/py4j/java_gateway.py:1321\u001b[0m, in \u001b[0;36mJavaMember.__call__\u001b[0;34m(self, *args)\u001b[0m\n\u001b[1;32m   1314\u001b[0m args_command, temp_args \u001b[38;5;241m=\u001b[39m \u001b[38;5;28mself\u001b[39m\u001b[38;5;241m.\u001b[39m_build_args(\u001b[38;5;241m*\u001b[39margs)\n\u001b[1;32m   1316\u001b[0m command \u001b[38;5;241m=\u001b[39m proto\u001b[38;5;241m.\u001b[39mCALL_COMMAND_NAME \u001b[38;5;241m+\u001b[39m\\\n\u001b[1;32m   1317\u001b[0m     \u001b[38;5;28mself\u001b[39m\u001b[38;5;241m.\u001b[39mcommand_header \u001b[38;5;241m+\u001b[39m\\\n\u001b[1;32m   1318\u001b[0m     args_command \u001b[38;5;241m+\u001b[39m\\\n\u001b[1;32m   1319\u001b[0m     proto\u001b[38;5;241m.\u001b[39mEND_COMMAND_PART\n\u001b[0;32m-> 1321\u001b[0m answer \u001b[38;5;241m=\u001b[39m \u001b[38;5;28mself\u001b[39m\u001b[38;5;241m.\u001b[39mgateway_client\u001b[38;5;241m.\u001b[39msend_command(command)\n\u001b[1;32m   1322\u001b[0m return_value \u001b[38;5;241m=\u001b[39m get_return_value(\n\u001b[1;32m   1323\u001b[0m     answer, \u001b[38;5;28mself\u001b[39m\u001b[38;5;241m.\u001b[39mgateway_client, \u001b[38;5;28mself\u001b[39m\u001b[38;5;241m.\u001b[39mtarget_id, \u001b[38;5;28mself\u001b[39m\u001b[38;5;241m.\u001b[39mname)\n\u001b[1;32m   1325\u001b[0m \u001b[38;5;28;01mfor\u001b[39;00m temp_arg \u001b[38;5;129;01min\u001b[39;00m temp_args:\n",
      "File \u001b[0;32m/opt/anaconda3/envs/env-pyspark-mna/lib/python3.12/site-packages/py4j/java_gateway.py:1038\u001b[0m, in \u001b[0;36mGatewayClient.send_command\u001b[0;34m(self, command, retry, binary)\u001b[0m\n\u001b[1;32m   1036\u001b[0m connection \u001b[38;5;241m=\u001b[39m \u001b[38;5;28mself\u001b[39m\u001b[38;5;241m.\u001b[39m_get_connection()\n\u001b[1;32m   1037\u001b[0m \u001b[38;5;28;01mtry\u001b[39;00m:\n\u001b[0;32m-> 1038\u001b[0m     response \u001b[38;5;241m=\u001b[39m connection\u001b[38;5;241m.\u001b[39msend_command(command)\n\u001b[1;32m   1039\u001b[0m     \u001b[38;5;28;01mif\u001b[39;00m binary:\n\u001b[1;32m   1040\u001b[0m         \u001b[38;5;28;01mreturn\u001b[39;00m response, \u001b[38;5;28mself\u001b[39m\u001b[38;5;241m.\u001b[39m_create_connection_guard(connection)\n",
      "File \u001b[0;32m/opt/anaconda3/envs/env-pyspark-mna/lib/python3.12/site-packages/py4j/clientserver.py:511\u001b[0m, in \u001b[0;36mClientServerConnection.send_command\u001b[0;34m(self, command)\u001b[0m\n\u001b[1;32m    509\u001b[0m \u001b[38;5;28;01mtry\u001b[39;00m:\n\u001b[1;32m    510\u001b[0m     \u001b[38;5;28;01mwhile\u001b[39;00m \u001b[38;5;28;01mTrue\u001b[39;00m:\n\u001b[0;32m--> 511\u001b[0m         answer \u001b[38;5;241m=\u001b[39m smart_decode(\u001b[38;5;28mself\u001b[39m\u001b[38;5;241m.\u001b[39mstream\u001b[38;5;241m.\u001b[39mreadline()[:\u001b[38;5;241m-\u001b[39m\u001b[38;5;241m1\u001b[39m])\n\u001b[1;32m    512\u001b[0m         logger\u001b[38;5;241m.\u001b[39mdebug(\u001b[38;5;124m\"\u001b[39m\u001b[38;5;124mAnswer received: \u001b[39m\u001b[38;5;132;01m{0}\u001b[39;00m\u001b[38;5;124m\"\u001b[39m\u001b[38;5;241m.\u001b[39mformat(answer))\n\u001b[1;32m    513\u001b[0m         \u001b[38;5;66;03m# Happens when a the other end is dead. There might be an empty\u001b[39;00m\n\u001b[1;32m    514\u001b[0m         \u001b[38;5;66;03m# answer before the socket raises an error.\u001b[39;00m\n",
      "File \u001b[0;32m/opt/anaconda3/envs/env-pyspark-mna/lib/python3.12/socket.py:720\u001b[0m, in \u001b[0;36mSocketIO.readinto\u001b[0;34m(self, b)\u001b[0m\n\u001b[1;32m    718\u001b[0m \u001b[38;5;28;01mwhile\u001b[39;00m \u001b[38;5;28;01mTrue\u001b[39;00m:\n\u001b[1;32m    719\u001b[0m     \u001b[38;5;28;01mtry\u001b[39;00m:\n\u001b[0;32m--> 720\u001b[0m         \u001b[38;5;28;01mreturn\u001b[39;00m \u001b[38;5;28mself\u001b[39m\u001b[38;5;241m.\u001b[39m_sock\u001b[38;5;241m.\u001b[39mrecv_into(b)\n\u001b[1;32m    721\u001b[0m     \u001b[38;5;28;01mexcept\u001b[39;00m timeout:\n\u001b[1;32m    722\u001b[0m         \u001b[38;5;28mself\u001b[39m\u001b[38;5;241m.\u001b[39m_timeout_occurred \u001b[38;5;241m=\u001b[39m \u001b[38;5;28;01mTrue\u001b[39;00m\n",
      "\u001b[0;31mKeyboardInterrupt\u001b[0m: "
     ]
    },
    {
     "name": "stderr",
     "output_type": "stream",
     "text": [
      "[Stage 7593:=======================>                              (10 + 8) / 23]\r"
     ]
    }
   ],
   "source": [
    "df_muestra_M.count() #Se verifica que existan 100,000 registros, que es el resultado de multiplicar el tamaño de la muestra (10,000) por el número de particiones (10)."
   ]
  },
  {
   "cell_type": "code",
   "execution_count": null,
   "id": "074014f3",
   "metadata": {},
   "outputs": [
    {
     "name": "stdout",
     "output_type": "stream",
     "text": [
      "root\n",
      " |-- Temperature(F): double (nullable = true)\n",
      " |-- Weather_Condition: string (nullable = true)\n",
      " |-- Severity: integer (nullable = true)\n",
      " |-- Humidity(%): double (nullable = true)\n",
      " |-- Pressure(in): double (nullable = true)\n",
      " |-- Wind_Direction: string (nullable = true)\n",
      " |-- Wind_Speed(mph): double (nullable = true)\n",
      " |-- Precipitation(in): double (nullable = true)\n",
      "\n"
     ]
    }
   ],
   "source": [
    "df_muestra_M.printSchema() #Se verifica el esquema del dataframe resultante."
   ]
  },
  {
   "cell_type": "markdown",
   "id": "13bd112e",
   "metadata": {},
   "source": [
    "# 5. Preparación de los datos"
   ]
  },
  {
   "cell_type": "markdown",
   "id": "e7f09eca",
   "metadata": {},
   "source": [
    "A continuación, se definen estrategias de imputación de valores nulos, dependiendo del tipo de dato de cada una de las columnas.\n",
    "\n",
    "Para las variables numéricas, se optó por imputar la mediana; mientras que para las variables categóricas (en este caso es una sola: Wind Direction), se optó por imputar la moda."
   ]
  },
  {
   "cell_type": "code",
   "execution_count": null,
   "id": "ce03a565",
   "metadata": {},
   "outputs": [
    {
     "name": "stderr",
     "output_type": "stream",
     "text": [
      "                                                                                \r"
     ]
    }
   ],
   "source": [
    "imputer = Imputer(\n",
    "    inputCols=[\"Temperature(F)\", \"Humidity(%)\", \"Pressure(in)\", \"Precipitation(in)\",\"Wind_Speed(mph)\"],\n",
    "    outputCols=[\"Temperature(F)_imputed\", \"Humidity(%)_imputed\", \"Pressure(in)_imputed\", \"Precipitation(in)_imputed\",\"Wind_Speed(mph)_imputed\"]\n",
    ").setStrategy(\"median\") #Se definen las columnas a las que se les aplicará la transformación\n",
    "\n",
    "df_imputed = imputer.fit(df_muestra_M).transform(df_muestra_M) #Se aplica la transformación (imputar la media en valores nulos) a las columnas previamente definidas.\n"
   ]
  },
  {
   "cell_type": "code",
   "execution_count": null,
   "id": "6c1ffd05",
   "metadata": {},
   "outputs": [
    {
     "name": "stderr",
     "output_type": "stream",
     "text": [
      "                                                                                \r"
     ]
    }
   ],
   "source": [
    "# Calcular la moda de 'Weather_Condition'\n",
    "mode_wind_dir = df_imputed.groupBy(\"Wind_Direction\").count().orderBy(desc(\"count\")).first()[0]\n",
    "\n",
    "# Reemplazar valores nulos en 'Weather_Condition' con la moda\n",
    "df_imputed = df_imputed.fillna({\"Wind_Direction\": mode_wind_dir})\n"
   ]
  },
  {
   "cell_type": "markdown",
   "id": "59896ad2",
   "metadata": {},
   "source": [
    "Una vez aplicadas las transformaciones anteriores, se procede con los siguientes pasos:\n",
    "\n",
    "1. Eliminar los registros que presenten nulos en las columnas restantes: Weather_Condition y Severity.\n",
    "\n",
    "2. Convertir las variables categóricas a valores numéricos, por medio de StringIndexer, con el fin de que los modelos puedan trabajar únicamente con variables numéricas.\n",
    "\n",
    "3. Se juntan todas las variables en una columna tipo \"Vector\", por medio de VectorAssembler, en una columna \"features\", con el fin de que los modelos trabajen directamente con esta columna.\n",
    "\n",
    "4. Se construye el dataframe df_procesado, con el resultado de las transformaciones anteriores."
   ]
  },
  {
   "cell_type": "code",
   "execution_count": null,
   "id": "67379401",
   "metadata": {},
   "outputs": [
    {
     "name": "stderr",
     "output_type": "stream",
     "text": [
      "[Stage 171:===============================================>       (20 + 3) / 23]\r"
     ]
    },
    {
     "name": "stdout",
     "output_type": "stream",
     "text": [
      "+--------------+-----------------+--------+-----------+------------+--------------+---------------+-----------------+----------------------+-------------------+--------------------+-------------------------+-----------------------+---------------------+------------------+--------------------+\n",
      "|Temperature(F)|Weather_Condition|Severity|Humidity(%)|Pressure(in)|Wind_Direction|Wind_Speed(mph)|Precipitation(in)|Temperature(F)_imputed|Humidity(%)_imputed|Pressure(in)_imputed|Precipitation(in)_imputed|Wind_Speed(mph)_imputed|Weather_Condition_idx|Wind_Direction_idx|            features|\n",
      "+--------------+-----------------+--------+-----------+------------+--------------+---------------+-----------------+----------------------+-------------------+--------------------+-------------------------+-----------------------+---------------------+------------------+--------------------+\n",
      "|          87.0|             Fair|       2|       35.0|       29.11|           SSE|            8.0|              0.0|                  87.0|               35.0|               29.11|                      0.0|                    8.0|                  0.0|               2.0|[87.0,0.0,2.0,35....|\n",
      "|          94.0|             Fair|       2|       31.0|       29.08|           SSE|            9.0|              0.0|                  94.0|               31.0|               29.08|                      0.0|                    9.0|                  0.0|               2.0|[94.0,0.0,2.0,31....|\n",
      "|          85.0|             Fair|       2|       44.0|       29.07|             S|           10.0|              0.0|                  85.0|               44.0|               29.07|                      0.0|                   10.0|                  0.0|               1.0|[85.0,0.0,2.0,44....|\n",
      "|          85.0|             Fair|       2|       44.0|       29.07|             S|           10.0|              0.0|                  85.0|               44.0|               29.07|                      0.0|                   10.0|                  0.0|               1.0|[85.0,0.0,2.0,44....|\n",
      "|          85.0|             Fair|       2|       44.0|       29.07|             S|           10.0|              0.0|                  85.0|               44.0|               29.07|                      0.0|                   10.0|                  0.0|               1.0|[85.0,0.0,2.0,44....|\n",
      "+--------------+-----------------+--------+-----------+------------+--------------+---------------+-----------------+----------------------+-------------------+--------------------+-------------------------+-----------------------+---------------------+------------------+--------------------+\n",
      "only showing top 5 rows\n",
      "\n"
     ]
    },
    {
     "name": "stderr",
     "output_type": "stream",
     "text": [
      "                                                                                \r"
     ]
    }
   ],
   "source": [
    "df_imputed = df_imputed.dropna()\n",
    "\n",
    "# Convertimos columnas categóricas a numéricas\n",
    "indexers = [StringIndexer(inputCol=\"Weather_Condition\", outputCol=\"Weather_Condition_idx\"),\n",
    "            StringIndexer(inputCol=\"Wind_Direction\", outputCol=\"Wind_Direction_idx\")\n",
    "            ]\n",
    "\n",
    "for indexer in indexers:\n",
    "    df_imputed = indexer.fit(df_imputed).transform(df_imputed)\n",
    "\n",
    "# Armamos el vector de características.\n",
    "assembler = VectorAssembler(\n",
    "    inputCols=[\"Temperature(F)_imputed\",\"Weather_Condition_idx\",\"Severity\",\n",
    "               \"Humidity(%)_imputed\", \"Pressure(in)_imputed\", \"Wind_Direction_idx\",\n",
    "               \"Wind_Speed(mph)_imputed\",\"Precipitation(in)_imputed\"],\n",
    "    outputCol=\"features\"\n",
    ")\n",
    "\n",
    "df_preprocesado = assembler.transform(df_imputed)\n",
    "df_preprocesado.show(5)\n"
   ]
  },
  {
   "cell_type": "markdown",
   "id": "3d62a759",
   "metadata": {},
   "source": [
    "# 6. Preparación del conjunto de entrenamiento y prueba"
   ]
  },
  {
   "cell_type": "markdown",
   "id": "c9035133",
   "metadata": {},
   "source": [
    "A continuación se construyen los sets de entrenamiento y de prueba, en una distribución 70-30. Estos sets nos permitirán entrenar nuestros modelos y, posteriormente, evaluar el rendimiento de los mismos, en datos \"desconocidos\" por el modelo.\n",
    "\n",
    "Dado que, con base en las particiones, podemos darnos cuenta que se trata de un problema de clases desbalanceadas (70% severity 2 y 30% severity 3), se decidió crear un código que mantenga esta proporción en ambos conjuntos"
   ]
  },
  {
   "cell_type": "code",
   "execution_count": null,
   "id": "51637f1f",
   "metadata": {},
   "outputs": [],
   "source": [
    "# Se filtra por cada clase de Severity\n",
    "df_severity2 = df_preprocesado.filter(F.col(\"Severity\") == 2)\n",
    "df_severity3 = df_preprocesado.filter(F.col(\"Severity\") == 3)\n",
    "\n",
    "# Se aplica randomSplit por separado\n",
    "train_2, test_2 = df_severity2.randomSplit([0.7, 0.3], seed=42)\n",
    "train_3, test_3 = df_severity3.randomSplit([0.7, 0.3], seed=42)\n",
    "\n",
    "# Unir las divisiones para formar train y test balanceados\n",
    "train_data = train_2.union(train_3)\n",
    "test_data = test_2.union(test_3)\n"
   ]
  },
  {
   "cell_type": "markdown",
   "id": "d9d317dc",
   "metadata": {},
   "source": [
    "# 7. Construcción de modelos de aprendizaje supervisado y no supervisado"
   ]
  },
  {
   "cell_type": "markdown",
   "id": "c1af9591",
   "metadata": {},
   "source": [
    "A continuación se realizan dos experimentos (uno para aprendizaje supervisado (RandomForest) y otro para aprendizaje no supervisado (Kmeans: clustering).\n",
    "\n",
    "Adicionalmente, se evalúan los modelos generados, con base en el accuracy y en el Silhoutte score, respectivamente."
   ]
  },
  {
   "cell_type": "markdown",
   "id": "bb31a65e",
   "metadata": {},
   "source": [
    "## Random Forest"
   ]
  },
  {
   "cell_type": "markdown",
   "id": "742ddbe8",
   "metadata": {},
   "source": [
    "Primero, se realiza el modelo de Random Forest, que pretende predecir la severidad del accidente, con base en las variables de entrada."
   ]
  },
  {
   "cell_type": "code",
   "execution_count": null,
   "id": "4f21fc38",
   "metadata": {},
   "outputs": [
    {
     "name": "stderr",
     "output_type": "stream",
     "text": [
      "[Stage 7445:=================================================>    (21 + 2) / 23]\r"
     ]
    },
    {
     "name": "stdout",
     "output_type": "stream",
     "text": [
      "Precisión: 1.0\n"
     ]
    },
    {
     "name": "stderr",
     "output_type": "stream",
     "text": [
      "                                                                                \r"
     ]
    }
   ],
   "source": [
    "#Se crea el modelo Random Forest, incluyendo el nombre de la columna target (severity)\n",
    "#y las variables de entrada (columna tipo vector: features)\n",
    "modelo_rf = RandomForestClassifier(labelCol=\"Severity\", featuresCol=\"features\")\n",
    "\n",
    "#Se entrena el modelo definido en el paso anterior, con base en el conjunto de entrenamiento.\n",
    "modelo_entrenado = modelo_rf.fit(train_data)\n",
    "\n",
    "#Se hacen predicciones para el conjunto de pruebas.\n",
    "predicciones = modelo_entrenado.transform(test_data)\n",
    "\n",
    "#Se crea un evaluador y se evalúa el modelo (accuracy), con base en las predicciones realizadas en el paso anterior.\n",
    "evaluador = MulticlassClassificationEvaluator(labelCol=\"Severity\", predictionCol=\"prediction\", metricName=\"accuracy\")\n",
    "precision = evaluador.evaluate(predicciones)\n",
    "print(f\"Precisión: {precision}\")\n"
   ]
  },
  {
   "cell_type": "code",
   "execution_count": null,
   "id": "49c1c1e6",
   "metadata": {},
   "outputs": [
    {
     "name": "stderr",
     "output_type": "stream",
     "text": [
      "[Stage 7478:===================================================>  (19 + 1) / 20]\r"
     ]
    },
    {
     "name": "stdout",
     "output_type": "stream",
     "text": [
      "+--------+----------+-----+\n",
      "|Severity|prediction|count|\n",
      "+--------+----------+-----+\n",
      "|       2|       2.0| 8667|\n",
      "|       3|       3.0| 3064|\n",
      "+--------+----------+-----+\n",
      "\n"
     ]
    },
    {
     "name": "stderr",
     "output_type": "stream",
     "text": [
      "                                                                                \r"
     ]
    }
   ],
   "source": [
    "predicciones.groupBy(\"Severity\", \"prediction\").count().show()"
   ]
  },
  {
   "cell_type": "code",
   "execution_count": null,
   "id": "0e55aab8",
   "metadata": {},
   "outputs": [
    {
     "name": "stderr",
     "output_type": "stream",
     "text": [
      "                                                                                \r"
     ]
    },
    {
     "name": "stdout",
     "output_type": "stream",
     "text": [
      "accuracy: 1.0000\n"
     ]
    },
    {
     "name": "stderr",
     "output_type": "stream",
     "text": [
      "                                                                                \r"
     ]
    },
    {
     "name": "stdout",
     "output_type": "stream",
     "text": [
      "f1: 1.0000\n"
     ]
    },
    {
     "name": "stderr",
     "output_type": "stream",
     "text": [
      "                                                                                \r"
     ]
    },
    {
     "name": "stdout",
     "output_type": "stream",
     "text": [
      "weightedRecall: 1.0000\n"
     ]
    },
    {
     "name": "stderr",
     "output_type": "stream",
     "text": [
      "[Stage 7566:=================================================>    (21 + 2) / 23]\r"
     ]
    },
    {
     "name": "stdout",
     "output_type": "stream",
     "text": [
      "weightedPrecision: 1.0000\n"
     ]
    },
    {
     "name": "stderr",
     "output_type": "stream",
     "text": [
      "                                                                                \r"
     ]
    }
   ],
   "source": [
    "for metric in [\"accuracy\", \"f1\", \"weightedRecall\", \"weightedPrecision\"]:\n",
    "    evaluator = MulticlassClassificationEvaluator(labelCol=\"Severity\", predictionCol=\"prediction\", metricName=metric)\n",
    "    result = evaluator.evaluate(predicciones)\n",
    "    print(f\"{metric}: {result:.4f}\")"
   ]
  },
  {
   "cell_type": "markdown",
   "id": "ebbde922",
   "metadata": {},
   "source": [
    "### Conclusiones Random Forest"
   ]
  },
  {
   "cell_type": "markdown",
   "id": "64db39e4",
   "metadata": {},
   "source": []
  },
  {
   "cell_type": "markdown",
   "id": "f4aa7ec5",
   "metadata": {},
   "source": [
    "## KMeans"
   ]
  },
  {
   "cell_type": "markdown",
   "id": "e277e4ff",
   "metadata": {},
   "source": [
    "A pesar de que, con base en los datos, sabemos que existen 2 clústeres (severity:2, severity:3), se construyen diferentes modelos KMeans (de 2 a 4 clústeres) con el fin de comprobar el número óptimo de clústeres (2), que nos permitirán agrupar los datos, con base en las variables de entrada.\n",
    "\n",
    "Es importante mencionar que, dado que se trata de un modelo no supervisado, se aplica el modelo al set completo (df_preprocesado) y no para un conjunto de entrenamientos y pruebas, por separado."
   ]
  },
  {
   "cell_type": "markdown",
   "id": "c4052cfb",
   "metadata": {},
   "source": [
    "### Comprobación de número de clústeres"
   ]
  },
  {
   "cell_type": "code",
   "execution_count": null,
   "id": "886deb2c",
   "metadata": {},
   "outputs": [
    {
     "name": "stderr",
     "output_type": "stream",
     "text": [
      "ERROR:root:KeyboardInterrupt while sending command.][Stage 6927:>(0 + 0) / 23]3]\n",
      "Traceback (most recent call last):\n",
      "  File \"/opt/anaconda3/envs/env-pyspark-mna/lib/python3.12/site-packages/py4j/java_gateway.py\", line 1038, in send_command\n",
      "    response = connection.send_command(command)\n",
      "               ^^^^^^^^^^^^^^^^^^^^^^^^^^^^^^^^\n",
      "  File \"/opt/anaconda3/envs/env-pyspark-mna/lib/python3.12/site-packages/py4j/clientserver.py\", line 511, in send_command\n",
      "    answer = smart_decode(self.stream.readline()[:-1])\n",
      "                          ^^^^^^^^^^^^^^^^^^^^^^\n",
      "  File \"/opt/anaconda3/envs/env-pyspark-mna/lib/python3.12/socket.py\", line 720, in readinto\n",
      "    return self._sock.recv_into(b)\n",
      "           ^^^^^^^^^^^^^^^^^^^^^^^\n",
      "KeyboardInterrupt\n",
      "[Stage 6925:>(7 + 8) / 23][Stage 6926:>(0 + 0) / 23][Stage 6927:>(0 + 0) / 23]\r"
     ]
    },
    {
     "ename": "KeyboardInterrupt",
     "evalue": "",
     "output_type": "error",
     "traceback": [
      "\u001b[0;31m---------------------------------------------------------------------------\u001b[0m",
      "\u001b[0;31mKeyboardInterrupt\u001b[0m                         Traceback (most recent call last)",
      "Cell \u001b[0;32mIn[21], line 9\u001b[0m\n\u001b[1;32m      7\u001b[0m kmeans \u001b[38;5;241m=\u001b[39m KMeans()\u001b[38;5;241m.\u001b[39msetK(k)\u001b[38;5;241m.\u001b[39msetSeed(\u001b[38;5;241m1\u001b[39m)\u001b[38;5;241m.\u001b[39msetFeaturesCol(\u001b[38;5;124m\"\u001b[39m\u001b[38;5;124mfeatures\u001b[39m\u001b[38;5;124m\"\u001b[39m)\n\u001b[1;32m      8\u001b[0m \u001b[38;5;66;03m#Se entrena el modelo.\u001b[39;00m\n\u001b[0;32m----> 9\u001b[0m model \u001b[38;5;241m=\u001b[39m kmeans\u001b[38;5;241m.\u001b[39mfit(df_preprocesado)\n\u001b[1;32m     10\u001b[0m \u001b[38;5;66;03m#Se aplica el modelo.\u001b[39;00m\n\u001b[1;32m     11\u001b[0m predictions \u001b[38;5;241m=\u001b[39m model\u001b[38;5;241m.\u001b[39mtransform(df_preprocesado)\n",
      "File \u001b[0;32m/opt/anaconda3/envs/env-pyspark-mna/lib/python3.12/site-packages/pyspark/ml/base.py:205\u001b[0m, in \u001b[0;36mEstimator.fit\u001b[0;34m(self, dataset, params)\u001b[0m\n\u001b[1;32m    203\u001b[0m         \u001b[38;5;28;01mreturn\u001b[39;00m \u001b[38;5;28mself\u001b[39m\u001b[38;5;241m.\u001b[39mcopy(params)\u001b[38;5;241m.\u001b[39m_fit(dataset)\n\u001b[1;32m    204\u001b[0m     \u001b[38;5;28;01melse\u001b[39;00m:\n\u001b[0;32m--> 205\u001b[0m         \u001b[38;5;28;01mreturn\u001b[39;00m \u001b[38;5;28mself\u001b[39m\u001b[38;5;241m.\u001b[39m_fit(dataset)\n\u001b[1;32m    206\u001b[0m \u001b[38;5;28;01melse\u001b[39;00m:\n\u001b[1;32m    207\u001b[0m     \u001b[38;5;28;01mraise\u001b[39;00m \u001b[38;5;167;01mTypeError\u001b[39;00m(\n\u001b[1;32m    208\u001b[0m         \u001b[38;5;124m\"\u001b[39m\u001b[38;5;124mParams must be either a param map or a list/tuple of param maps, \u001b[39m\u001b[38;5;124m\"\u001b[39m\n\u001b[1;32m    209\u001b[0m         \u001b[38;5;124m\"\u001b[39m\u001b[38;5;124mbut got \u001b[39m\u001b[38;5;132;01m%s\u001b[39;00m\u001b[38;5;124m.\u001b[39m\u001b[38;5;124m\"\u001b[39m \u001b[38;5;241m%\u001b[39m \u001b[38;5;28mtype\u001b[39m(params)\n\u001b[1;32m    210\u001b[0m     )\n",
      "File \u001b[0;32m/opt/anaconda3/envs/env-pyspark-mna/lib/python3.12/site-packages/pyspark/ml/wrapper.py:381\u001b[0m, in \u001b[0;36mJavaEstimator._fit\u001b[0;34m(self, dataset)\u001b[0m\n\u001b[1;32m    380\u001b[0m \u001b[38;5;28;01mdef\u001b[39;00m \u001b[38;5;21m_fit\u001b[39m(\u001b[38;5;28mself\u001b[39m, dataset: DataFrame) \u001b[38;5;241m-\u001b[39m\u001b[38;5;241m>\u001b[39m JM:\n\u001b[0;32m--> 381\u001b[0m     java_model \u001b[38;5;241m=\u001b[39m \u001b[38;5;28mself\u001b[39m\u001b[38;5;241m.\u001b[39m_fit_java(dataset)\n\u001b[1;32m    382\u001b[0m     model \u001b[38;5;241m=\u001b[39m \u001b[38;5;28mself\u001b[39m\u001b[38;5;241m.\u001b[39m_create_model(java_model)\n\u001b[1;32m    383\u001b[0m     \u001b[38;5;28;01mreturn\u001b[39;00m \u001b[38;5;28mself\u001b[39m\u001b[38;5;241m.\u001b[39m_copyValues(model)\n",
      "File \u001b[0;32m/opt/anaconda3/envs/env-pyspark-mna/lib/python3.12/site-packages/pyspark/ml/wrapper.py:378\u001b[0m, in \u001b[0;36mJavaEstimator._fit_java\u001b[0;34m(self, dataset)\u001b[0m\n\u001b[1;32m    375\u001b[0m \u001b[38;5;28;01massert\u001b[39;00m \u001b[38;5;28mself\u001b[39m\u001b[38;5;241m.\u001b[39m_java_obj \u001b[38;5;129;01mis\u001b[39;00m \u001b[38;5;129;01mnot\u001b[39;00m \u001b[38;5;28;01mNone\u001b[39;00m\n\u001b[1;32m    377\u001b[0m \u001b[38;5;28mself\u001b[39m\u001b[38;5;241m.\u001b[39m_transfer_params_to_java()\n\u001b[0;32m--> 378\u001b[0m \u001b[38;5;28;01mreturn\u001b[39;00m \u001b[38;5;28mself\u001b[39m\u001b[38;5;241m.\u001b[39m_java_obj\u001b[38;5;241m.\u001b[39mfit(dataset\u001b[38;5;241m.\u001b[39m_jdf)\n",
      "File \u001b[0;32m/opt/anaconda3/envs/env-pyspark-mna/lib/python3.12/site-packages/py4j/java_gateway.py:1321\u001b[0m, in \u001b[0;36mJavaMember.__call__\u001b[0;34m(self, *args)\u001b[0m\n\u001b[1;32m   1314\u001b[0m args_command, temp_args \u001b[38;5;241m=\u001b[39m \u001b[38;5;28mself\u001b[39m\u001b[38;5;241m.\u001b[39m_build_args(\u001b[38;5;241m*\u001b[39margs)\n\u001b[1;32m   1316\u001b[0m command \u001b[38;5;241m=\u001b[39m proto\u001b[38;5;241m.\u001b[39mCALL_COMMAND_NAME \u001b[38;5;241m+\u001b[39m\\\n\u001b[1;32m   1317\u001b[0m     \u001b[38;5;28mself\u001b[39m\u001b[38;5;241m.\u001b[39mcommand_header \u001b[38;5;241m+\u001b[39m\\\n\u001b[1;32m   1318\u001b[0m     args_command \u001b[38;5;241m+\u001b[39m\\\n\u001b[1;32m   1319\u001b[0m     proto\u001b[38;5;241m.\u001b[39mEND_COMMAND_PART\n\u001b[0;32m-> 1321\u001b[0m answer \u001b[38;5;241m=\u001b[39m \u001b[38;5;28mself\u001b[39m\u001b[38;5;241m.\u001b[39mgateway_client\u001b[38;5;241m.\u001b[39msend_command(command)\n\u001b[1;32m   1322\u001b[0m return_value \u001b[38;5;241m=\u001b[39m get_return_value(\n\u001b[1;32m   1323\u001b[0m     answer, \u001b[38;5;28mself\u001b[39m\u001b[38;5;241m.\u001b[39mgateway_client, \u001b[38;5;28mself\u001b[39m\u001b[38;5;241m.\u001b[39mtarget_id, \u001b[38;5;28mself\u001b[39m\u001b[38;5;241m.\u001b[39mname)\n\u001b[1;32m   1325\u001b[0m \u001b[38;5;28;01mfor\u001b[39;00m temp_arg \u001b[38;5;129;01min\u001b[39;00m temp_args:\n",
      "File \u001b[0;32m/opt/anaconda3/envs/env-pyspark-mna/lib/python3.12/site-packages/py4j/java_gateway.py:1038\u001b[0m, in \u001b[0;36mGatewayClient.send_command\u001b[0;34m(self, command, retry, binary)\u001b[0m\n\u001b[1;32m   1036\u001b[0m connection \u001b[38;5;241m=\u001b[39m \u001b[38;5;28mself\u001b[39m\u001b[38;5;241m.\u001b[39m_get_connection()\n\u001b[1;32m   1037\u001b[0m \u001b[38;5;28;01mtry\u001b[39;00m:\n\u001b[0;32m-> 1038\u001b[0m     response \u001b[38;5;241m=\u001b[39m connection\u001b[38;5;241m.\u001b[39msend_command(command)\n\u001b[1;32m   1039\u001b[0m     \u001b[38;5;28;01mif\u001b[39;00m binary:\n\u001b[1;32m   1040\u001b[0m         \u001b[38;5;28;01mreturn\u001b[39;00m response, \u001b[38;5;28mself\u001b[39m\u001b[38;5;241m.\u001b[39m_create_connection_guard(connection)\n",
      "File \u001b[0;32m/opt/anaconda3/envs/env-pyspark-mna/lib/python3.12/site-packages/py4j/clientserver.py:511\u001b[0m, in \u001b[0;36mClientServerConnection.send_command\u001b[0;34m(self, command)\u001b[0m\n\u001b[1;32m    509\u001b[0m \u001b[38;5;28;01mtry\u001b[39;00m:\n\u001b[1;32m    510\u001b[0m     \u001b[38;5;28;01mwhile\u001b[39;00m \u001b[38;5;28;01mTrue\u001b[39;00m:\n\u001b[0;32m--> 511\u001b[0m         answer \u001b[38;5;241m=\u001b[39m smart_decode(\u001b[38;5;28mself\u001b[39m\u001b[38;5;241m.\u001b[39mstream\u001b[38;5;241m.\u001b[39mreadline()[:\u001b[38;5;241m-\u001b[39m\u001b[38;5;241m1\u001b[39m])\n\u001b[1;32m    512\u001b[0m         logger\u001b[38;5;241m.\u001b[39mdebug(\u001b[38;5;124m\"\u001b[39m\u001b[38;5;124mAnswer received: \u001b[39m\u001b[38;5;132;01m{0}\u001b[39;00m\u001b[38;5;124m\"\u001b[39m\u001b[38;5;241m.\u001b[39mformat(answer))\n\u001b[1;32m    513\u001b[0m         \u001b[38;5;66;03m# Happens when a the other end is dead. There might be an empty\u001b[39;00m\n\u001b[1;32m    514\u001b[0m         \u001b[38;5;66;03m# answer before the socket raises an error.\u001b[39;00m\n",
      "File \u001b[0;32m/opt/anaconda3/envs/env-pyspark-mna/lib/python3.12/socket.py:720\u001b[0m, in \u001b[0;36mSocketIO.readinto\u001b[0;34m(self, b)\u001b[0m\n\u001b[1;32m    718\u001b[0m \u001b[38;5;28;01mwhile\u001b[39;00m \u001b[38;5;28;01mTrue\u001b[39;00m:\n\u001b[1;32m    719\u001b[0m     \u001b[38;5;28;01mtry\u001b[39;00m:\n\u001b[0;32m--> 720\u001b[0m         \u001b[38;5;28;01mreturn\u001b[39;00m \u001b[38;5;28mself\u001b[39m\u001b[38;5;241m.\u001b[39m_sock\u001b[38;5;241m.\u001b[39mrecv_into(b)\n\u001b[1;32m    721\u001b[0m     \u001b[38;5;28;01mexcept\u001b[39;00m timeout:\n\u001b[1;32m    722\u001b[0m         \u001b[38;5;28mself\u001b[39m\u001b[38;5;241m.\u001b[39m_timeout_occurred \u001b[38;5;241m=\u001b[39m \u001b[38;5;28;01mTrue\u001b[39;00m\n",
      "\u001b[0;31mKeyboardInterrupt\u001b[0m: "
     ]
    }
   ],
   "source": [
    "#Se crea una lista vacía, que guardará cada uno de los scores de los modelos.\n",
    "cost = []\n",
    "\n",
    "#Se crea un loop de 2 a 4, para evaluar los diferentes modelos (con base en el número de clusters)\n",
    "for k in range(2,4):\n",
    "    #Se crea el modelo\n",
    "    kmeans = KMeans().setK(k).setSeed(1).setFeaturesCol(\"features\")\n",
    "    #Se entrena el modelo.\n",
    "    model = kmeans.fit(df_preprocesado)\n",
    "    #Se aplica el modelo.\n",
    "    predictions = model.transform(df_preprocesado)\n",
    "    #Se evalúa el modelo y se guarda el score de Silhoutte.\n",
    "    evaluator = ClusteringEvaluator()\n",
    "    silhouette = evaluator.evaluate(predictions)\n",
    "    cost.append(silhouette)\n",
    "\n",
    "#Se grafica el resultado.\n",
    "plt.figure(figsize=(8, 5))\n",
    "plt.plot(range(2, 4), cost, marker='o')\n",
    "plt.xlabel('Número de clústeres')\n",
    "plt.ylabel('Score de Silueta')\n",
    "plt.title('Método del Codo para KMeans')\n",
    "plt.show()\n"
   ]
  },
  {
   "cell_type": "code",
   "execution_count": null,
   "id": "c529bac7",
   "metadata": {},
   "outputs": [
    {
     "name": "stderr",
     "output_type": "stream",
     "text": [
      "                                                                                \r"
     ]
    },
    {
     "data": {
      "image/png": "[encoded data removed]",
      "text/plain": [
       "<Figure size 800x500 with 1 Axes>"
      ]
     },
     "metadata": {},
     "output_type": "display_data"
    }
   ],
   "source": [
    "# Lista para almacenar la inercia (WSSSE)\n",
    "wssse_list = []\n",
    "\n",
    "# Rango de valores de k a probar\n",
    "k_values = list(range(2, 4))\n",
    "\n",
    "for k in k_values:\n",
    "    kmeans = KMeans().setK(k).setSeed(42).setFeaturesCol(\"features\")\n",
    "    model = kmeans.fit(df_preprocesado)\n",
    "    \n",
    "    # Compute cost (WSSSE)\n",
    "    wssse = model.summary.trainingCost\n",
    "    wssse_list.append(wssse)\n",
    "\n",
    "# Graficar curva de inercia\n",
    "plt.figure(figsize=(8, 5))\n",
    "plt.plot(k_values, wssse_list, marker='o')\n",
    "plt.xlabel('Número de clústeres (k)')\n",
    "plt.ylabel('Inercia (WSSSE)')\n",
    "plt.title('Curva de Inercia para KMeans')\n",
    "plt.grid(True)\n",
    "plt.show()\n"
   ]
  },
  {
   "cell_type": "markdown",
   "id": "983508ab",
   "metadata": {},
   "source": [
    "## 🧠 Selección del número óptimo de clústeres\n",
    "\n",
    "Para determinar el número óptimo de clústeres en el modelo KMeans, se analizaron dos criterios:\n",
    "\n",
    "### 1. Score de Silueta\n",
    "\n",
    "- El score de silueta es una métrica que mide la calidad del agrupamiento, combinando cohesión (qué tan cerca están los puntos dentro de un clúster) y separación (qué tan lejos están de otros clústeres).\n",
    "- En el gráfico, se observa que el valor máximo del score se obtiene cuando **k = 2**, con una puntuación superior a 0.65.\n",
    "- A partir de k = 3, el score disminuye progresivamente, lo que sugiere una menor calidad de agrupamiento.\n",
    "\n",
    "📌 **Conclusión:** el score de silueta sugiere que **2 clústeres es la mejor elección**.\n",
    "\n",
    "---\n",
    "\n",
    "### 2. Curva de Inercia (WSSSE)\n",
    "\n",
    "- La inercia o WSSSE (Within Set Sum of Squared Errors) mide la compacidad de los clústeres: a menor valor, mayor compacidad.\n",
    "- Aunque la inercia disminuye conforme se incrementa el número de clústeres (lo cual es esperado), **la curva no muestra un \"codo\" claramente definido**, lo cual indica que no hay una mejora marginal significativa al pasar de 2 a más clústeres.\n",
    "\n",
    "📌 **Conclusión:** aunque la inercia mejora con más clústeres, no lo hace de manera abrupta o significativa, por lo que **no contradice la elección de k = 2**.\n",
    "\n",
    "---\n",
    "\n",
    "### ✅ Veredicto final:\n",
    "Basado en ambos criterios, se concluye que el número óptimo de clústeres es:\n",
    "\n",
    "#### 👉 **2 clústeres: Esto confirma nuestra declaración inicial de tener 2 clústeres, con base en las particiones definidas: serverity 2 y severity 3**\n"
   ]
  },
  {
   "cell_type": "markdown",
   "id": "704f6242",
   "metadata": {},
   "source": [
    "### Modelo final KMeans"
   ]
  },
  {
   "cell_type": "markdown",
   "id": "4e84746f",
   "metadata": {},
   "source": [
    "A continuación se construye y se evalúa el modelo con 2 clústeres, de forma individual."
   ]
  },
  {
   "cell_type": "code",
   "execution_count": 34,
   "id": "e50193f7",
   "metadata": {},
   "outputs": [
    {
     "name": "stderr",
     "output_type": "stream",
     "text": [
      "                                                                                \r"
     ]
    },
    {
     "name": "stdout",
     "output_type": "stream",
     "text": [
      "Score de silueta para k=2: 0.6636\n"
     ]
    },
    {
     "name": "stderr",
     "output_type": "stream",
     "text": [
      "[Stage 7943:=================================================>    (21 + 2) / 23]\r"
     ]
    },
    {
     "name": "stdout",
     "output_type": "stream",
     "text": [
      "+----------+-----+\n",
      "|prediction|count|\n",
      "+----------+-----+\n",
      "|         1|14079|\n",
      "|         0|25143|\n",
      "+----------+-----+\n",
      "\n"
     ]
    },
    {
     "name": "stderr",
     "output_type": "stream",
     "text": [
      "                                                                                \r"
     ]
    }
   ],
   "source": [
    "#Se crea el modelo con 2 clústeres.\n",
    "kmeans = KMeans().setK(2).setSeed(42).setFeaturesCol(\"features\")\n",
    "\n",
    "#Se entrena el modelo\n",
    "modelo_kmeans = kmeans.fit(df_preprocesado)\n",
    "\n",
    "#Se aplica el modelo\n",
    "predicciones = modelo_kmeans.transform(df_preprocesado)\n",
    "\n",
    "#Se evalúa el modelo, con base en el score de Silhoutte\n",
    "evaluator = ClusteringEvaluator()\n",
    "silhouette = evaluator.evaluate(predicciones)\n",
    "\n",
    "print(f\"Score de silueta para k=2: {silhouette:.4f}\")\n",
    "\n",
    "#Se muestran las predicciones realizadas.\n",
    "predicciones.select(\"prediction\").groupBy(\"prediction\").count().show()"
   ]
  },
  {
   "cell_type": "code",
   "execution_count": 35,
   "id": "934017d2",
   "metadata": {},
   "outputs": [
    {
     "name": "stderr",
     "output_type": "stream",
     "text": [
      "[Stage 7976:=================================================>    (21 + 2) / 23]\r"
     ]
    },
    {
     "name": "stdout",
     "output_type": "stream",
     "text": [
      "+--------+----------+-----+\n",
      "|severity|prediction|count|\n",
      "+--------+----------+-----+\n",
      "|       2|         1| 7903|\n",
      "|       2|         0|21194|\n",
      "|       3|         1| 6176|\n",
      "|       3|         0| 3949|\n",
      "+--------+----------+-----+\n",
      "\n"
     ]
    },
    {
     "name": "stderr",
     "output_type": "stream",
     "text": [
      "                                                                                \r"
     ]
    }
   ],
   "source": [
    "#Se muestra el valor real vs la predicción hecha por el modelo.\n",
    "predicciones.groupBy(\"severity\",\"prediction\").count().show()"
   ]
  },
  {
   "cell_type": "markdown",
   "id": "61b6027e",
   "metadata": {},
   "source": [
    "### Conclusiones KMeans"
   ]
  },
  {
   "cell_type": "markdown",
   "id": "3baaa51b",
   "metadata": {},
   "source": [
    "#"
   ]
  }
 ],
 "metadata": {
  "kernelspec": {
   "display_name": "env-pyspark-mna",
   "language": "python",
   "name": "python3"
  },
  "language_info": {
   "codemirror_mode": {
    "name": "ipython",
    "version": 3
   },
   "file_extension": ".py",
   "mimetype": "text/x-python",
   "name": "python",
   "nbconvert_exporter": "python",
   "pygments_lexer": "ipython3",
   "version": "3.12.9"
  }
 },
 "nbformat": 4,
 "nbformat_minor": 5
}
