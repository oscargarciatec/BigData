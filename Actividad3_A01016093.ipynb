{
 "cells": [
  {
   "cell_type": "markdown",
   "id": "c2111418",
   "metadata": {},
   "source": [
    "# 🎓 **Maestría en Inteligencia Artificial Aplicada**\n",
    "\n",
    "## 📈 **Curso: Análisis de grandes volúmenes de datos (Gpo 10)**\n",
    "\n",
    "### 🏛️ Tecnológico de Monterrey\n",
    "\n",
    "#### 👨‍🏫 **Profesor titular:** Dr. Iván Olmos Pineda\n",
    "#### 👩‍🏫 **Profesor asistence:** Verónica Sandra Guzmán de Valle\n",
    "\n",
    "### 📊 **Actividad 3 | Aprendizaje supervisado y no supervisado**\n",
    "\n",
    "#### 📅 **22 de mayo de 2025**\n",
    "\n",
    "🧑‍💻 **A01016093:** Oscar Enrique García García "
   ]
  },
  {
   "cell_type": "markdown",
   "id": "ba4877ec",
   "metadata": {},
   "source": [
    "# 1. Introducción teórica"
   ]
  },
  {
   "cell_type": "markdown",
   "id": "0933d87a",
   "metadata": {},
   "source": [
    "Los modelos de Machine Learning se dividen en dos principales rubros: Aprendizaje supervisado y aprendizaje no supervisado.\n",
    "\n",
    "## 🕵️ Aprendizaje Supervisado\n",
    "\n",
    "En el aprendizaje supervisado, el modelo se entrena utilizando un conjunto de datos etiquetado, es decir, cada entrada de datos viene acompañada de su salida deseada. El objetivo es aprender una función que, a partir de las variables de entrada, prediga correctamente la salida.\n",
    "\n",
    "Dentro del aprendizaje supervisado, se encuentran problemas de:\n",
    "\n",
    "Clasificación: Predecir una categoría (por ejemplo, detectar si una transacción se trata de fraude o no).\n",
    "Regresión: Predecir un valor continuo (por ejemplo, el precio de una casa).\n",
    "\n",
    "### Algoritmos representativos:\n",
    "\n",
    "- Regresión logística (Logistic Regression): LogisticRegression\n",
    "- Regresión lineal: LinearRegression\n",
    "- Árboles de decisión (Decision Trees): DecisionTreeClassifier / DecisionTreeRegressor\n",
    "- Random Forest: RandomForestClassifier / RandomForestRegressor\n",
    "- Gradient-Boosted Trees: GBTClassifier / GBTRegressor\n",
    "- NaiveBayes (para clasificación probabilística)\n",
    "\n",
    "\n",
    "### 🙈 Aprendizaje No Supervisado\n",
    "\n",
    "El aprendizaje no supervisado se utiliza cuando los datos no están etiquetados. El objetivo es encontrar patrones, relaciones o estructuras ocultas en los datos.\n",
    "\n",
    "Uno de los problemas a resolver dentro del aprendizaje no supervisado, son los relacionados a:\n",
    "\n",
    "Agrupamiento (clustering): Agrupar objetos similares (por ejemplo, segmentación de clientes).\n",
    "\n",
    "## Algortimos representativos:\n",
    "\n",
    "- K-means: KMeans\n",
    "\n",
    "## PySpark MLlib\n",
    "\n",
    "- Librería original de PySpark.\n",
    "- Basada en RDDs (Resilient Distributed Datasets).\n",
    "\n",
    "## PySpark ML\n",
    "\n",
    "- Librería recomendada actualmente para ML en Spark.\n",
    "- Basada en DataFrames (similares a los de pandas).\n",
    "- Mejor integración con SQL.\n",
    "- Mejor optimización y paralelización.\n"
   ]
  },
  {
   "cell_type": "markdown",
   "id": "99ad3b94",
   "metadata": {},
   "source": [
    "# 2. Importar librerías"
   ]
  },
  {
   "cell_type": "code",
   "execution_count": 2,
   "id": "47818c47",
   "metadata": {},
   "outputs": [],
   "source": [
    "from pyspark.sql import SparkSession\n",
    "from pyspark.sql.functions import col\n",
    "from pyspark.ml.feature import StringIndexer, VectorAssembler\n",
    "from pyspark.ml.classification import RandomForestClassifier\n",
    "from pyspark.ml.evaluation import MulticlassClassificationEvaluator\n",
    "from pyspark.ml.clustering import KMeans\n",
    "from pyspark.ml.evaluation import ClusteringEvaluator"
   ]
  },
  {
   "cell_type": "code",
   "execution_count": 3,
   "id": "f5c9073e",
   "metadata": {},
   "outputs": [
    {
     "name": "stderr",
     "output_type": "stream",
     "text": [
      "25/05/24 18:43:50 WARN Utils: Your hostname, MacBook-Air-de-Oscar-2.local resolves to a loopback address: 127.0.0.1; using 192.168.68.117 instead (on interface en0)\n",
      "25/05/24 18:43:50 WARN Utils: Set SPARK_LOCAL_IP if you need to bind to another address\n",
      "Setting default log level to \"WARN\".\n",
      "To adjust logging level use sc.setLogLevel(newLevel). For SparkR, use setLogLevel(newLevel).\n",
      "25/05/24 18:43:50 WARN NativeCodeLoader: Unable to load native-hadoop library for your platform... using builtin-java classes where applicable\n"
     ]
    }
   ],
   "source": [
    "spark = SparkSession.builder \\\n",
    "    .appName(\"Aprendizaje Supervisado y No Supervisado\") \\\n",
    "    .getOrCreate()\n"
   ]
  },
  {
   "cell_type": "code",
   "execution_count": 4,
   "id": "72bff442",
   "metadata": {},
   "outputs": [
    {
     "name": "stderr",
     "output_type": "stream",
     "text": [
      "25/05/24 18:44:05 WARN GarbageCollectionMetrics: To enable non-built-in garbage collector(s) List(G1 Concurrent GC), users should configure it(them) to spark.eventLog.gcMetrics.youngGenerationGarbageCollectors or spark.eventLog.gcMetrics.oldGenerationGarbageCollectors\n",
      "25/05/24 18:44:05 WARN SparkStringUtils: Truncated the string representation of a plan since it was too large. This behavior can be adjusted by setting 'spark.sql.debug.maxToStringFields'.\n"
     ]
    },
    {
     "name": "stdout",
     "output_type": "stream",
     "text": [
      "+---+-------+--------+-------------------+-------------------+-----------------+------------------+-------+-------+------------+--------------------+--------------------+------------+----------+-----+----------+-------+----------+------------+-------------------+--------------+-------------+-----------+------------+--------------+--------------+---------------+-----------------+-----------------+-------+-----+--------+--------+--------+-------+-------+----------+-------+-----+---------------+--------------+------------+--------------+--------------+-----------------+---------------------+\n",
      "| ID| Source|Severity|         Start_Time|           End_Time|        Start_Lat|         Start_Lng|End_Lat|End_Lng|Distance(mi)|         Description|              Street|        City|    County|State|   Zipcode|Country|  Timezone|Airport_Code|  Weather_Timestamp|Temperature(F)|Wind_Chill(F)|Humidity(%)|Pressure(in)|Visibility(mi)|Wind_Direction|Wind_Speed(mph)|Precipitation(in)|Weather_Condition|Amenity| Bump|Crossing|Give_Way|Junction|No_Exit|Railway|Roundabout|Station| Stop|Traffic_Calming|Traffic_Signal|Turning_Loop|Sunrise_Sunset|Civil_Twilight|Nautical_Twilight|Astronomical_Twilight|\n",
      "+---+-------+--------+-------------------+-------------------+-----------------+------------------+-------+-------+------------+--------------------+--------------------+------------+----------+-----+----------+-------+----------+------------+-------------------+--------------+-------------+-----------+------------+--------------+--------------+---------------+-----------------+-----------------+-------+-----+--------+--------+--------+-------+-------+----------+-------+-----+---------------+--------------+------------+--------------+--------------+-----------------+---------------------+\n",
      "|A-1|Source2|       3|2016-02-08 05:46:00|2016-02-08 11:00:00|        39.865147|        -84.058723|   NULL|   NULL|        0.01|Right lane blocke...|              I-70 E|      Dayton|Montgomery|   OH|     45424|     US|US/Eastern|        KFFO|2016-02-08 05:58:00|          36.9|         NULL|       91.0|       29.68|          10.0|          Calm|           NULL|             0.02|       Light Rain|  false|false|   false|   false|   false|  false|  false|     false|  false|false|          false|         false|       false|         Night|         Night|            Night|                Night|\n",
      "|A-2|Source2|       2|2016-02-08 06:07:59|2016-02-08 06:37:59|39.92805900000001|        -82.831184|   NULL|   NULL|        0.01|Accident on Brice...|            Brice Rd|Reynoldsburg|  Franklin|   OH|43068-3402|     US|US/Eastern|        KCMH|2016-02-08 05:51:00|          37.9|         NULL|      100.0|       29.65|          10.0|          Calm|           NULL|              0.0|       Light Rain|  false|false|   false|   false|   false|  false|  false|     false|  false|false|          false|         false|       false|         Night|         Night|            Night|                  Day|\n",
      "|A-3|Source2|       2|2016-02-08 06:49:27|2016-02-08 07:19:27|        39.063148|        -84.032608|   NULL|   NULL|        0.01|Accident on OH-32...|      State Route 32|Williamsburg|  Clermont|   OH|     45176|     US|US/Eastern|        KI69|2016-02-08 06:56:00|          36.0|         33.3|      100.0|       29.67|          10.0|            SW|            3.5|             NULL|         Overcast|  false|false|   false|   false|   false|  false|  false|     false|  false|false|          false|          true|       false|         Night|         Night|              Day|                  Day|\n",
      "|A-4|Source2|       3|2016-02-08 07:23:34|2016-02-08 07:53:34|        39.747753|-84.20558199999998|   NULL|   NULL|        0.01|Accident on I-75 ...|              I-75 S|      Dayton|Montgomery|   OH|     45417|     US|US/Eastern|        KDAY|2016-02-08 07:38:00|          35.1|         31.0|       96.0|       29.64|           9.0|            SW|            4.6|             NULL|    Mostly Cloudy|  false|false|   false|   false|   false|  false|  false|     false|  false|false|          false|         false|       false|         Night|           Day|              Day|                  Day|\n",
      "|A-5|Source2|       2|2016-02-08 07:39:07|2016-02-08 08:09:07|        39.627781|        -84.188354|   NULL|   NULL|        0.01|Accident on McEwe...|Miamisburg Center...|      Dayton|Montgomery|   OH|     45459|     US|US/Eastern|        KMGY|2016-02-08 07:53:00|          36.0|         33.3|       89.0|       29.65|           6.0|            SW|            3.5|             NULL|    Mostly Cloudy|  false|false|   false|   false|   false|  false|  false|     false|  false|false|          false|          true|       false|           Day|           Day|              Day|                  Day|\n",
      "+---+-------+--------+-------------------+-------------------+-----------------+------------------+-------+-------+------------+--------------------+--------------------+------------+----------+-----+----------+-------+----------+------------+-------------------+--------------+-------------+-----------+------------+--------------+--------------+---------------+-----------------+-----------------+-------+-----+--------+--------+--------+-------+-------+----------+-------+-----+---------------+--------------+------------+--------------+--------------+-----------------+---------------------+\n",
      "only showing top 5 rows\n",
      "\n"
     ]
    }
   ],
   "source": [
    "df = spark.read.csv(\"/Users/oscgarcia/Documents/MNA/Análisis de Grandes Volúmenes de Datos/US_Accidents_Dec19.csv\", header=True, inferSchema=True)\n",
    "df.show(5)"
   ]
  },
  {
   "cell_type": "code",
   "execution_count": 12,
   "id": "d0e22741",
   "metadata": {},
   "outputs": [
    {
     "name": "stdout",
     "output_type": "stream",
     "text": [
      "+--------------+-----------------+--------+-----------+------------+--------------+---------------+-----------------+\n",
      "|Temperature(F)|Weather_Condition|Severity|Humidity(%)|Pressure(in)|Wind_Direction|Wind_Speed(mph)|Precipitation(in)|\n",
      "+--------------+-----------------+--------+-----------+------------+--------------+---------------+-----------------+\n",
      "|          36.9|       Light Rain|       3|       91.0|       29.68|          Calm|           NULL|             0.02|\n",
      "|          37.9|       Light Rain|       2|      100.0|       29.65|          Calm|           NULL|              0.0|\n",
      "|          36.0|         Overcast|       2|      100.0|       29.67|            SW|            3.5|             NULL|\n",
      "|          35.1|    Mostly Cloudy|       3|       96.0|       29.64|            SW|            4.6|             NULL|\n",
      "|          36.0|    Mostly Cloudy|       2|       89.0|       29.65|            SW|            3.5|             NULL|\n",
      "|          37.9|       Light Rain|       3|       97.0|       29.63|           SSW|            3.5|             0.03|\n",
      "|          34.0|         Overcast|       2|      100.0|       29.66|           WSW|            3.5|             NULL|\n",
      "|          34.0|         Overcast|       3|      100.0|       29.66|           WSW|            3.5|             NULL|\n",
      "|          33.3|    Mostly Cloudy|       2|       99.0|       29.67|            SW|            1.2|             NULL|\n",
      "|          37.4|       Light Rain|       3|      100.0|       29.62|           SSW|            4.6|             0.02|\n",
      "|          35.6|             Rain|       3|       93.0|       29.64|           WNW|            5.8|             NULL|\n",
      "|          37.4|       Light Rain|       3|      100.0|       29.62|           SSW|            4.6|             0.02|\n",
      "|          33.8|         Overcast|       2|      100.0|       29.63|            SW|            2.3|             NULL|\n",
      "|          36.0|    Mostly Cloudy|       2|       89.0|       29.65|            NW|            5.8|             NULL|\n",
      "|          37.4|       Light Rain|       2|      100.0|       29.62|           SSW|            4.6|             0.02|\n",
      "|          33.8|         Overcast|       2|      100.0|       29.63|            SW|            2.3|             NULL|\n",
      "|          35.6|    Mostly Cloudy|       2|       99.0|       29.65|           WSW|            2.3|             NULL|\n",
      "|          36.0|    Mostly Cloudy|       2|       89.0|       29.65|            NW|            5.8|             NULL|\n",
      "|          37.4|         Overcast|       2|       93.0|       29.63|           WSW|            6.9|             NULL|\n",
      "|          36.0|    Mostly Cloudy|       2|       89.0|       29.65|          West|            6.9|             NULL|\n",
      "+--------------+-----------------+--------+-----------+------------+--------------+---------------+-----------------+\n",
      "only showing top 20 rows\n",
      "\n"
     ]
    }
   ],
   "source": [
    "cols_to_select = [\"Temperature(F)\",\"Weather_Condition\",\"Severity\",\n",
    "               \"Humidity(%)\", \"Pressure(in)\", \"Wind_Direction\",\n",
    "               \"Wind_Speed(mph)\",\"Precipitation(in)\"]\n",
    "\n",
    "df = df.select(cols_to_select\n",
    "               )\n",
    "df.show()"
   ]
  },
  {
   "cell_type": "code",
   "execution_count": 17,
   "id": "50de30d7",
   "metadata": {},
   "outputs": [
    {
     "name": "stdout",
     "output_type": "stream",
     "text": [
      "+--------------+-----------------+--------+-----------+------------+--------------+---------------+-----------------+\n",
      "|Temperature(F)|Weather_Condition|Severity|Humidity(%)|Pressure(in)|Wind_Direction|Wind_Speed(mph)|Precipitation(in)|\n",
      "+--------------+-----------------+--------+-----------+------------+--------------+---------------+-----------------+\n",
      "|          87.0|             Fair|       2|       35.0|       29.11|           SSE|            8.0|              0.0|\n",
      "|          94.0|             Fair|       2|       31.0|       29.08|           SSE|            9.0|              0.0|\n",
      "|          85.0|             Fair|       2|       44.0|       29.07|             S|           10.0|              0.0|\n",
      "|          85.0|             Fair|       2|       44.0|       29.07|             S|           10.0|              0.0|\n",
      "|          85.0|             Fair|       2|       44.0|       29.07|             S|           10.0|              0.0|\n",
      "+--------------+-----------------+--------+-----------+------------+--------------+---------------+-----------------+\n",
      "only showing top 5 rows\n",
      "\n"
     ]
    }
   ],
   "source": [
    "reglas_particionamiento = [\n",
    "    {\"Weather_Condition\": \"Fair\", \"Severity\": 2},\n",
    "    {\"Weather_Condition\": \"Mostly Cloudy\", \"Severity\": 2},\n",
    "    {\"Weather_Condition\": \"Cloudy\", \"Severity\": 2},\n",
    "    {\"Weather_Condition\": \"Partly Cloudy\", \"Severity\": 2},\n",
    "    {\"Weather_Condition\": \"Clear\", \"Severity\": 2},\n",
    "    {\"Weather_Condition\": \"Light Rain\", \"Severity\": 2},\n",
    "    {\"Weather_Condition\": \"Overcast\", \"Severity\": 2},\n",
    "    {\"Weather_Condition\": \"Clear\", \"Severity\": 3},\n",
    "    {\"Weather_Condition\": \"Fair\", \"Severity\": 3},\n",
    "    {\"Weather_Condition\": \"Mostly Cloudy\", \"Severity\": 3},\n",
    "]\n",
    "\n",
    "muestras = []\n",
    "tamaño_muestra_por_particion = 10000\n",
    "\n",
    "for regla in reglas_particionamiento:\n",
    "    condicion_clima = regla[\"Weather_Condition\"]\n",
    "    severidad = regla[\"Severity\"]\n",
    "\n",
    "    df_filtrado = df.filter(\n",
    "        (col(\"Weather_Condition\") == condicion_clima) &\n",
    "        (col(\"Severity\") == severidad)\n",
    "    ).limit(tamaño_muestra_por_particion)\n",
    "\n",
    "    muestras.append(df_filtrado)\n",
    "\n",
    "df_muestra_M = muestras[0]\n",
    "for df_temp in muestras[1:]:\n",
    "    df_muestra_M = df_muestra_M.union(df_temp)\n",
    "\n",
    "df_muestra_M.show(5)\n"
   ]
  },
  {
   "cell_type": "code",
   "execution_count": 14,
   "id": "be055409",
   "metadata": {},
   "outputs": [
    {
     "name": "stderr",
     "output_type": "stream",
     "text": [
      "                                                                                \r"
     ]
    },
    {
     "data": {
      "text/plain": [
       "100000"
      ]
     },
     "execution_count": 14,
     "metadata": {},
     "output_type": "execute_result"
    }
   ],
   "source": [
    "df_muestra_M.count()"
   ]
  },
  {
   "cell_type": "code",
   "execution_count": 18,
   "id": "67379401",
   "metadata": {},
   "outputs": [
    {
     "name": "stderr",
     "output_type": "stream",
     "text": [
      "[Stage 215:===========================================>           (18 + 5) / 23]\r"
     ]
    },
    {
     "name": "stdout",
     "output_type": "stream",
     "text": [
      "+--------------+-----------------+--------+-----------+------------+--------------+---------------+-----------------+---------------------+------------------+--------------------+\n",
      "|Temperature(F)|Weather_Condition|Severity|Humidity(%)|Pressure(in)|Wind_Direction|Wind_Speed(mph)|Precipitation(in)|Weather_Condition_idx|Wind_Direction_idx|            features|\n",
      "+--------------+-----------------+--------+-----------+------------+--------------+---------------+-----------------+---------------------+------------------+--------------------+\n",
      "|          87.0|             Fair|       2|       35.0|       29.11|           SSE|            8.0|              0.0|                  0.0|               2.0|[87.0,0.0,2.0,35....|\n",
      "|          94.0|             Fair|       2|       31.0|       29.08|           SSE|            9.0|              0.0|                  0.0|               2.0|[94.0,0.0,2.0,31....|\n",
      "|          85.0|             Fair|       2|       44.0|       29.07|             S|           10.0|              0.0|                  0.0|               1.0|[85.0,0.0,2.0,44....|\n",
      "|          85.0|             Fair|       2|       44.0|       29.07|             S|           10.0|              0.0|                  0.0|               1.0|[85.0,0.0,2.0,44....|\n",
      "|          85.0|             Fair|       2|       44.0|       29.07|             S|           10.0|              0.0|                  0.0|               1.0|[85.0,0.0,2.0,44....|\n",
      "+--------------+-----------------+--------+-----------+------------+--------------+---------------+-----------------+---------------------+------------------+--------------------+\n",
      "only showing top 5 rows\n",
      "\n"
     ]
    },
    {
     "name": "stderr",
     "output_type": "stream",
     "text": [
      "                                                                                \r"
     ]
    }
   ],
   "source": [
    "df_muestra_M = df_muestra_M.dropna()\n",
    "\n",
    "# Convertimos columnas categóricas a numéricas\n",
    "indexers = [StringIndexer(inputCol=\"Weather_Condition\", outputCol=\"Weather_Condition_idx\"),\n",
    "            StringIndexer(inputCol=\"Wind_Direction\", outputCol=\"Wind_Direction_idx\")\n",
    "            ]\n",
    "\n",
    "for indexer in indexers:\n",
    "    df_muestra_M = indexer.fit(df_muestra_M).transform(df_muestra_M)\n",
    "\n",
    "# Armamos el vector de características (se pueden agregar más columnas)\n",
    "assembler = VectorAssembler(\n",
    "    inputCols=[\"Temperature(F)\",\"Weather_Condition_idx\",\"Severity\",\n",
    "               \"Humidity(%)\", \"Pressure(in)\", \"Wind_Direction_idx\",\n",
    "               \"Wind_Speed(mph)\",\"Precipitation(in)\"],\n",
    "    outputCol=\"features\"\n",
    ")\n",
    "\n",
    "df_preprocesado = assembler.transform(df_muestra_M)\n",
    "df_preprocesado.show(5)\n"
   ]
  },
  {
   "cell_type": "code",
   "execution_count": 19,
   "id": "51637f1f",
   "metadata": {},
   "outputs": [],
   "source": [
    "train_data, test_data = df_preprocesado.randomSplit([0.8, 0.2], seed=42)"
   ]
  },
  {
   "cell_type": "code",
   "execution_count": 20,
   "id": "4f21fc38",
   "metadata": {},
   "outputs": [
    {
     "name": "stderr",
     "output_type": "stream",
     "text": [
      "[Stage 393:===============================================>       (20 + 3) / 23]\r"
     ]
    },
    {
     "name": "stdout",
     "output_type": "stream",
     "text": [
      "Precisión: 1.0\n"
     ]
    },
    {
     "name": "stderr",
     "output_type": "stream",
     "text": [
      "                                                                                \r"
     ]
    }
   ],
   "source": [
    "modelo_rf = RandomForestClassifier(labelCol=\"Severity\", featuresCol=\"features\")\n",
    "modelo_entrenado = modelo_rf.fit(train_data)\n",
    "predicciones = modelo_entrenado.transform(test_data)\n",
    "\n",
    "evaluador = MulticlassClassificationEvaluator(labelCol=\"Severity\", predictionCol=\"prediction\", metricName=\"accuracy\")\n",
    "precision = evaluador.evaluate(predicciones)\n",
    "print(f\"Precisión: {precision}\")\n"
   ]
  },
  {
   "cell_type": "code",
   "execution_count": 21,
   "id": "07425423",
   "metadata": {},
   "outputs": [
    {
     "name": "stderr",
     "output_type": "stream",
     "text": [
      "25/05/24 19:00:59 WARN InstanceBuilder: Failed to load implementation from:dev.ludovic.netlib.blas.JNIBLAS\n",
      "25/05/24 19:00:59 WARN InstanceBuilder: Failed to load implementation from:dev.ludovic.netlib.blas.VectorBLAS\n",
      "[Stage 841:===============================================>       (20 + 3) / 23]\r"
     ]
    },
    {
     "name": "stdout",
     "output_type": "stream",
     "text": [
      "Silhouette Score: 0.48605629359221414\n"
     ]
    },
    {
     "name": "stderr",
     "output_type": "stream",
     "text": [
      "                                                                                \r"
     ]
    }
   ],
   "source": [
    "modelo_kmeans = KMeans(k=3, featuresCol=\"features\")\n",
    "modelo_kmeans_entrenado = modelo_kmeans.fit(df_preprocesado)\n",
    "clusters = modelo_kmeans_entrenado.transform(df_preprocesado)\n",
    "\n",
    "evaluador_cluster = ClusteringEvaluator()\n",
    "silhouette = evaluador_cluster.evaluate(clusters)\n",
    "print(f\"Silhouette Score: {silhouette}\")"
   ]
  },
  {
   "cell_type": "code",
   "execution_count": null,
   "id": "e2b32119",
   "metadata": {},
   "outputs": [],
   "source": []
  }
 ],
 "metadata": {
  "kernelspec": {
   "display_name": "env-pyspark-mna",
   "language": "python",
   "name": "python3"
  },
  "language_info": {
   "codemirror_mode": {
    "name": "ipython",
    "version": 3
   },
   "file_extension": ".py",
   "mimetype": "text/x-python",
   "name": "python",
   "nbconvert_exporter": "python",
   "pygments_lexer": "ipython3",
   "version": "3.12.9"
  }
 },
 "nbformat": 4,
 "nbformat_minor": 5
}
